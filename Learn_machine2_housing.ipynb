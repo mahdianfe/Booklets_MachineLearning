{
 "nbformat": 4,
 "nbformat_minor": 0,
 "metadata": {
  "colab": {
   "provenance": []
  },
  "kernelspec": {
   "name": "python3",
   "display_name": "Python 3 (ipykernel)",
   "language": "python"
  },
  "language_info": {
   "name": "python"
  }
 },
 "cells": [
  {
   "cell_type": "code",
   "source": [
    "# !pip uninstall scikit-learn\n",
    "# !pip install scikit-learn==1.2.0"
   ],
   "metadata": {
    "id": "q8CSvPaAzBn8",
    "colab": {
     "base_uri": "https://localhost:8080/"
    },
    "outputId": "4793474f-fab2-4cf5-b7e9-91cbd2632c82",
    "ExecuteTime": {
     "end_time": "2025-03-18T02:36:47.566399Z",
     "start_time": "2025-03-18T02:36:47.563371Z"
    }
   },
   "outputs": [],
   "execution_count": 1
  },
  {
   "cell_type": "code",
   "source": [
    "import sklearn\n",
    "sklearn.__version__"
   ],
   "metadata": {
    "colab": {
     "base_uri": "https://localhost:8080/",
     "height": 35
    },
    "id": "Om2YUmGUzDIg",
    "outputId": "b96c2906-fce5-4136-b3f8-dc714d64c1b3",
    "ExecuteTime": {
     "end_time": "2025-03-18T02:36:47.625690Z",
     "start_time": "2025-03-18T02:36:47.566903Z"
    }
   },
   "outputs": [
    {
     "data": {
      "text/plain": [
       "'1.6.1'"
      ]
     },
     "execution_count": 2,
     "metadata": {},
     "output_type": "execute_result"
    }
   ],
   "execution_count": 2
  },
  {
   "cell_type": "code",
   "metadata": {
    "id": "2migWSktwaMz",
    "ExecuteTime": {
     "end_time": "2025-03-18T02:36:47.629675Z",
     "start_time": "2025-03-18T02:36:47.626707Z"
    }
   },
   "source": [
    "import numpy as np\n",
    "import pandas as pd\n",
    "import matplotlib.pyplot as plt\n",
    "import seaborn as sns"
   ],
   "outputs": [],
   "execution_count": 3
  },
  {
   "cell_type": "markdown",
   "source": [
    "# Reading data"
   ],
   "metadata": {
    "id": "vbLMDMQg698C"
   }
  },
  {
   "cell_type": "code",
   "source": [
    "df = pd.read_csv(\"housing.csv\")"
   ],
   "metadata": {
    "id": "SjAp4cjMwjcj",
    "ExecuteTime": {
     "end_time": "2025-03-18T02:36:47.654379Z",
     "start_time": "2025-03-18T02:36:47.630682Z"
    }
   },
   "outputs": [],
   "execution_count": 4
  },
  {
   "cell_type": "code",
   "source": [
    "df"
   ],
   "metadata": {
    "colab": {
     "base_uri": "https://localhost:8080/",
     "height": 487
    },
    "id": "nx8uy21d5Sww",
    "outputId": "f3e0dcb1-8727-4cab-c16e-31e0fc7d209c",
    "ExecuteTime": {
     "end_time": "2025-03-18T02:36:47.669614Z",
     "start_time": "2025-03-18T02:36:47.654379Z"
    }
   },
   "outputs": [
    {
     "data": {
      "text/plain": [
       "       longitude  latitude  housing_median_age  total_rooms  total_bedrooms  \\\n",
       "0        -122.23     37.88                41.0        880.0           129.0   \n",
       "1        -122.22     37.86                21.0       7099.0          1106.0   \n",
       "2        -122.24     37.85                52.0       1467.0           190.0   \n",
       "3        -122.25     37.85                52.0       1274.0           235.0   \n",
       "4        -122.25     37.85                52.0       1627.0           280.0   \n",
       "...          ...       ...                 ...          ...             ...   \n",
       "20635    -121.09     39.48                25.0       1665.0           374.0   \n",
       "20636    -121.21     39.49                18.0        697.0           150.0   \n",
       "20637    -121.22     39.43                17.0       2254.0           485.0   \n",
       "20638    -121.32     39.43                18.0       1860.0           409.0   \n",
       "20639    -121.24     39.37                16.0       2785.0           616.0   \n",
       "\n",
       "       population  households  median_income  median_house_value  \\\n",
       "0           322.0       126.0         8.3252            452600.0   \n",
       "1          2401.0      1138.0         8.3014            358500.0   \n",
       "2           496.0       177.0         7.2574            352100.0   \n",
       "3           558.0       219.0         5.6431            341300.0   \n",
       "4           565.0       259.0         3.8462            342200.0   \n",
       "...           ...         ...            ...                 ...   \n",
       "20635       845.0       330.0         1.5603             78100.0   \n",
       "20636       356.0       114.0         2.5568             77100.0   \n",
       "20637      1007.0       433.0         1.7000             92300.0   \n",
       "20638       741.0       349.0         1.8672             84700.0   \n",
       "20639      1387.0       530.0         2.3886             89400.0   \n",
       "\n",
       "      ocean_proximity  \n",
       "0            NEAR BAY  \n",
       "1            NEAR BAY  \n",
       "2            NEAR BAY  \n",
       "3            NEAR BAY  \n",
       "4            NEAR BAY  \n",
       "...               ...  \n",
       "20635          INLAND  \n",
       "20636          INLAND  \n",
       "20637          INLAND  \n",
       "20638          INLAND  \n",
       "20639          INLAND  \n",
       "\n",
       "[20640 rows x 10 columns]"
      ],
      "text/html": [
       "<div>\n",
       "<style scoped>\n",
       "    .dataframe tbody tr th:only-of-type {\n",
       "        vertical-align: middle;\n",
       "    }\n",
       "\n",
       "    .dataframe tbody tr th {\n",
       "        vertical-align: top;\n",
       "    }\n",
       "\n",
       "    .dataframe thead th {\n",
       "        text-align: right;\n",
       "    }\n",
       "</style>\n",
       "<table border=\"1\" class=\"dataframe\">\n",
       "  <thead>\n",
       "    <tr style=\"text-align: right;\">\n",
       "      <th></th>\n",
       "      <th>longitude</th>\n",
       "      <th>latitude</th>\n",
       "      <th>housing_median_age</th>\n",
       "      <th>total_rooms</th>\n",
       "      <th>total_bedrooms</th>\n",
       "      <th>population</th>\n",
       "      <th>households</th>\n",
       "      <th>median_income</th>\n",
       "      <th>median_house_value</th>\n",
       "      <th>ocean_proximity</th>\n",
       "    </tr>\n",
       "  </thead>\n",
       "  <tbody>\n",
       "    <tr>\n",
       "      <th>0</th>\n",
       "      <td>-122.23</td>\n",
       "      <td>37.88</td>\n",
       "      <td>41.0</td>\n",
       "      <td>880.0</td>\n",
       "      <td>129.0</td>\n",
       "      <td>322.0</td>\n",
       "      <td>126.0</td>\n",
       "      <td>8.3252</td>\n",
       "      <td>452600.0</td>\n",
       "      <td>NEAR BAY</td>\n",
       "    </tr>\n",
       "    <tr>\n",
       "      <th>1</th>\n",
       "      <td>-122.22</td>\n",
       "      <td>37.86</td>\n",
       "      <td>21.0</td>\n",
       "      <td>7099.0</td>\n",
       "      <td>1106.0</td>\n",
       "      <td>2401.0</td>\n",
       "      <td>1138.0</td>\n",
       "      <td>8.3014</td>\n",
       "      <td>358500.0</td>\n",
       "      <td>NEAR BAY</td>\n",
       "    </tr>\n",
       "    <tr>\n",
       "      <th>2</th>\n",
       "      <td>-122.24</td>\n",
       "      <td>37.85</td>\n",
       "      <td>52.0</td>\n",
       "      <td>1467.0</td>\n",
       "      <td>190.0</td>\n",
       "      <td>496.0</td>\n",
       "      <td>177.0</td>\n",
       "      <td>7.2574</td>\n",
       "      <td>352100.0</td>\n",
       "      <td>NEAR BAY</td>\n",
       "    </tr>\n",
       "    <tr>\n",
       "      <th>3</th>\n",
       "      <td>-122.25</td>\n",
       "      <td>37.85</td>\n",
       "      <td>52.0</td>\n",
       "      <td>1274.0</td>\n",
       "      <td>235.0</td>\n",
       "      <td>558.0</td>\n",
       "      <td>219.0</td>\n",
       "      <td>5.6431</td>\n",
       "      <td>341300.0</td>\n",
       "      <td>NEAR BAY</td>\n",
       "    </tr>\n",
       "    <tr>\n",
       "      <th>4</th>\n",
       "      <td>-122.25</td>\n",
       "      <td>37.85</td>\n",
       "      <td>52.0</td>\n",
       "      <td>1627.0</td>\n",
       "      <td>280.0</td>\n",
       "      <td>565.0</td>\n",
       "      <td>259.0</td>\n",
       "      <td>3.8462</td>\n",
       "      <td>342200.0</td>\n",
       "      <td>NEAR BAY</td>\n",
       "    </tr>\n",
       "    <tr>\n",
       "      <th>...</th>\n",
       "      <td>...</td>\n",
       "      <td>...</td>\n",
       "      <td>...</td>\n",
       "      <td>...</td>\n",
       "      <td>...</td>\n",
       "      <td>...</td>\n",
       "      <td>...</td>\n",
       "      <td>...</td>\n",
       "      <td>...</td>\n",
       "      <td>...</td>\n",
       "    </tr>\n",
       "    <tr>\n",
       "      <th>20635</th>\n",
       "      <td>-121.09</td>\n",
       "      <td>39.48</td>\n",
       "      <td>25.0</td>\n",
       "      <td>1665.0</td>\n",
       "      <td>374.0</td>\n",
       "      <td>845.0</td>\n",
       "      <td>330.0</td>\n",
       "      <td>1.5603</td>\n",
       "      <td>78100.0</td>\n",
       "      <td>INLAND</td>\n",
       "    </tr>\n",
       "    <tr>\n",
       "      <th>20636</th>\n",
       "      <td>-121.21</td>\n",
       "      <td>39.49</td>\n",
       "      <td>18.0</td>\n",
       "      <td>697.0</td>\n",
       "      <td>150.0</td>\n",
       "      <td>356.0</td>\n",
       "      <td>114.0</td>\n",
       "      <td>2.5568</td>\n",
       "      <td>77100.0</td>\n",
       "      <td>INLAND</td>\n",
       "    </tr>\n",
       "    <tr>\n",
       "      <th>20637</th>\n",
       "      <td>-121.22</td>\n",
       "      <td>39.43</td>\n",
       "      <td>17.0</td>\n",
       "      <td>2254.0</td>\n",
       "      <td>485.0</td>\n",
       "      <td>1007.0</td>\n",
       "      <td>433.0</td>\n",
       "      <td>1.7000</td>\n",
       "      <td>92300.0</td>\n",
       "      <td>INLAND</td>\n",
       "    </tr>\n",
       "    <tr>\n",
       "      <th>20638</th>\n",
       "      <td>-121.32</td>\n",
       "      <td>39.43</td>\n",
       "      <td>18.0</td>\n",
       "      <td>1860.0</td>\n",
       "      <td>409.0</td>\n",
       "      <td>741.0</td>\n",
       "      <td>349.0</td>\n",
       "      <td>1.8672</td>\n",
       "      <td>84700.0</td>\n",
       "      <td>INLAND</td>\n",
       "    </tr>\n",
       "    <tr>\n",
       "      <th>20639</th>\n",
       "      <td>-121.24</td>\n",
       "      <td>39.37</td>\n",
       "      <td>16.0</td>\n",
       "      <td>2785.0</td>\n",
       "      <td>616.0</td>\n",
       "      <td>1387.0</td>\n",
       "      <td>530.0</td>\n",
       "      <td>2.3886</td>\n",
       "      <td>89400.0</td>\n",
       "      <td>INLAND</td>\n",
       "    </tr>\n",
       "  </tbody>\n",
       "</table>\n",
       "<p>20640 rows × 10 columns</p>\n",
       "</div>"
      ]
     },
     "execution_count": 5,
     "metadata": {},
     "output_type": "execute_result"
    }
   ],
   "execution_count": 5
  },
  {
   "cell_type": "code",
   "source": [
    "df.info()"
   ],
   "metadata": {
    "colab": {
     "base_uri": "https://localhost:8080/"
    },
    "id": "wAiZT1fB5bDM",
    "outputId": "dcbba1b6-2b7e-4ba7-f389-6a59558e93db",
    "ExecuteTime": {
     "end_time": "2025-03-18T02:36:47.678254Z",
     "start_time": "2025-03-18T02:36:47.670119Z"
    }
   },
   "outputs": [
    {
     "name": "stdout",
     "output_type": "stream",
     "text": [
      "<class 'pandas.core.frame.DataFrame'>\n",
      "RangeIndex: 20640 entries, 0 to 20639\n",
      "Data columns (total 10 columns):\n",
      " #   Column              Non-Null Count  Dtype  \n",
      "---  ------              --------------  -----  \n",
      " 0   longitude           20640 non-null  float64\n",
      " 1   latitude            20640 non-null  float64\n",
      " 2   housing_median_age  20640 non-null  float64\n",
      " 3   total_rooms         20640 non-null  float64\n",
      " 4   total_bedrooms      20433 non-null  float64\n",
      " 5   population          20640 non-null  float64\n",
      " 6   households          20640 non-null  float64\n",
      " 7   median_income       20640 non-null  float64\n",
      " 8   median_house_value  20640 non-null  float64\n",
      " 9   ocean_proximity     20640 non-null  object \n",
      "dtypes: float64(9), object(1)\n",
      "memory usage: 1.6+ MB\n"
     ]
    }
   ],
   "execution_count": 6
  },
  {
   "cell_type": "code",
   "source": [
    "# تعداد برای متغیرهایی که در خانه های مجاور اقیانوس امده\n",
    "df.ocean_proximity.value_counts()"
   ],
   "metadata": {
    "colab": {
     "base_uri": "https://localhost:8080/"
    },
    "id": "WPrTi8fE5qxM",
    "outputId": "bd90093f-4978-44d6-ee89-90c62c3d4bf7",
    "ExecuteTime": {
     "end_time": "2025-03-18T02:36:47.683849Z",
     "start_time": "2025-03-18T02:36:47.678758Z"
    }
   },
   "outputs": [
    {
     "data": {
      "text/plain": [
       "ocean_proximity\n",
       "<1H OCEAN     9136\n",
       "INLAND        6551\n",
       "NEAR OCEAN    2658\n",
       "NEAR BAY      2290\n",
       "ISLAND           5\n",
       "Name: count, dtype: int64"
      ]
     },
     "execution_count": 7,
     "metadata": {},
     "output_type": "execute_result"
    }
   ],
   "execution_count": 7
  },
  {
   "cell_type": "code",
   "source": [
    "type(df)"
   ],
   "metadata": {
    "colab": {
     "base_uri": "https://localhost:8080/"
    },
    "id": "KEGqsQGi6mj_",
    "outputId": "7bc2f79f-7915-4468-d6b9-f613a6f2092d",
    "ExecuteTime": {
     "end_time": "2025-03-18T02:36:47.688211Z",
     "start_time": "2025-03-18T02:36:47.684935Z"
    }
   },
   "outputs": [
    {
     "data": {
      "text/plain": [
       "pandas.core.frame.DataFrame"
      ]
     },
     "execution_count": 8,
     "metadata": {},
     "output_type": "execute_result"
    }
   ],
   "execution_count": 8
  },
  {
   "cell_type": "code",
   "source": [
    "df.describe()"
   ],
   "metadata": {
    "colab": {
     "base_uri": "https://localhost:8080/",
     "height": 364
    },
    "id": "fTj8IS286SBT",
    "outputId": "fe854b8c-6d96-4cfb-ee56-02d677aebb86",
    "ExecuteTime": {
     "end_time": "2025-03-18T02:36:47.710363Z",
     "start_time": "2025-03-18T02:36:47.688211Z"
    }
   },
   "outputs": [
    {
     "data": {
      "text/plain": [
       "          longitude      latitude  housing_median_age   total_rooms  \\\n",
       "count  20640.000000  20640.000000        20640.000000  20640.000000   \n",
       "mean    -119.569704     35.631861           28.639486   2635.763081   \n",
       "std        2.003532      2.135952           12.585558   2181.615252   \n",
       "min     -124.350000     32.540000            1.000000      2.000000   \n",
       "25%     -121.800000     33.930000           18.000000   1447.750000   \n",
       "50%     -118.490000     34.260000           29.000000   2127.000000   \n",
       "75%     -118.010000     37.710000           37.000000   3148.000000   \n",
       "max     -114.310000     41.950000           52.000000  39320.000000   \n",
       "\n",
       "       total_bedrooms    population    households  median_income  \\\n",
       "count    20433.000000  20640.000000  20640.000000   20640.000000   \n",
       "mean       537.870553   1425.476744    499.539680       3.870671   \n",
       "std        421.385070   1132.462122    382.329753       1.899822   \n",
       "min          1.000000      3.000000      1.000000       0.499900   \n",
       "25%        296.000000    787.000000    280.000000       2.563400   \n",
       "50%        435.000000   1166.000000    409.000000       3.534800   \n",
       "75%        647.000000   1725.000000    605.000000       4.743250   \n",
       "max       6445.000000  35682.000000   6082.000000      15.000100   \n",
       "\n",
       "       median_house_value  \n",
       "count        20640.000000  \n",
       "mean        206855.816909  \n",
       "std         115395.615874  \n",
       "min          14999.000000  \n",
       "25%         119600.000000  \n",
       "50%         179700.000000  \n",
       "75%         264725.000000  \n",
       "max         500001.000000  "
      ],
      "text/html": [
       "<div>\n",
       "<style scoped>\n",
       "    .dataframe tbody tr th:only-of-type {\n",
       "        vertical-align: middle;\n",
       "    }\n",
       "\n",
       "    .dataframe tbody tr th {\n",
       "        vertical-align: top;\n",
       "    }\n",
       "\n",
       "    .dataframe thead th {\n",
       "        text-align: right;\n",
       "    }\n",
       "</style>\n",
       "<table border=\"1\" class=\"dataframe\">\n",
       "  <thead>\n",
       "    <tr style=\"text-align: right;\">\n",
       "      <th></th>\n",
       "      <th>longitude</th>\n",
       "      <th>latitude</th>\n",
       "      <th>housing_median_age</th>\n",
       "      <th>total_rooms</th>\n",
       "      <th>total_bedrooms</th>\n",
       "      <th>population</th>\n",
       "      <th>households</th>\n",
       "      <th>median_income</th>\n",
       "      <th>median_house_value</th>\n",
       "    </tr>\n",
       "  </thead>\n",
       "  <tbody>\n",
       "    <tr>\n",
       "      <th>count</th>\n",
       "      <td>20640.000000</td>\n",
       "      <td>20640.000000</td>\n",
       "      <td>20640.000000</td>\n",
       "      <td>20640.000000</td>\n",
       "      <td>20433.000000</td>\n",
       "      <td>20640.000000</td>\n",
       "      <td>20640.000000</td>\n",
       "      <td>20640.000000</td>\n",
       "      <td>20640.000000</td>\n",
       "    </tr>\n",
       "    <tr>\n",
       "      <th>mean</th>\n",
       "      <td>-119.569704</td>\n",
       "      <td>35.631861</td>\n",
       "      <td>28.639486</td>\n",
       "      <td>2635.763081</td>\n",
       "      <td>537.870553</td>\n",
       "      <td>1425.476744</td>\n",
       "      <td>499.539680</td>\n",
       "      <td>3.870671</td>\n",
       "      <td>206855.816909</td>\n",
       "    </tr>\n",
       "    <tr>\n",
       "      <th>std</th>\n",
       "      <td>2.003532</td>\n",
       "      <td>2.135952</td>\n",
       "      <td>12.585558</td>\n",
       "      <td>2181.615252</td>\n",
       "      <td>421.385070</td>\n",
       "      <td>1132.462122</td>\n",
       "      <td>382.329753</td>\n",
       "      <td>1.899822</td>\n",
       "      <td>115395.615874</td>\n",
       "    </tr>\n",
       "    <tr>\n",
       "      <th>min</th>\n",
       "      <td>-124.350000</td>\n",
       "      <td>32.540000</td>\n",
       "      <td>1.000000</td>\n",
       "      <td>2.000000</td>\n",
       "      <td>1.000000</td>\n",
       "      <td>3.000000</td>\n",
       "      <td>1.000000</td>\n",
       "      <td>0.499900</td>\n",
       "      <td>14999.000000</td>\n",
       "    </tr>\n",
       "    <tr>\n",
       "      <th>25%</th>\n",
       "      <td>-121.800000</td>\n",
       "      <td>33.930000</td>\n",
       "      <td>18.000000</td>\n",
       "      <td>1447.750000</td>\n",
       "      <td>296.000000</td>\n",
       "      <td>787.000000</td>\n",
       "      <td>280.000000</td>\n",
       "      <td>2.563400</td>\n",
       "      <td>119600.000000</td>\n",
       "    </tr>\n",
       "    <tr>\n",
       "      <th>50%</th>\n",
       "      <td>-118.490000</td>\n",
       "      <td>34.260000</td>\n",
       "      <td>29.000000</td>\n",
       "      <td>2127.000000</td>\n",
       "      <td>435.000000</td>\n",
       "      <td>1166.000000</td>\n",
       "      <td>409.000000</td>\n",
       "      <td>3.534800</td>\n",
       "      <td>179700.000000</td>\n",
       "    </tr>\n",
       "    <tr>\n",
       "      <th>75%</th>\n",
       "      <td>-118.010000</td>\n",
       "      <td>37.710000</td>\n",
       "      <td>37.000000</td>\n",
       "      <td>3148.000000</td>\n",
       "      <td>647.000000</td>\n",
       "      <td>1725.000000</td>\n",
       "      <td>605.000000</td>\n",
       "      <td>4.743250</td>\n",
       "      <td>264725.000000</td>\n",
       "    </tr>\n",
       "    <tr>\n",
       "      <th>max</th>\n",
       "      <td>-114.310000</td>\n",
       "      <td>41.950000</td>\n",
       "      <td>52.000000</td>\n",
       "      <td>39320.000000</td>\n",
       "      <td>6445.000000</td>\n",
       "      <td>35682.000000</td>\n",
       "      <td>6082.000000</td>\n",
       "      <td>15.000100</td>\n",
       "      <td>500001.000000</td>\n",
       "    </tr>\n",
       "  </tbody>\n",
       "</table>\n",
       "</div>"
      ]
     },
     "execution_count": 9,
     "metadata": {},
     "output_type": "execute_result"
    }
   ],
   "execution_count": 9
  },
  {
   "cell_type": "code",
   "source": "",
   "metadata": {
    "colab": {
     "base_uri": "https://localhost:8080/",
     "height": 618
    },
    "id": "5eaSAomR6pxF",
    "outputId": "491c1254-e831-4a46-aae5-cc660dd014ad",
    "ExecuteTime": {
     "end_time": "2025-03-18T02:36:47.713396Z",
     "start_time": "2025-03-18T02:36:47.710363Z"
    }
   },
   "outputs": [],
   "execution_count": 9
  },
  {
   "metadata": {},
   "cell_type": "markdown",
   "source": ""
  },
  {
   "cell_type": "markdown",
   "source": [
    "---\n",
    "# Train and Test set 1\n",
    "#### این نوع جدا کردن منظور ما نیست\n"
   ],
   "metadata": {
    "id": "lfUi-t2PaCv6"
   }
  },
  {
   "cell_type": "code",
   "source": [
    "def shuffle_and_split_df(df, test_ratio):\n",
    "  np.random.seed(40)\n",
    "  random_indices = np.random.permutation(len(df))\n",
    "  test_set_size = int(len(df) * test_ratio)\n",
    "  test_random_indices = random_indices[:test_set_size]\n",
    "  train_random_indices = random_indices[test_set_size:]\n",
    "  return df.iloc[train_random_indices], df.iloc[test_random_indices]"
   ],
   "metadata": {
    "id": "yvKBzbggaBRV",
    "ExecuteTime": {
     "end_time": "2025-03-18T02:36:47.718113Z",
     "start_time": "2025-03-18T02:36:47.714909Z"
    }
   },
   "outputs": [],
   "execution_count": 10
  },
  {
   "cell_type": "code",
   "source": [
    "train_set, test_set = shuffle_and_split_df(df, 0.2)"
   ],
   "metadata": {
    "id": "7C1DevevayP9",
    "ExecuteTime": {
     "end_time": "2025-03-18T02:36:47.724504Z",
     "start_time": "2025-03-18T02:36:47.718113Z"
    }
   },
   "outputs": [],
   "execution_count": 11
  },
  {
   "cell_type": "code",
   "source": [
    "test_set"
   ],
   "metadata": {
    "colab": {
     "base_uri": "https://localhost:8080/",
     "height": 487
    },
    "id": "36uKeCapb1kk",
    "outputId": "71e25762-8548-486d-cf66-da0e63d80f87",
    "ExecuteTime": {
     "end_time": "2025-03-18T02:36:47.736717Z",
     "start_time": "2025-03-18T02:36:47.724504Z"
    }
   },
   "outputs": [
    {
     "data": {
      "text/plain": [
       "       longitude  latitude  housing_median_age  total_rooms  total_bedrooms  \\\n",
       "6607     -118.14     34.18                47.0       3457.0           622.0   \n",
       "884      -121.97     37.54                31.0       1949.0           344.0   \n",
       "9457     -123.84     39.83                19.0       1461.0           340.0   \n",
       "18681    -121.82     36.86                17.0       1573.0           272.0   \n",
       "4654     -118.33     34.05                48.0       2405.0           527.0   \n",
       "...          ...       ...                 ...          ...             ...   \n",
       "19314    -122.87     38.43                36.0       1987.0           387.0   \n",
       "15433    -117.25     33.20                10.0       2050.0           473.0   \n",
       "3631     -118.43     34.23                35.0       2049.0           390.0   \n",
       "3689     -118.36     34.23                15.0       2485.0           742.0   \n",
       "11895    -117.36     33.97                32.0       1625.0           335.0   \n",
       "\n",
       "       population  households  median_income  median_house_value  \\\n",
       "6607       1700.0       579.0         3.5164            226500.0   \n",
       "884         986.0       322.0         4.6349            196200.0   \n",
       "9457        515.0       227.0         1.5278            145800.0   \n",
       "18681       142.0        55.0         2.1719            420000.0   \n",
       "4654       1868.0       502.0         3.3750            257800.0   \n",
       "...           ...         ...            ...                 ...   \n",
       "19314      1065.0       347.0         4.0446            172200.0   \n",
       "15433      1302.0       471.0         2.7961            131300.0   \n",
       "3631       1286.0       385.0         4.4432            181500.0   \n",
       "3689       1994.0       670.0         2.8333            183200.0   \n",
       "11895      1212.0       327.0         2.7596             82200.0   \n",
       "\n",
       "      ocean_proximity  \n",
       "6607        <1H OCEAN  \n",
       "884         <1H OCEAN  \n",
       "9457       NEAR OCEAN  \n",
       "18681      NEAR OCEAN  \n",
       "4654        <1H OCEAN  \n",
       "...               ...  \n",
       "19314       <1H OCEAN  \n",
       "15433       <1H OCEAN  \n",
       "3631        <1H OCEAN  \n",
       "3689        <1H OCEAN  \n",
       "11895          INLAND  \n",
       "\n",
       "[4128 rows x 10 columns]"
      ],
      "text/html": [
       "<div>\n",
       "<style scoped>\n",
       "    .dataframe tbody tr th:only-of-type {\n",
       "        vertical-align: middle;\n",
       "    }\n",
       "\n",
       "    .dataframe tbody tr th {\n",
       "        vertical-align: top;\n",
       "    }\n",
       "\n",
       "    .dataframe thead th {\n",
       "        text-align: right;\n",
       "    }\n",
       "</style>\n",
       "<table border=\"1\" class=\"dataframe\">\n",
       "  <thead>\n",
       "    <tr style=\"text-align: right;\">\n",
       "      <th></th>\n",
       "      <th>longitude</th>\n",
       "      <th>latitude</th>\n",
       "      <th>housing_median_age</th>\n",
       "      <th>total_rooms</th>\n",
       "      <th>total_bedrooms</th>\n",
       "      <th>population</th>\n",
       "      <th>households</th>\n",
       "      <th>median_income</th>\n",
       "      <th>median_house_value</th>\n",
       "      <th>ocean_proximity</th>\n",
       "    </tr>\n",
       "  </thead>\n",
       "  <tbody>\n",
       "    <tr>\n",
       "      <th>6607</th>\n",
       "      <td>-118.14</td>\n",
       "      <td>34.18</td>\n",
       "      <td>47.0</td>\n",
       "      <td>3457.0</td>\n",
       "      <td>622.0</td>\n",
       "      <td>1700.0</td>\n",
       "      <td>579.0</td>\n",
       "      <td>3.5164</td>\n",
       "      <td>226500.0</td>\n",
       "      <td>&lt;1H OCEAN</td>\n",
       "    </tr>\n",
       "    <tr>\n",
       "      <th>884</th>\n",
       "      <td>-121.97</td>\n",
       "      <td>37.54</td>\n",
       "      <td>31.0</td>\n",
       "      <td>1949.0</td>\n",
       "      <td>344.0</td>\n",
       "      <td>986.0</td>\n",
       "      <td>322.0</td>\n",
       "      <td>4.6349</td>\n",
       "      <td>196200.0</td>\n",
       "      <td>&lt;1H OCEAN</td>\n",
       "    </tr>\n",
       "    <tr>\n",
       "      <th>9457</th>\n",
       "      <td>-123.84</td>\n",
       "      <td>39.83</td>\n",
       "      <td>19.0</td>\n",
       "      <td>1461.0</td>\n",
       "      <td>340.0</td>\n",
       "      <td>515.0</td>\n",
       "      <td>227.0</td>\n",
       "      <td>1.5278</td>\n",
       "      <td>145800.0</td>\n",
       "      <td>NEAR OCEAN</td>\n",
       "    </tr>\n",
       "    <tr>\n",
       "      <th>18681</th>\n",
       "      <td>-121.82</td>\n",
       "      <td>36.86</td>\n",
       "      <td>17.0</td>\n",
       "      <td>1573.0</td>\n",
       "      <td>272.0</td>\n",
       "      <td>142.0</td>\n",
       "      <td>55.0</td>\n",
       "      <td>2.1719</td>\n",
       "      <td>420000.0</td>\n",
       "      <td>NEAR OCEAN</td>\n",
       "    </tr>\n",
       "    <tr>\n",
       "      <th>4654</th>\n",
       "      <td>-118.33</td>\n",
       "      <td>34.05</td>\n",
       "      <td>48.0</td>\n",
       "      <td>2405.0</td>\n",
       "      <td>527.0</td>\n",
       "      <td>1868.0</td>\n",
       "      <td>502.0</td>\n",
       "      <td>3.3750</td>\n",
       "      <td>257800.0</td>\n",
       "      <td>&lt;1H OCEAN</td>\n",
       "    </tr>\n",
       "    <tr>\n",
       "      <th>...</th>\n",
       "      <td>...</td>\n",
       "      <td>...</td>\n",
       "      <td>...</td>\n",
       "      <td>...</td>\n",
       "      <td>...</td>\n",
       "      <td>...</td>\n",
       "      <td>...</td>\n",
       "      <td>...</td>\n",
       "      <td>...</td>\n",
       "      <td>...</td>\n",
       "    </tr>\n",
       "    <tr>\n",
       "      <th>19314</th>\n",
       "      <td>-122.87</td>\n",
       "      <td>38.43</td>\n",
       "      <td>36.0</td>\n",
       "      <td>1987.0</td>\n",
       "      <td>387.0</td>\n",
       "      <td>1065.0</td>\n",
       "      <td>347.0</td>\n",
       "      <td>4.0446</td>\n",
       "      <td>172200.0</td>\n",
       "      <td>&lt;1H OCEAN</td>\n",
       "    </tr>\n",
       "    <tr>\n",
       "      <th>15433</th>\n",
       "      <td>-117.25</td>\n",
       "      <td>33.20</td>\n",
       "      <td>10.0</td>\n",
       "      <td>2050.0</td>\n",
       "      <td>473.0</td>\n",
       "      <td>1302.0</td>\n",
       "      <td>471.0</td>\n",
       "      <td>2.7961</td>\n",
       "      <td>131300.0</td>\n",
       "      <td>&lt;1H OCEAN</td>\n",
       "    </tr>\n",
       "    <tr>\n",
       "      <th>3631</th>\n",
       "      <td>-118.43</td>\n",
       "      <td>34.23</td>\n",
       "      <td>35.0</td>\n",
       "      <td>2049.0</td>\n",
       "      <td>390.0</td>\n",
       "      <td>1286.0</td>\n",
       "      <td>385.0</td>\n",
       "      <td>4.4432</td>\n",
       "      <td>181500.0</td>\n",
       "      <td>&lt;1H OCEAN</td>\n",
       "    </tr>\n",
       "    <tr>\n",
       "      <th>3689</th>\n",
       "      <td>-118.36</td>\n",
       "      <td>34.23</td>\n",
       "      <td>15.0</td>\n",
       "      <td>2485.0</td>\n",
       "      <td>742.0</td>\n",
       "      <td>1994.0</td>\n",
       "      <td>670.0</td>\n",
       "      <td>2.8333</td>\n",
       "      <td>183200.0</td>\n",
       "      <td>&lt;1H OCEAN</td>\n",
       "    </tr>\n",
       "    <tr>\n",
       "      <th>11895</th>\n",
       "      <td>-117.36</td>\n",
       "      <td>33.97</td>\n",
       "      <td>32.0</td>\n",
       "      <td>1625.0</td>\n",
       "      <td>335.0</td>\n",
       "      <td>1212.0</td>\n",
       "      <td>327.0</td>\n",
       "      <td>2.7596</td>\n",
       "      <td>82200.0</td>\n",
       "      <td>INLAND</td>\n",
       "    </tr>\n",
       "  </tbody>\n",
       "</table>\n",
       "<p>4128 rows × 10 columns</p>\n",
       "</div>"
      ]
     },
     "execution_count": 12,
     "metadata": {},
     "output_type": "execute_result"
    }
   ],
   "execution_count": 12
  },
  {
   "cell_type": "code",
   "source": [
    "from zlib import crc32"
   ],
   "metadata": {
    "id": "4LDTyD_VceUo",
    "ExecuteTime": {
     "end_time": "2025-03-18T02:36:47.740290Z",
     "start_time": "2025-03-18T02:36:47.737221Z"
    }
   },
   "outputs": [],
   "execution_count": 13
  },
  {
   "cell_type": "code",
   "source": [
    "crc32(np.int64(10))"
   ],
   "metadata": {
    "colab": {
     "base_uri": "https://localhost:8080/"
    },
    "id": "r74u0HB_Vx4A",
    "outputId": "78ca01ca-51ed-44dd-8dd9-5afba68894b5",
    "ExecuteTime": {
     "end_time": "2025-03-18T02:36:47.745679Z",
     "start_time": "2025-03-18T02:36:47.740290Z"
    }
   },
   "outputs": [
    {
     "data": {
      "text/plain": [
       "4108501921"
      ]
     },
     "execution_count": 14,
     "metadata": {},
     "output_type": "execute_result"
    }
   ],
   "execution_count": 14
  },
  {
   "cell_type": "code",
   "source": [
    "def is_identifier_in_test_set(identifier, test_ratio):\n",
    "  return crc32(np.int64(identifier)) < test_ratio*2**32"
   ],
   "metadata": {
    "id": "1nydro-IURQt",
    "ExecuteTime": {
     "end_time": "2025-03-18T02:36:47.749759Z",
     "start_time": "2025-03-18T02:36:47.746724Z"
    }
   },
   "outputs": [],
   "execution_count": 15
  },
  {
   "cell_type": "code",
   "source": [
    "def split_train_test_with_identifier_hash(df, test_ratio, identifier_column):\n",
    "  identifiers = df[identifier_column]\n",
    "  in_test_set = identifiers.apply(lambda id_: is_identifier_in_test_set(id_, test_ratio))\n",
    "  return df.loc[~in_test_set], df.loc[in_test_set]"
   ],
   "metadata": {
    "id": "i-R17eYWWuv6",
    "ExecuteTime": {
     "end_time": "2025-03-18T02:36:47.754317Z",
     "start_time": "2025-03-18T02:36:47.750264Z"
    }
   },
   "outputs": [],
   "execution_count": 16
  },
  {
   "cell_type": "code",
   "source": [
    "train_set, test_set = split_train_test_with_identifier_hash(df.reset_index(), 0.2, \"index\")"
   ],
   "metadata": {
    "id": "a67ZC3C0YPUP",
    "ExecuteTime": {
     "end_time": "2025-03-18T02:36:47.780808Z",
     "start_time": "2025-03-18T02:36:47.754317Z"
    }
   },
   "outputs": [],
   "execution_count": 17
  },
  {
   "cell_type": "code",
   "source": [
    "df_with_identifier = df\n",
    "df_with_identifier[\"identifier\"] = df[\"longitude\"]*1000 + df[\"latitude\"]\n",
    "df_with_identifier"
   ],
   "metadata": {
    "colab": {
     "base_uri": "https://localhost:8080/",
     "height": 487
    },
    "id": "Kjurfg_zYEgS",
    "outputId": "1a621b6e-acce-4c4f-d172-7ecab83cd33b",
    "ExecuteTime": {
     "end_time": "2025-03-18T02:36:47.793881Z",
     "start_time": "2025-03-18T02:36:47.781313Z"
    }
   },
   "outputs": [
    {
     "data": {
      "text/plain": [
       "       longitude  latitude  housing_median_age  total_rooms  total_bedrooms  \\\n",
       "0        -122.23     37.88                41.0        880.0           129.0   \n",
       "1        -122.22     37.86                21.0       7099.0          1106.0   \n",
       "2        -122.24     37.85                52.0       1467.0           190.0   \n",
       "3        -122.25     37.85                52.0       1274.0           235.0   \n",
       "4        -122.25     37.85                52.0       1627.0           280.0   \n",
       "...          ...       ...                 ...          ...             ...   \n",
       "20635    -121.09     39.48                25.0       1665.0           374.0   \n",
       "20636    -121.21     39.49                18.0        697.0           150.0   \n",
       "20637    -121.22     39.43                17.0       2254.0           485.0   \n",
       "20638    -121.32     39.43                18.0       1860.0           409.0   \n",
       "20639    -121.24     39.37                16.0       2785.0           616.0   \n",
       "\n",
       "       population  households  median_income  median_house_value  \\\n",
       "0           322.0       126.0         8.3252            452600.0   \n",
       "1          2401.0      1138.0         8.3014            358500.0   \n",
       "2           496.0       177.0         7.2574            352100.0   \n",
       "3           558.0       219.0         5.6431            341300.0   \n",
       "4           565.0       259.0         3.8462            342200.0   \n",
       "...           ...         ...            ...                 ...   \n",
       "20635       845.0       330.0         1.5603             78100.0   \n",
       "20636       356.0       114.0         2.5568             77100.0   \n",
       "20637      1007.0       433.0         1.7000             92300.0   \n",
       "20638       741.0       349.0         1.8672             84700.0   \n",
       "20639      1387.0       530.0         2.3886             89400.0   \n",
       "\n",
       "      ocean_proximity  identifier  \n",
       "0            NEAR BAY  -122192.12  \n",
       "1            NEAR BAY  -122182.14  \n",
       "2            NEAR BAY  -122202.15  \n",
       "3            NEAR BAY  -122212.15  \n",
       "4            NEAR BAY  -122212.15  \n",
       "...               ...         ...  \n",
       "20635          INLAND  -121050.52  \n",
       "20636          INLAND  -121170.51  \n",
       "20637          INLAND  -121180.57  \n",
       "20638          INLAND  -121280.57  \n",
       "20639          INLAND  -121200.63  \n",
       "\n",
       "[20640 rows x 11 columns]"
      ],
      "text/html": [
       "<div>\n",
       "<style scoped>\n",
       "    .dataframe tbody tr th:only-of-type {\n",
       "        vertical-align: middle;\n",
       "    }\n",
       "\n",
       "    .dataframe tbody tr th {\n",
       "        vertical-align: top;\n",
       "    }\n",
       "\n",
       "    .dataframe thead th {\n",
       "        text-align: right;\n",
       "    }\n",
       "</style>\n",
       "<table border=\"1\" class=\"dataframe\">\n",
       "  <thead>\n",
       "    <tr style=\"text-align: right;\">\n",
       "      <th></th>\n",
       "      <th>longitude</th>\n",
       "      <th>latitude</th>\n",
       "      <th>housing_median_age</th>\n",
       "      <th>total_rooms</th>\n",
       "      <th>total_bedrooms</th>\n",
       "      <th>population</th>\n",
       "      <th>households</th>\n",
       "      <th>median_income</th>\n",
       "      <th>median_house_value</th>\n",
       "      <th>ocean_proximity</th>\n",
       "      <th>identifier</th>\n",
       "    </tr>\n",
       "  </thead>\n",
       "  <tbody>\n",
       "    <tr>\n",
       "      <th>0</th>\n",
       "      <td>-122.23</td>\n",
       "      <td>37.88</td>\n",
       "      <td>41.0</td>\n",
       "      <td>880.0</td>\n",
       "      <td>129.0</td>\n",
       "      <td>322.0</td>\n",
       "      <td>126.0</td>\n",
       "      <td>8.3252</td>\n",
       "      <td>452600.0</td>\n",
       "      <td>NEAR BAY</td>\n",
       "      <td>-122192.12</td>\n",
       "    </tr>\n",
       "    <tr>\n",
       "      <th>1</th>\n",
       "      <td>-122.22</td>\n",
       "      <td>37.86</td>\n",
       "      <td>21.0</td>\n",
       "      <td>7099.0</td>\n",
       "      <td>1106.0</td>\n",
       "      <td>2401.0</td>\n",
       "      <td>1138.0</td>\n",
       "      <td>8.3014</td>\n",
       "      <td>358500.0</td>\n",
       "      <td>NEAR BAY</td>\n",
       "      <td>-122182.14</td>\n",
       "    </tr>\n",
       "    <tr>\n",
       "      <th>2</th>\n",
       "      <td>-122.24</td>\n",
       "      <td>37.85</td>\n",
       "      <td>52.0</td>\n",
       "      <td>1467.0</td>\n",
       "      <td>190.0</td>\n",
       "      <td>496.0</td>\n",
       "      <td>177.0</td>\n",
       "      <td>7.2574</td>\n",
       "      <td>352100.0</td>\n",
       "      <td>NEAR BAY</td>\n",
       "      <td>-122202.15</td>\n",
       "    </tr>\n",
       "    <tr>\n",
       "      <th>3</th>\n",
       "      <td>-122.25</td>\n",
       "      <td>37.85</td>\n",
       "      <td>52.0</td>\n",
       "      <td>1274.0</td>\n",
       "      <td>235.0</td>\n",
       "      <td>558.0</td>\n",
       "      <td>219.0</td>\n",
       "      <td>5.6431</td>\n",
       "      <td>341300.0</td>\n",
       "      <td>NEAR BAY</td>\n",
       "      <td>-122212.15</td>\n",
       "    </tr>\n",
       "    <tr>\n",
       "      <th>4</th>\n",
       "      <td>-122.25</td>\n",
       "      <td>37.85</td>\n",
       "      <td>52.0</td>\n",
       "      <td>1627.0</td>\n",
       "      <td>280.0</td>\n",
       "      <td>565.0</td>\n",
       "      <td>259.0</td>\n",
       "      <td>3.8462</td>\n",
       "      <td>342200.0</td>\n",
       "      <td>NEAR BAY</td>\n",
       "      <td>-122212.15</td>\n",
       "    </tr>\n",
       "    <tr>\n",
       "      <th>...</th>\n",
       "      <td>...</td>\n",
       "      <td>...</td>\n",
       "      <td>...</td>\n",
       "      <td>...</td>\n",
       "      <td>...</td>\n",
       "      <td>...</td>\n",
       "      <td>...</td>\n",
       "      <td>...</td>\n",
       "      <td>...</td>\n",
       "      <td>...</td>\n",
       "      <td>...</td>\n",
       "    </tr>\n",
       "    <tr>\n",
       "      <th>20635</th>\n",
       "      <td>-121.09</td>\n",
       "      <td>39.48</td>\n",
       "      <td>25.0</td>\n",
       "      <td>1665.0</td>\n",
       "      <td>374.0</td>\n",
       "      <td>845.0</td>\n",
       "      <td>330.0</td>\n",
       "      <td>1.5603</td>\n",
       "      <td>78100.0</td>\n",
       "      <td>INLAND</td>\n",
       "      <td>-121050.52</td>\n",
       "    </tr>\n",
       "    <tr>\n",
       "      <th>20636</th>\n",
       "      <td>-121.21</td>\n",
       "      <td>39.49</td>\n",
       "      <td>18.0</td>\n",
       "      <td>697.0</td>\n",
       "      <td>150.0</td>\n",
       "      <td>356.0</td>\n",
       "      <td>114.0</td>\n",
       "      <td>2.5568</td>\n",
       "      <td>77100.0</td>\n",
       "      <td>INLAND</td>\n",
       "      <td>-121170.51</td>\n",
       "    </tr>\n",
       "    <tr>\n",
       "      <th>20637</th>\n",
       "      <td>-121.22</td>\n",
       "      <td>39.43</td>\n",
       "      <td>17.0</td>\n",
       "      <td>2254.0</td>\n",
       "      <td>485.0</td>\n",
       "      <td>1007.0</td>\n",
       "      <td>433.0</td>\n",
       "      <td>1.7000</td>\n",
       "      <td>92300.0</td>\n",
       "      <td>INLAND</td>\n",
       "      <td>-121180.57</td>\n",
       "    </tr>\n",
       "    <tr>\n",
       "      <th>20638</th>\n",
       "      <td>-121.32</td>\n",
       "      <td>39.43</td>\n",
       "      <td>18.0</td>\n",
       "      <td>1860.0</td>\n",
       "      <td>409.0</td>\n",
       "      <td>741.0</td>\n",
       "      <td>349.0</td>\n",
       "      <td>1.8672</td>\n",
       "      <td>84700.0</td>\n",
       "      <td>INLAND</td>\n",
       "      <td>-121280.57</td>\n",
       "    </tr>\n",
       "    <tr>\n",
       "      <th>20639</th>\n",
       "      <td>-121.24</td>\n",
       "      <td>39.37</td>\n",
       "      <td>16.0</td>\n",
       "      <td>2785.0</td>\n",
       "      <td>616.0</td>\n",
       "      <td>1387.0</td>\n",
       "      <td>530.0</td>\n",
       "      <td>2.3886</td>\n",
       "      <td>89400.0</td>\n",
       "      <td>INLAND</td>\n",
       "      <td>-121200.63</td>\n",
       "    </tr>\n",
       "  </tbody>\n",
       "</table>\n",
       "<p>20640 rows × 11 columns</p>\n",
       "</div>"
      ]
     },
     "execution_count": 18,
     "metadata": {},
     "output_type": "execute_result"
    }
   ],
   "execution_count": 18
  },
  {
   "cell_type": "code",
   "source": [
    "train_set, test_set = split_train_test_with_identifier_hash(df_with_identifier,\n",
    "                                                            0.2,\n",
    "                                                            \"identifier\")"
   ],
   "metadata": {
    "id": "8ABAu0JcYtQT",
    "ExecuteTime": {
     "end_time": "2025-03-18T02:36:47.819740Z",
     "start_time": "2025-03-18T02:36:47.793881Z"
    }
   },
   "outputs": [],
   "execution_count": 19
  },
  {
   "cell_type": "code",
   "source": [
    "train_set"
   ],
   "metadata": {
    "colab": {
     "base_uri": "https://localhost:8080/",
     "height": 487
    },
    "id": "iuTDJvQzaZK2",
    "outputId": "b0d4603e-d0d8-48f6-8709-5c05fd934d09",
    "ExecuteTime": {
     "end_time": "2025-03-18T02:36:47.832451Z",
     "start_time": "2025-03-18T02:36:47.820244Z"
    }
   },
   "outputs": [
    {
     "data": {
      "text/plain": [
       "       longitude  latitude  housing_median_age  total_rooms  total_bedrooms  \\\n",
       "0        -122.23     37.88                41.0        880.0           129.0   \n",
       "1        -122.22     37.86                21.0       7099.0          1106.0   \n",
       "2        -122.24     37.85                52.0       1467.0           190.0   \n",
       "3        -122.25     37.85                52.0       1274.0           235.0   \n",
       "4        -122.25     37.85                52.0       1627.0           280.0   \n",
       "...          ...       ...                 ...          ...             ...   \n",
       "20635    -121.09     39.48                25.0       1665.0           374.0   \n",
       "20636    -121.21     39.49                18.0        697.0           150.0   \n",
       "20637    -121.22     39.43                17.0       2254.0           485.0   \n",
       "20638    -121.32     39.43                18.0       1860.0           409.0   \n",
       "20639    -121.24     39.37                16.0       2785.0           616.0   \n",
       "\n",
       "       population  households  median_income  median_house_value  \\\n",
       "0           322.0       126.0         8.3252            452600.0   \n",
       "1          2401.0      1138.0         8.3014            358500.0   \n",
       "2           496.0       177.0         7.2574            352100.0   \n",
       "3           558.0       219.0         5.6431            341300.0   \n",
       "4           565.0       259.0         3.8462            342200.0   \n",
       "...           ...         ...            ...                 ...   \n",
       "20635       845.0       330.0         1.5603             78100.0   \n",
       "20636       356.0       114.0         2.5568             77100.0   \n",
       "20637      1007.0       433.0         1.7000             92300.0   \n",
       "20638       741.0       349.0         1.8672             84700.0   \n",
       "20639      1387.0       530.0         2.3886             89400.0   \n",
       "\n",
       "      ocean_proximity  identifier  \n",
       "0            NEAR BAY  -122192.12  \n",
       "1            NEAR BAY  -122182.14  \n",
       "2            NEAR BAY  -122202.15  \n",
       "3            NEAR BAY  -122212.15  \n",
       "4            NEAR BAY  -122212.15  \n",
       "...               ...         ...  \n",
       "20635          INLAND  -121050.52  \n",
       "20636          INLAND  -121170.51  \n",
       "20637          INLAND  -121180.57  \n",
       "20638          INLAND  -121280.57  \n",
       "20639          INLAND  -121200.63  \n",
       "\n",
       "[16322 rows x 11 columns]"
      ],
      "text/html": [
       "<div>\n",
       "<style scoped>\n",
       "    .dataframe tbody tr th:only-of-type {\n",
       "        vertical-align: middle;\n",
       "    }\n",
       "\n",
       "    .dataframe tbody tr th {\n",
       "        vertical-align: top;\n",
       "    }\n",
       "\n",
       "    .dataframe thead th {\n",
       "        text-align: right;\n",
       "    }\n",
       "</style>\n",
       "<table border=\"1\" class=\"dataframe\">\n",
       "  <thead>\n",
       "    <tr style=\"text-align: right;\">\n",
       "      <th></th>\n",
       "      <th>longitude</th>\n",
       "      <th>latitude</th>\n",
       "      <th>housing_median_age</th>\n",
       "      <th>total_rooms</th>\n",
       "      <th>total_bedrooms</th>\n",
       "      <th>population</th>\n",
       "      <th>households</th>\n",
       "      <th>median_income</th>\n",
       "      <th>median_house_value</th>\n",
       "      <th>ocean_proximity</th>\n",
       "      <th>identifier</th>\n",
       "    </tr>\n",
       "  </thead>\n",
       "  <tbody>\n",
       "    <tr>\n",
       "      <th>0</th>\n",
       "      <td>-122.23</td>\n",
       "      <td>37.88</td>\n",
       "      <td>41.0</td>\n",
       "      <td>880.0</td>\n",
       "      <td>129.0</td>\n",
       "      <td>322.0</td>\n",
       "      <td>126.0</td>\n",
       "      <td>8.3252</td>\n",
       "      <td>452600.0</td>\n",
       "      <td>NEAR BAY</td>\n",
       "      <td>-122192.12</td>\n",
       "    </tr>\n",
       "    <tr>\n",
       "      <th>1</th>\n",
       "      <td>-122.22</td>\n",
       "      <td>37.86</td>\n",
       "      <td>21.0</td>\n",
       "      <td>7099.0</td>\n",
       "      <td>1106.0</td>\n",
       "      <td>2401.0</td>\n",
       "      <td>1138.0</td>\n",
       "      <td>8.3014</td>\n",
       "      <td>358500.0</td>\n",
       "      <td>NEAR BAY</td>\n",
       "      <td>-122182.14</td>\n",
       "    </tr>\n",
       "    <tr>\n",
       "      <th>2</th>\n",
       "      <td>-122.24</td>\n",
       "      <td>37.85</td>\n",
       "      <td>52.0</td>\n",
       "      <td>1467.0</td>\n",
       "      <td>190.0</td>\n",
       "      <td>496.0</td>\n",
       "      <td>177.0</td>\n",
       "      <td>7.2574</td>\n",
       "      <td>352100.0</td>\n",
       "      <td>NEAR BAY</td>\n",
       "      <td>-122202.15</td>\n",
       "    </tr>\n",
       "    <tr>\n",
       "      <th>3</th>\n",
       "      <td>-122.25</td>\n",
       "      <td>37.85</td>\n",
       "      <td>52.0</td>\n",
       "      <td>1274.0</td>\n",
       "      <td>235.0</td>\n",
       "      <td>558.0</td>\n",
       "      <td>219.0</td>\n",
       "      <td>5.6431</td>\n",
       "      <td>341300.0</td>\n",
       "      <td>NEAR BAY</td>\n",
       "      <td>-122212.15</td>\n",
       "    </tr>\n",
       "    <tr>\n",
       "      <th>4</th>\n",
       "      <td>-122.25</td>\n",
       "      <td>37.85</td>\n",
       "      <td>52.0</td>\n",
       "      <td>1627.0</td>\n",
       "      <td>280.0</td>\n",
       "      <td>565.0</td>\n",
       "      <td>259.0</td>\n",
       "      <td>3.8462</td>\n",
       "      <td>342200.0</td>\n",
       "      <td>NEAR BAY</td>\n",
       "      <td>-122212.15</td>\n",
       "    </tr>\n",
       "    <tr>\n",
       "      <th>...</th>\n",
       "      <td>...</td>\n",
       "      <td>...</td>\n",
       "      <td>...</td>\n",
       "      <td>...</td>\n",
       "      <td>...</td>\n",
       "      <td>...</td>\n",
       "      <td>...</td>\n",
       "      <td>...</td>\n",
       "      <td>...</td>\n",
       "      <td>...</td>\n",
       "      <td>...</td>\n",
       "    </tr>\n",
       "    <tr>\n",
       "      <th>20635</th>\n",
       "      <td>-121.09</td>\n",
       "      <td>39.48</td>\n",
       "      <td>25.0</td>\n",
       "      <td>1665.0</td>\n",
       "      <td>374.0</td>\n",
       "      <td>845.0</td>\n",
       "      <td>330.0</td>\n",
       "      <td>1.5603</td>\n",
       "      <td>78100.0</td>\n",
       "      <td>INLAND</td>\n",
       "      <td>-121050.52</td>\n",
       "    </tr>\n",
       "    <tr>\n",
       "      <th>20636</th>\n",
       "      <td>-121.21</td>\n",
       "      <td>39.49</td>\n",
       "      <td>18.0</td>\n",
       "      <td>697.0</td>\n",
       "      <td>150.0</td>\n",
       "      <td>356.0</td>\n",
       "      <td>114.0</td>\n",
       "      <td>2.5568</td>\n",
       "      <td>77100.0</td>\n",
       "      <td>INLAND</td>\n",
       "      <td>-121170.51</td>\n",
       "    </tr>\n",
       "    <tr>\n",
       "      <th>20637</th>\n",
       "      <td>-121.22</td>\n",
       "      <td>39.43</td>\n",
       "      <td>17.0</td>\n",
       "      <td>2254.0</td>\n",
       "      <td>485.0</td>\n",
       "      <td>1007.0</td>\n",
       "      <td>433.0</td>\n",
       "      <td>1.7000</td>\n",
       "      <td>92300.0</td>\n",
       "      <td>INLAND</td>\n",
       "      <td>-121180.57</td>\n",
       "    </tr>\n",
       "    <tr>\n",
       "      <th>20638</th>\n",
       "      <td>-121.32</td>\n",
       "      <td>39.43</td>\n",
       "      <td>18.0</td>\n",
       "      <td>1860.0</td>\n",
       "      <td>409.0</td>\n",
       "      <td>741.0</td>\n",
       "      <td>349.0</td>\n",
       "      <td>1.8672</td>\n",
       "      <td>84700.0</td>\n",
       "      <td>INLAND</td>\n",
       "      <td>-121280.57</td>\n",
       "    </tr>\n",
       "    <tr>\n",
       "      <th>20639</th>\n",
       "      <td>-121.24</td>\n",
       "      <td>39.37</td>\n",
       "      <td>16.0</td>\n",
       "      <td>2785.0</td>\n",
       "      <td>616.0</td>\n",
       "      <td>1387.0</td>\n",
       "      <td>530.0</td>\n",
       "      <td>2.3886</td>\n",
       "      <td>89400.0</td>\n",
       "      <td>INLAND</td>\n",
       "      <td>-121200.63</td>\n",
       "    </tr>\n",
       "  </tbody>\n",
       "</table>\n",
       "<p>16322 rows × 11 columns</p>\n",
       "</div>"
      ]
     },
     "execution_count": 20,
     "metadata": {},
     "output_type": "execute_result"
    }
   ],
   "execution_count": 20
  },
  {
   "cell_type": "code",
   "source": [
    "test_set"
   ],
   "metadata": {
    "colab": {
     "base_uri": "https://localhost:8080/",
     "height": 487
    },
    "id": "7xQ0vI3JauN0",
    "outputId": "f99855a9-0cd6-4b3d-c7e4-56c17f0c851b",
    "ExecuteTime": {
     "end_time": "2025-03-18T02:36:47.845582Z",
     "start_time": "2025-03-18T02:36:47.832451Z"
    }
   },
   "outputs": [
    {
     "data": {
      "text/plain": [
       "       longitude  latitude  housing_median_age  total_rooms  total_bedrooms  \\\n",
       "59       -122.29     37.82                 2.0        158.0            43.0   \n",
       "60       -122.29     37.83                52.0       1121.0           211.0   \n",
       "61       -122.29     37.82                49.0        135.0            29.0   \n",
       "62       -122.29     37.81                50.0        760.0           190.0   \n",
       "67       -122.29     37.80                52.0       1027.0           244.0   \n",
       "...          ...       ...                 ...          ...             ...   \n",
       "20616    -121.53     39.08                15.0       1810.0           441.0   \n",
       "20617    -121.53     39.06                20.0        561.0           109.0   \n",
       "20618    -121.55     39.06                25.0       1332.0           247.0   \n",
       "20632    -121.45     39.26                15.0       2319.0           416.0   \n",
       "20633    -121.53     39.19                27.0       2080.0           412.0   \n",
       "\n",
       "       population  households  median_income  median_house_value  \\\n",
       "59           94.0        57.0         2.5625             60000.0   \n",
       "60          554.0       187.0         3.3929             75700.0   \n",
       "61           86.0        23.0         6.1183             75000.0   \n",
       "62          377.0       122.0         0.9011             86100.0   \n",
       "67          492.0       147.0         2.6094             81300.0   \n",
       "...           ...         ...            ...                 ...   \n",
       "20616      1157.0       375.0         2.0469             55100.0   \n",
       "20617       308.0       114.0         3.3021             70800.0   \n",
       "20618       726.0       226.0         2.2500             63400.0   \n",
       "20632      1047.0       385.0         3.1250            115600.0   \n",
       "20633      1082.0       382.0         2.5495             98300.0   \n",
       "\n",
       "      ocean_proximity  identifier  \n",
       "59           NEAR BAY  -122252.18  \n",
       "60           NEAR BAY  -122252.17  \n",
       "61           NEAR BAY  -122252.18  \n",
       "62           NEAR BAY  -122252.19  \n",
       "67           NEAR BAY  -122252.20  \n",
       "...               ...         ...  \n",
       "20616          INLAND  -121490.92  \n",
       "20617          INLAND  -121490.94  \n",
       "20618          INLAND  -121510.94  \n",
       "20632          INLAND  -121410.74  \n",
       "20633          INLAND  -121490.81  \n",
       "\n",
       "[4318 rows x 11 columns]"
      ],
      "text/html": [
       "<div>\n",
       "<style scoped>\n",
       "    .dataframe tbody tr th:only-of-type {\n",
       "        vertical-align: middle;\n",
       "    }\n",
       "\n",
       "    .dataframe tbody tr th {\n",
       "        vertical-align: top;\n",
       "    }\n",
       "\n",
       "    .dataframe thead th {\n",
       "        text-align: right;\n",
       "    }\n",
       "</style>\n",
       "<table border=\"1\" class=\"dataframe\">\n",
       "  <thead>\n",
       "    <tr style=\"text-align: right;\">\n",
       "      <th></th>\n",
       "      <th>longitude</th>\n",
       "      <th>latitude</th>\n",
       "      <th>housing_median_age</th>\n",
       "      <th>total_rooms</th>\n",
       "      <th>total_bedrooms</th>\n",
       "      <th>population</th>\n",
       "      <th>households</th>\n",
       "      <th>median_income</th>\n",
       "      <th>median_house_value</th>\n",
       "      <th>ocean_proximity</th>\n",
       "      <th>identifier</th>\n",
       "    </tr>\n",
       "  </thead>\n",
       "  <tbody>\n",
       "    <tr>\n",
       "      <th>59</th>\n",
       "      <td>-122.29</td>\n",
       "      <td>37.82</td>\n",
       "      <td>2.0</td>\n",
       "      <td>158.0</td>\n",
       "      <td>43.0</td>\n",
       "      <td>94.0</td>\n",
       "      <td>57.0</td>\n",
       "      <td>2.5625</td>\n",
       "      <td>60000.0</td>\n",
       "      <td>NEAR BAY</td>\n",
       "      <td>-122252.18</td>\n",
       "    </tr>\n",
       "    <tr>\n",
       "      <th>60</th>\n",
       "      <td>-122.29</td>\n",
       "      <td>37.83</td>\n",
       "      <td>52.0</td>\n",
       "      <td>1121.0</td>\n",
       "      <td>211.0</td>\n",
       "      <td>554.0</td>\n",
       "      <td>187.0</td>\n",
       "      <td>3.3929</td>\n",
       "      <td>75700.0</td>\n",
       "      <td>NEAR BAY</td>\n",
       "      <td>-122252.17</td>\n",
       "    </tr>\n",
       "    <tr>\n",
       "      <th>61</th>\n",
       "      <td>-122.29</td>\n",
       "      <td>37.82</td>\n",
       "      <td>49.0</td>\n",
       "      <td>135.0</td>\n",
       "      <td>29.0</td>\n",
       "      <td>86.0</td>\n",
       "      <td>23.0</td>\n",
       "      <td>6.1183</td>\n",
       "      <td>75000.0</td>\n",
       "      <td>NEAR BAY</td>\n",
       "      <td>-122252.18</td>\n",
       "    </tr>\n",
       "    <tr>\n",
       "      <th>62</th>\n",
       "      <td>-122.29</td>\n",
       "      <td>37.81</td>\n",
       "      <td>50.0</td>\n",
       "      <td>760.0</td>\n",
       "      <td>190.0</td>\n",
       "      <td>377.0</td>\n",
       "      <td>122.0</td>\n",
       "      <td>0.9011</td>\n",
       "      <td>86100.0</td>\n",
       "      <td>NEAR BAY</td>\n",
       "      <td>-122252.19</td>\n",
       "    </tr>\n",
       "    <tr>\n",
       "      <th>67</th>\n",
       "      <td>-122.29</td>\n",
       "      <td>37.80</td>\n",
       "      <td>52.0</td>\n",
       "      <td>1027.0</td>\n",
       "      <td>244.0</td>\n",
       "      <td>492.0</td>\n",
       "      <td>147.0</td>\n",
       "      <td>2.6094</td>\n",
       "      <td>81300.0</td>\n",
       "      <td>NEAR BAY</td>\n",
       "      <td>-122252.20</td>\n",
       "    </tr>\n",
       "    <tr>\n",
       "      <th>...</th>\n",
       "      <td>...</td>\n",
       "      <td>...</td>\n",
       "      <td>...</td>\n",
       "      <td>...</td>\n",
       "      <td>...</td>\n",
       "      <td>...</td>\n",
       "      <td>...</td>\n",
       "      <td>...</td>\n",
       "      <td>...</td>\n",
       "      <td>...</td>\n",
       "      <td>...</td>\n",
       "    </tr>\n",
       "    <tr>\n",
       "      <th>20616</th>\n",
       "      <td>-121.53</td>\n",
       "      <td>39.08</td>\n",
       "      <td>15.0</td>\n",
       "      <td>1810.0</td>\n",
       "      <td>441.0</td>\n",
       "      <td>1157.0</td>\n",
       "      <td>375.0</td>\n",
       "      <td>2.0469</td>\n",
       "      <td>55100.0</td>\n",
       "      <td>INLAND</td>\n",
       "      <td>-121490.92</td>\n",
       "    </tr>\n",
       "    <tr>\n",
       "      <th>20617</th>\n",
       "      <td>-121.53</td>\n",
       "      <td>39.06</td>\n",
       "      <td>20.0</td>\n",
       "      <td>561.0</td>\n",
       "      <td>109.0</td>\n",
       "      <td>308.0</td>\n",
       "      <td>114.0</td>\n",
       "      <td>3.3021</td>\n",
       "      <td>70800.0</td>\n",
       "      <td>INLAND</td>\n",
       "      <td>-121490.94</td>\n",
       "    </tr>\n",
       "    <tr>\n",
       "      <th>20618</th>\n",
       "      <td>-121.55</td>\n",
       "      <td>39.06</td>\n",
       "      <td>25.0</td>\n",
       "      <td>1332.0</td>\n",
       "      <td>247.0</td>\n",
       "      <td>726.0</td>\n",
       "      <td>226.0</td>\n",
       "      <td>2.2500</td>\n",
       "      <td>63400.0</td>\n",
       "      <td>INLAND</td>\n",
       "      <td>-121510.94</td>\n",
       "    </tr>\n",
       "    <tr>\n",
       "      <th>20632</th>\n",
       "      <td>-121.45</td>\n",
       "      <td>39.26</td>\n",
       "      <td>15.0</td>\n",
       "      <td>2319.0</td>\n",
       "      <td>416.0</td>\n",
       "      <td>1047.0</td>\n",
       "      <td>385.0</td>\n",
       "      <td>3.1250</td>\n",
       "      <td>115600.0</td>\n",
       "      <td>INLAND</td>\n",
       "      <td>-121410.74</td>\n",
       "    </tr>\n",
       "    <tr>\n",
       "      <th>20633</th>\n",
       "      <td>-121.53</td>\n",
       "      <td>39.19</td>\n",
       "      <td>27.0</td>\n",
       "      <td>2080.0</td>\n",
       "      <td>412.0</td>\n",
       "      <td>1082.0</td>\n",
       "      <td>382.0</td>\n",
       "      <td>2.5495</td>\n",
       "      <td>98300.0</td>\n",
       "      <td>INLAND</td>\n",
       "      <td>-121490.81</td>\n",
       "    </tr>\n",
       "  </tbody>\n",
       "</table>\n",
       "<p>4318 rows × 11 columns</p>\n",
       "</div>"
      ]
     },
     "execution_count": 21,
     "metadata": {},
     "output_type": "execute_result"
    }
   ],
   "execution_count": 21
  },
  {
   "metadata": {},
   "cell_type": "markdown",
   "source": [
    "---\n",
    "# Train and Test set \n",
    "#### این روش مد نظر ماست\n"
   ]
  },
  {
   "cell_type": "code",
   "source": [
    "from sklearn.model_selection import train_test_split"
   ],
   "metadata": {
    "id": "9qkbrvYIaycy",
    "ExecuteTime": {
     "end_time": "2025-03-18T02:36:47.979400Z",
     "start_time": "2025-03-18T02:36:47.930548Z"
    }
   },
   "outputs": [],
   "execution_count": 22
  },
  {
   "cell_type": "code",
   "source": [
    "train_set, test_set = train_test_split(df, test_size=0.2, random_state=40)"
   ],
   "metadata": {
    "id": "KE1BiwVBbtcw",
    "ExecuteTime": {
     "end_time": "2025-03-18T02:36:48.600272Z",
     "start_time": "2025-03-18T02:36:48.593201Z"
    }
   },
   "outputs": [],
   "execution_count": 23
  },
  {
   "cell_type": "code",
   "source": [
    "train_set"
   ],
   "metadata": {
    "colab": {
     "base_uri": "https://localhost:8080/",
     "height": 487
    },
    "id": "zQauOb9kb3Yq",
    "outputId": "c3fce63d-9ecc-4739-a982-d8c6834a16ec",
    "ExecuteTime": {
     "end_time": "2025-03-18T02:36:49.592911Z",
     "start_time": "2025-03-18T02:36:49.579497Z"
    }
   },
   "outputs": [
    {
     "data": {
      "text/plain": [
       "       longitude  latitude  housing_median_age  total_rooms  total_bedrooms  \\\n",
       "9226     -120.04     36.93                11.0       3606.0           699.0   \n",
       "11826    -121.04     39.00                21.0       4059.0           730.0   \n",
       "4553     -118.24     34.06                33.0        390.0           199.0   \n",
       "10787    -117.92     33.64                25.0       2224.0           580.0   \n",
       "4104     -118.35     34.13                39.0       1610.0           278.0   \n",
       "...          ...       ...                 ...          ...             ...   \n",
       "11532    -118.09     33.77                26.0       5359.0          1508.0   \n",
       "16065    -122.48     37.75                49.0       2203.0           407.0   \n",
       "14501    -117.23     32.86                16.0       1200.0           468.0   \n",
       "14555    -117.13     32.96                15.0       2267.0           292.0   \n",
       "11590    -118.01     33.78                26.0       2343.0           377.0   \n",
       "\n",
       "       population  households  median_income  median_house_value  \\\n",
       "9226       2074.0       644.0         2.6941             63300.0   \n",
       "11826      1874.0       693.0         4.8051            174300.0   \n",
       "4553        435.0       193.0         1.1979            350000.0   \n",
       "10787       985.0       516.0         3.1305            268800.0   \n",
       "4104        511.0       278.0         4.3333            385900.0   \n",
       "...           ...         ...            ...                 ...   \n",
       "11532      1829.0      1393.0         1.7675             61300.0   \n",
       "16065      1052.0       405.0         4.4375            329200.0   \n",
       "14501       648.0       443.0         3.0450            100000.0   \n",
       "14555      1180.0       289.0         6.7120            240200.0   \n",
       "11590      1166.0       373.0         6.0000            233100.0   \n",
       "\n",
       "      ocean_proximity  identifier  \n",
       "9226           INLAND  -120003.07  \n",
       "11826          INLAND  -121001.00  \n",
       "4553        <1H OCEAN  -118205.94  \n",
       "10787       <1H OCEAN  -117886.36  \n",
       "4104        <1H OCEAN  -118315.87  \n",
       "...               ...         ...  \n",
       "11532       <1H OCEAN  -118056.23  \n",
       "16065        NEAR BAY  -122442.25  \n",
       "14501      NEAR OCEAN  -117197.14  \n",
       "14555       <1H OCEAN  -117097.04  \n",
       "11590       <1H OCEAN  -117976.22  \n",
       "\n",
       "[16512 rows x 11 columns]"
      ],
      "text/html": [
       "<div>\n",
       "<style scoped>\n",
       "    .dataframe tbody tr th:only-of-type {\n",
       "        vertical-align: middle;\n",
       "    }\n",
       "\n",
       "    .dataframe tbody tr th {\n",
       "        vertical-align: top;\n",
       "    }\n",
       "\n",
       "    .dataframe thead th {\n",
       "        text-align: right;\n",
       "    }\n",
       "</style>\n",
       "<table border=\"1\" class=\"dataframe\">\n",
       "  <thead>\n",
       "    <tr style=\"text-align: right;\">\n",
       "      <th></th>\n",
       "      <th>longitude</th>\n",
       "      <th>latitude</th>\n",
       "      <th>housing_median_age</th>\n",
       "      <th>total_rooms</th>\n",
       "      <th>total_bedrooms</th>\n",
       "      <th>population</th>\n",
       "      <th>households</th>\n",
       "      <th>median_income</th>\n",
       "      <th>median_house_value</th>\n",
       "      <th>ocean_proximity</th>\n",
       "      <th>identifier</th>\n",
       "    </tr>\n",
       "  </thead>\n",
       "  <tbody>\n",
       "    <tr>\n",
       "      <th>9226</th>\n",
       "      <td>-120.04</td>\n",
       "      <td>36.93</td>\n",
       "      <td>11.0</td>\n",
       "      <td>3606.0</td>\n",
       "      <td>699.0</td>\n",
       "      <td>2074.0</td>\n",
       "      <td>644.0</td>\n",
       "      <td>2.6941</td>\n",
       "      <td>63300.0</td>\n",
       "      <td>INLAND</td>\n",
       "      <td>-120003.07</td>\n",
       "    </tr>\n",
       "    <tr>\n",
       "      <th>11826</th>\n",
       "      <td>-121.04</td>\n",
       "      <td>39.00</td>\n",
       "      <td>21.0</td>\n",
       "      <td>4059.0</td>\n",
       "      <td>730.0</td>\n",
       "      <td>1874.0</td>\n",
       "      <td>693.0</td>\n",
       "      <td>4.8051</td>\n",
       "      <td>174300.0</td>\n",
       "      <td>INLAND</td>\n",
       "      <td>-121001.00</td>\n",
       "    </tr>\n",
       "    <tr>\n",
       "      <th>4553</th>\n",
       "      <td>-118.24</td>\n",
       "      <td>34.06</td>\n",
       "      <td>33.0</td>\n",
       "      <td>390.0</td>\n",
       "      <td>199.0</td>\n",
       "      <td>435.0</td>\n",
       "      <td>193.0</td>\n",
       "      <td>1.1979</td>\n",
       "      <td>350000.0</td>\n",
       "      <td>&lt;1H OCEAN</td>\n",
       "      <td>-118205.94</td>\n",
       "    </tr>\n",
       "    <tr>\n",
       "      <th>10787</th>\n",
       "      <td>-117.92</td>\n",
       "      <td>33.64</td>\n",
       "      <td>25.0</td>\n",
       "      <td>2224.0</td>\n",
       "      <td>580.0</td>\n",
       "      <td>985.0</td>\n",
       "      <td>516.0</td>\n",
       "      <td>3.1305</td>\n",
       "      <td>268800.0</td>\n",
       "      <td>&lt;1H OCEAN</td>\n",
       "      <td>-117886.36</td>\n",
       "    </tr>\n",
       "    <tr>\n",
       "      <th>4104</th>\n",
       "      <td>-118.35</td>\n",
       "      <td>34.13</td>\n",
       "      <td>39.0</td>\n",
       "      <td>1610.0</td>\n",
       "      <td>278.0</td>\n",
       "      <td>511.0</td>\n",
       "      <td>278.0</td>\n",
       "      <td>4.3333</td>\n",
       "      <td>385900.0</td>\n",
       "      <td>&lt;1H OCEAN</td>\n",
       "      <td>-118315.87</td>\n",
       "    </tr>\n",
       "    <tr>\n",
       "      <th>...</th>\n",
       "      <td>...</td>\n",
       "      <td>...</td>\n",
       "      <td>...</td>\n",
       "      <td>...</td>\n",
       "      <td>...</td>\n",
       "      <td>...</td>\n",
       "      <td>...</td>\n",
       "      <td>...</td>\n",
       "      <td>...</td>\n",
       "      <td>...</td>\n",
       "      <td>...</td>\n",
       "    </tr>\n",
       "    <tr>\n",
       "      <th>11532</th>\n",
       "      <td>-118.09</td>\n",
       "      <td>33.77</td>\n",
       "      <td>26.0</td>\n",
       "      <td>5359.0</td>\n",
       "      <td>1508.0</td>\n",
       "      <td>1829.0</td>\n",
       "      <td>1393.0</td>\n",
       "      <td>1.7675</td>\n",
       "      <td>61300.0</td>\n",
       "      <td>&lt;1H OCEAN</td>\n",
       "      <td>-118056.23</td>\n",
       "    </tr>\n",
       "    <tr>\n",
       "      <th>16065</th>\n",
       "      <td>-122.48</td>\n",
       "      <td>37.75</td>\n",
       "      <td>49.0</td>\n",
       "      <td>2203.0</td>\n",
       "      <td>407.0</td>\n",
       "      <td>1052.0</td>\n",
       "      <td>405.0</td>\n",
       "      <td>4.4375</td>\n",
       "      <td>329200.0</td>\n",
       "      <td>NEAR BAY</td>\n",
       "      <td>-122442.25</td>\n",
       "    </tr>\n",
       "    <tr>\n",
       "      <th>14501</th>\n",
       "      <td>-117.23</td>\n",
       "      <td>32.86</td>\n",
       "      <td>16.0</td>\n",
       "      <td>1200.0</td>\n",
       "      <td>468.0</td>\n",
       "      <td>648.0</td>\n",
       "      <td>443.0</td>\n",
       "      <td>3.0450</td>\n",
       "      <td>100000.0</td>\n",
       "      <td>NEAR OCEAN</td>\n",
       "      <td>-117197.14</td>\n",
       "    </tr>\n",
       "    <tr>\n",
       "      <th>14555</th>\n",
       "      <td>-117.13</td>\n",
       "      <td>32.96</td>\n",
       "      <td>15.0</td>\n",
       "      <td>2267.0</td>\n",
       "      <td>292.0</td>\n",
       "      <td>1180.0</td>\n",
       "      <td>289.0</td>\n",
       "      <td>6.7120</td>\n",
       "      <td>240200.0</td>\n",
       "      <td>&lt;1H OCEAN</td>\n",
       "      <td>-117097.04</td>\n",
       "    </tr>\n",
       "    <tr>\n",
       "      <th>11590</th>\n",
       "      <td>-118.01</td>\n",
       "      <td>33.78</td>\n",
       "      <td>26.0</td>\n",
       "      <td>2343.0</td>\n",
       "      <td>377.0</td>\n",
       "      <td>1166.0</td>\n",
       "      <td>373.0</td>\n",
       "      <td>6.0000</td>\n",
       "      <td>233100.0</td>\n",
       "      <td>&lt;1H OCEAN</td>\n",
       "      <td>-117976.22</td>\n",
       "    </tr>\n",
       "  </tbody>\n",
       "</table>\n",
       "<p>16512 rows × 11 columns</p>\n",
       "</div>"
      ]
     },
     "execution_count": 24,
     "metadata": {},
     "output_type": "execute_result"
    }
   ],
   "execution_count": 24
  },
  {
   "cell_type": "code",
   "source": [
    "test_set"
   ],
   "metadata": {
    "colab": {
     "base_uri": "https://localhost:8080/",
     "height": 487
    },
    "id": "cVjph0d6b4TT",
    "outputId": "011c1d0d-7326-473b-bdae-5c7311d9bee2",
    "ExecuteTime": {
     "end_time": "2025-03-18T02:36:50.106380Z",
     "start_time": "2025-03-18T02:36:50.093314Z"
    }
   },
   "outputs": [
    {
     "data": {
      "text/plain": [
       "       longitude  latitude  housing_median_age  total_rooms  total_bedrooms  \\\n",
       "6607     -118.14     34.18                47.0       3457.0           622.0   \n",
       "884      -121.97     37.54                31.0       1949.0           344.0   \n",
       "9457     -123.84     39.83                19.0       1461.0           340.0   \n",
       "18681    -121.82     36.86                17.0       1573.0           272.0   \n",
       "4654     -118.33     34.05                48.0       2405.0           527.0   \n",
       "...          ...       ...                 ...          ...             ...   \n",
       "19314    -122.87     38.43                36.0       1987.0           387.0   \n",
       "15433    -117.25     33.20                10.0       2050.0           473.0   \n",
       "3631     -118.43     34.23                35.0       2049.0           390.0   \n",
       "3689     -118.36     34.23                15.0       2485.0           742.0   \n",
       "11895    -117.36     33.97                32.0       1625.0           335.0   \n",
       "\n",
       "       population  households  median_income  median_house_value  \\\n",
       "6607       1700.0       579.0         3.5164            226500.0   \n",
       "884         986.0       322.0         4.6349            196200.0   \n",
       "9457        515.0       227.0         1.5278            145800.0   \n",
       "18681       142.0        55.0         2.1719            420000.0   \n",
       "4654       1868.0       502.0         3.3750            257800.0   \n",
       "...           ...         ...            ...                 ...   \n",
       "19314      1065.0       347.0         4.0446            172200.0   \n",
       "15433      1302.0       471.0         2.7961            131300.0   \n",
       "3631       1286.0       385.0         4.4432            181500.0   \n",
       "3689       1994.0       670.0         2.8333            183200.0   \n",
       "11895      1212.0       327.0         2.7596             82200.0   \n",
       "\n",
       "      ocean_proximity  identifier  \n",
       "6607        <1H OCEAN  -118105.82  \n",
       "884         <1H OCEAN  -121932.46  \n",
       "9457       NEAR OCEAN  -123800.17  \n",
       "18681      NEAR OCEAN  -121783.14  \n",
       "4654        <1H OCEAN  -118295.95  \n",
       "...               ...         ...  \n",
       "19314       <1H OCEAN  -122831.57  \n",
       "15433       <1H OCEAN  -117216.80  \n",
       "3631        <1H OCEAN  -118395.77  \n",
       "3689        <1H OCEAN  -118325.77  \n",
       "11895          INLAND  -117326.03  \n",
       "\n",
       "[4128 rows x 11 columns]"
      ],
      "text/html": [
       "<div>\n",
       "<style scoped>\n",
       "    .dataframe tbody tr th:only-of-type {\n",
       "        vertical-align: middle;\n",
       "    }\n",
       "\n",
       "    .dataframe tbody tr th {\n",
       "        vertical-align: top;\n",
       "    }\n",
       "\n",
       "    .dataframe thead th {\n",
       "        text-align: right;\n",
       "    }\n",
       "</style>\n",
       "<table border=\"1\" class=\"dataframe\">\n",
       "  <thead>\n",
       "    <tr style=\"text-align: right;\">\n",
       "      <th></th>\n",
       "      <th>longitude</th>\n",
       "      <th>latitude</th>\n",
       "      <th>housing_median_age</th>\n",
       "      <th>total_rooms</th>\n",
       "      <th>total_bedrooms</th>\n",
       "      <th>population</th>\n",
       "      <th>households</th>\n",
       "      <th>median_income</th>\n",
       "      <th>median_house_value</th>\n",
       "      <th>ocean_proximity</th>\n",
       "      <th>identifier</th>\n",
       "    </tr>\n",
       "  </thead>\n",
       "  <tbody>\n",
       "    <tr>\n",
       "      <th>6607</th>\n",
       "      <td>-118.14</td>\n",
       "      <td>34.18</td>\n",
       "      <td>47.0</td>\n",
       "      <td>3457.0</td>\n",
       "      <td>622.0</td>\n",
       "      <td>1700.0</td>\n",
       "      <td>579.0</td>\n",
       "      <td>3.5164</td>\n",
       "      <td>226500.0</td>\n",
       "      <td>&lt;1H OCEAN</td>\n",
       "      <td>-118105.82</td>\n",
       "    </tr>\n",
       "    <tr>\n",
       "      <th>884</th>\n",
       "      <td>-121.97</td>\n",
       "      <td>37.54</td>\n",
       "      <td>31.0</td>\n",
       "      <td>1949.0</td>\n",
       "      <td>344.0</td>\n",
       "      <td>986.0</td>\n",
       "      <td>322.0</td>\n",
       "      <td>4.6349</td>\n",
       "      <td>196200.0</td>\n",
       "      <td>&lt;1H OCEAN</td>\n",
       "      <td>-121932.46</td>\n",
       "    </tr>\n",
       "    <tr>\n",
       "      <th>9457</th>\n",
       "      <td>-123.84</td>\n",
       "      <td>39.83</td>\n",
       "      <td>19.0</td>\n",
       "      <td>1461.0</td>\n",
       "      <td>340.0</td>\n",
       "      <td>515.0</td>\n",
       "      <td>227.0</td>\n",
       "      <td>1.5278</td>\n",
       "      <td>145800.0</td>\n",
       "      <td>NEAR OCEAN</td>\n",
       "      <td>-123800.17</td>\n",
       "    </tr>\n",
       "    <tr>\n",
       "      <th>18681</th>\n",
       "      <td>-121.82</td>\n",
       "      <td>36.86</td>\n",
       "      <td>17.0</td>\n",
       "      <td>1573.0</td>\n",
       "      <td>272.0</td>\n",
       "      <td>142.0</td>\n",
       "      <td>55.0</td>\n",
       "      <td>2.1719</td>\n",
       "      <td>420000.0</td>\n",
       "      <td>NEAR OCEAN</td>\n",
       "      <td>-121783.14</td>\n",
       "    </tr>\n",
       "    <tr>\n",
       "      <th>4654</th>\n",
       "      <td>-118.33</td>\n",
       "      <td>34.05</td>\n",
       "      <td>48.0</td>\n",
       "      <td>2405.0</td>\n",
       "      <td>527.0</td>\n",
       "      <td>1868.0</td>\n",
       "      <td>502.0</td>\n",
       "      <td>3.3750</td>\n",
       "      <td>257800.0</td>\n",
       "      <td>&lt;1H OCEAN</td>\n",
       "      <td>-118295.95</td>\n",
       "    </tr>\n",
       "    <tr>\n",
       "      <th>...</th>\n",
       "      <td>...</td>\n",
       "      <td>...</td>\n",
       "      <td>...</td>\n",
       "      <td>...</td>\n",
       "      <td>...</td>\n",
       "      <td>...</td>\n",
       "      <td>...</td>\n",
       "      <td>...</td>\n",
       "      <td>...</td>\n",
       "      <td>...</td>\n",
       "      <td>...</td>\n",
       "    </tr>\n",
       "    <tr>\n",
       "      <th>19314</th>\n",
       "      <td>-122.87</td>\n",
       "      <td>38.43</td>\n",
       "      <td>36.0</td>\n",
       "      <td>1987.0</td>\n",
       "      <td>387.0</td>\n",
       "      <td>1065.0</td>\n",
       "      <td>347.0</td>\n",
       "      <td>4.0446</td>\n",
       "      <td>172200.0</td>\n",
       "      <td>&lt;1H OCEAN</td>\n",
       "      <td>-122831.57</td>\n",
       "    </tr>\n",
       "    <tr>\n",
       "      <th>15433</th>\n",
       "      <td>-117.25</td>\n",
       "      <td>33.20</td>\n",
       "      <td>10.0</td>\n",
       "      <td>2050.0</td>\n",
       "      <td>473.0</td>\n",
       "      <td>1302.0</td>\n",
       "      <td>471.0</td>\n",
       "      <td>2.7961</td>\n",
       "      <td>131300.0</td>\n",
       "      <td>&lt;1H OCEAN</td>\n",
       "      <td>-117216.80</td>\n",
       "    </tr>\n",
       "    <tr>\n",
       "      <th>3631</th>\n",
       "      <td>-118.43</td>\n",
       "      <td>34.23</td>\n",
       "      <td>35.0</td>\n",
       "      <td>2049.0</td>\n",
       "      <td>390.0</td>\n",
       "      <td>1286.0</td>\n",
       "      <td>385.0</td>\n",
       "      <td>4.4432</td>\n",
       "      <td>181500.0</td>\n",
       "      <td>&lt;1H OCEAN</td>\n",
       "      <td>-118395.77</td>\n",
       "    </tr>\n",
       "    <tr>\n",
       "      <th>3689</th>\n",
       "      <td>-118.36</td>\n",
       "      <td>34.23</td>\n",
       "      <td>15.0</td>\n",
       "      <td>2485.0</td>\n",
       "      <td>742.0</td>\n",
       "      <td>1994.0</td>\n",
       "      <td>670.0</td>\n",
       "      <td>2.8333</td>\n",
       "      <td>183200.0</td>\n",
       "      <td>&lt;1H OCEAN</td>\n",
       "      <td>-118325.77</td>\n",
       "    </tr>\n",
       "    <tr>\n",
       "      <th>11895</th>\n",
       "      <td>-117.36</td>\n",
       "      <td>33.97</td>\n",
       "      <td>32.0</td>\n",
       "      <td>1625.0</td>\n",
       "      <td>335.0</td>\n",
       "      <td>1212.0</td>\n",
       "      <td>327.0</td>\n",
       "      <td>2.7596</td>\n",
       "      <td>82200.0</td>\n",
       "      <td>INLAND</td>\n",
       "      <td>-117326.03</td>\n",
       "    </tr>\n",
       "  </tbody>\n",
       "</table>\n",
       "<p>4128 rows × 11 columns</p>\n",
       "</div>"
      ]
     },
     "execution_count": 25,
     "metadata": {},
     "output_type": "execute_result"
    }
   ],
   "execution_count": 25
  },
  {
   "metadata": {},
   "cell_type": "markdown",
   "source": [
    "---\n",
    " # نمایش اطلاعات دیتا فریم"
   ]
  },
  {
   "metadata": {
    "ExecuteTime": {
     "end_time": "2025-03-18T02:36:51.469925Z",
     "start_time": "2025-03-18T02:36:50.200264Z"
    }
   },
   "cell_type": "code",
   "source": [
    "\n",
    "# خود پانداس مت پلات لیب را فراخانی میکنه \n",
    "df.hist(bins=40, figsize=(20,9))"
   ],
   "outputs": [
    {
     "data": {
      "text/plain": [
       "array([[<Axes: title={'center': 'longitude'}>,\n",
       "        <Axes: title={'center': 'latitude'}>,\n",
       "        <Axes: title={'center': 'housing_median_age'}>],\n",
       "       [<Axes: title={'center': 'total_rooms'}>,\n",
       "        <Axes: title={'center': 'total_bedrooms'}>,\n",
       "        <Axes: title={'center': 'population'}>],\n",
       "       [<Axes: title={'center': 'households'}>,\n",
       "        <Axes: title={'center': 'median_income'}>,\n",
       "        <Axes: title={'center': 'median_house_value'}>],\n",
       "       [<Axes: title={'center': 'identifier'}>, <Axes: >, <Axes: >]],\n",
       "      dtype=object)"
      ]
     },
     "execution_count": 26,
     "metadata": {},
     "output_type": "execute_result"
    },
    {
     "data": {
      "text/plain": [
       "<Figure size 2000x900 with 12 Axes>"
      ],
      "image/png": "[encoded data removed]"
     },
     "metadata": {},
     "output_type": "display_data"
    }
   ],
   "execution_count": 26
  },
  {
   "metadata": {
    "ExecuteTime": {
     "end_time": "2025-03-18T02:36:51.477318Z",
     "start_time": "2025-03-18T02:36:51.470938Z"
    }
   },
   "cell_type": "code",
   "source": "df[\"median_house_value\"].value_counts()",
   "outputs": [
    {
     "data": {
      "text/plain": [
       "median_house_value\n",
       "500001.0    965\n",
       "137500.0    122\n",
       "162500.0    117\n",
       "112500.0    103\n",
       "187500.0     93\n",
       "           ... \n",
       "34200.0       1\n",
       "46200.0       1\n",
       "352000.0      1\n",
       "307900.0      1\n",
       "385200.0      1\n",
       "Name: count, Length: 3842, dtype: int64"
      ]
     },
     "execution_count": 27,
     "metadata": {},
     "output_type": "execute_result"
    }
   ],
   "execution_count": 27
  },
  {
   "metadata": {},
   "cell_type": "markdown",
   "source": [
    "\"\"\"\n",
    "# نکته مهم\n",
    "# ستون های تک که اخر بعضی نمودارها مثل مدین هوس ولیو وجود دارد\n",
    "     این عجیبه\n",
    "     یعنی روی مثلا 500 هزار دلار یه پیک میبینیم \n",
    "     در اصل اومده مقادیر که از یک جایی به بعد کم میشده را قطع کردیم \n",
    "     و همه اعداد بزرگتر از 500 هزار دلار را را روی 500هزار دلار گذاشته و جمع کرده\n",
    "     اما این مقدار اثر میگذاره در حالیکه این تارگت ما است.\n",
    "    نمیتونیم مدلی بنویسیم که برای خانه های بیشتر از 500 هزار دلار نمیتونه پیش بینی انجام بده\n",
    "    بنابراین باید 500هزار دلار را حذف کنیم تا در پیش بینی مدل اثر نگذاره\n",
    "\"\"\"\n"
   ]
  },
  {
   "metadata": {},
   "cell_type": "markdown",
   "source": [
    "---\n",
    " # جلوگیری از سمپلینگ بایاس\n",
    " #### راه حل: طبقه بندی نمونه\n",
    " \n",
    "     \n",
    "     #### روش:\n",
    "     ####  الف. روی نمونه خودمان طبقه بندی انجام دهیم \n",
    "    #### و ب. سپس تست و ترین را مجدد این بار برای کتگوری ای که ایجاد کردیم از هم جدا میکنیم\n",
    "    #### و ج. حذف ستونی که برای طبقه بندی ایجاد کرده بودیم\n"
   ]
  },
  {
   "metadata": {},
   "cell_type": "markdown",
   "source": "####  الف. روی نمونه خودمان طبقه بندی انجام دهیم"
  },
  {
   "metadata": {
    "ExecuteTime": {
     "end_time": "2025-03-18T02:36:51.492543Z",
     "start_time": "2025-03-18T02:36:51.478333Z"
    }
   },
   "cell_type": "code",
   "source": [
    "# \n",
    "df[\"median_house_value_categories\"]=pd.cut(df[\"median_house_value\"],\n",
    "       bins=[0.0,100000.,150000.,200000.,250000.,500001.],\n",
    "       labels=[1,2,3,4,5])\n",
    "df"
   ],
   "outputs": [
    {
     "data": {
      "text/plain": [
       "       longitude  latitude  housing_median_age  total_rooms  total_bedrooms  \\\n",
       "0        -122.23     37.88                41.0        880.0           129.0   \n",
       "1        -122.22     37.86                21.0       7099.0          1106.0   \n",
       "2        -122.24     37.85                52.0       1467.0           190.0   \n",
       "3        -122.25     37.85                52.0       1274.0           235.0   \n",
       "4        -122.25     37.85                52.0       1627.0           280.0   \n",
       "...          ...       ...                 ...          ...             ...   \n",
       "20635    -121.09     39.48                25.0       1665.0           374.0   \n",
       "20636    -121.21     39.49                18.0        697.0           150.0   \n",
       "20637    -121.22     39.43                17.0       2254.0           485.0   \n",
       "20638    -121.32     39.43                18.0       1860.0           409.0   \n",
       "20639    -121.24     39.37                16.0       2785.0           616.0   \n",
       "\n",
       "       population  households  median_income  median_house_value  \\\n",
       "0           322.0       126.0         8.3252            452600.0   \n",
       "1          2401.0      1138.0         8.3014            358500.0   \n",
       "2           496.0       177.0         7.2574            352100.0   \n",
       "3           558.0       219.0         5.6431            341300.0   \n",
       "4           565.0       259.0         3.8462            342200.0   \n",
       "...           ...         ...            ...                 ...   \n",
       "20635       845.0       330.0         1.5603             78100.0   \n",
       "20636       356.0       114.0         2.5568             77100.0   \n",
       "20637      1007.0       433.0         1.7000             92300.0   \n",
       "20638       741.0       349.0         1.8672             84700.0   \n",
       "20639      1387.0       530.0         2.3886             89400.0   \n",
       "\n",
       "      ocean_proximity  identifier median_house_value_categories  \n",
       "0            NEAR BAY  -122192.12                             5  \n",
       "1            NEAR BAY  -122182.14                             5  \n",
       "2            NEAR BAY  -122202.15                             5  \n",
       "3            NEAR BAY  -122212.15                             5  \n",
       "4            NEAR BAY  -122212.15                             5  \n",
       "...               ...         ...                           ...  \n",
       "20635          INLAND  -121050.52                             1  \n",
       "20636          INLAND  -121170.51                             1  \n",
       "20637          INLAND  -121180.57                             1  \n",
       "20638          INLAND  -121280.57                             1  \n",
       "20639          INLAND  -121200.63                             1  \n",
       "\n",
       "[20640 rows x 12 columns]"
      ],
      "text/html": [
       "<div>\n",
       "<style scoped>\n",
       "    .dataframe tbody tr th:only-of-type {\n",
       "        vertical-align: middle;\n",
       "    }\n",
       "\n",
       "    .dataframe tbody tr th {\n",
       "        vertical-align: top;\n",
       "    }\n",
       "\n",
       "    .dataframe thead th {\n",
       "        text-align: right;\n",
       "    }\n",
       "</style>\n",
       "<table border=\"1\" class=\"dataframe\">\n",
       "  <thead>\n",
       "    <tr style=\"text-align: right;\">\n",
       "      <th></th>\n",
       "      <th>longitude</th>\n",
       "      <th>latitude</th>\n",
       "      <th>housing_median_age</th>\n",
       "      <th>total_rooms</th>\n",
       "      <th>total_bedrooms</th>\n",
       "      <th>population</th>\n",
       "      <th>households</th>\n",
       "      <th>median_income</th>\n",
       "      <th>median_house_value</th>\n",
       "      <th>ocean_proximity</th>\n",
       "      <th>identifier</th>\n",
       "      <th>median_house_value_categories</th>\n",
       "    </tr>\n",
       "  </thead>\n",
       "  <tbody>\n",
       "    <tr>\n",
       "      <th>0</th>\n",
       "      <td>-122.23</td>\n",
       "      <td>37.88</td>\n",
       "      <td>41.0</td>\n",
       "      <td>880.0</td>\n",
       "      <td>129.0</td>\n",
       "      <td>322.0</td>\n",
       "      <td>126.0</td>\n",
       "      <td>8.3252</td>\n",
       "      <td>452600.0</td>\n",
       "      <td>NEAR BAY</td>\n",
       "      <td>-122192.12</td>\n",
       "      <td>5</td>\n",
       "    </tr>\n",
       "    <tr>\n",
       "      <th>1</th>\n",
       "      <td>-122.22</td>\n",
       "      <td>37.86</td>\n",
       "      <td>21.0</td>\n",
       "      <td>7099.0</td>\n",
       "      <td>1106.0</td>\n",
       "      <td>2401.0</td>\n",
       "      <td>1138.0</td>\n",
       "      <td>8.3014</td>\n",
       "      <td>358500.0</td>\n",
       "      <td>NEAR BAY</td>\n",
       "      <td>-122182.14</td>\n",
       "      <td>5</td>\n",
       "    </tr>\n",
       "    <tr>\n",
       "      <th>2</th>\n",
       "      <td>-122.24</td>\n",
       "      <td>37.85</td>\n",
       "      <td>52.0</td>\n",
       "      <td>1467.0</td>\n",
       "      <td>190.0</td>\n",
       "      <td>496.0</td>\n",
       "      <td>177.0</td>\n",
       "      <td>7.2574</td>\n",
       "      <td>352100.0</td>\n",
       "      <td>NEAR BAY</td>\n",
       "      <td>-122202.15</td>\n",
       "      <td>5</td>\n",
       "    </tr>\n",
       "    <tr>\n",
       "      <th>3</th>\n",
       "      <td>-122.25</td>\n",
       "      <td>37.85</td>\n",
       "      <td>52.0</td>\n",
       "      <td>1274.0</td>\n",
       "      <td>235.0</td>\n",
       "      <td>558.0</td>\n",
       "      <td>219.0</td>\n",
       "      <td>5.6431</td>\n",
       "      <td>341300.0</td>\n",
       "      <td>NEAR BAY</td>\n",
       "      <td>-122212.15</td>\n",
       "      <td>5</td>\n",
       "    </tr>\n",
       "    <tr>\n",
       "      <th>4</th>\n",
       "      <td>-122.25</td>\n",
       "      <td>37.85</td>\n",
       "      <td>52.0</td>\n",
       "      <td>1627.0</td>\n",
       "      <td>280.0</td>\n",
       "      <td>565.0</td>\n",
       "      <td>259.0</td>\n",
       "      <td>3.8462</td>\n",
       "      <td>342200.0</td>\n",
       "      <td>NEAR BAY</td>\n",
       "      <td>-122212.15</td>\n",
       "      <td>5</td>\n",
       "    </tr>\n",
       "    <tr>\n",
       "      <th>...</th>\n",
       "      <td>...</td>\n",
       "      <td>...</td>\n",
       "      <td>...</td>\n",
       "      <td>...</td>\n",
       "      <td>...</td>\n",
       "      <td>...</td>\n",
       "      <td>...</td>\n",
       "      <td>...</td>\n",
       "      <td>...</td>\n",
       "      <td>...</td>\n",
       "      <td>...</td>\n",
       "      <td>...</td>\n",
       "    </tr>\n",
       "    <tr>\n",
       "      <th>20635</th>\n",
       "      <td>-121.09</td>\n",
       "      <td>39.48</td>\n",
       "      <td>25.0</td>\n",
       "      <td>1665.0</td>\n",
       "      <td>374.0</td>\n",
       "      <td>845.0</td>\n",
       "      <td>330.0</td>\n",
       "      <td>1.5603</td>\n",
       "      <td>78100.0</td>\n",
       "      <td>INLAND</td>\n",
       "      <td>-121050.52</td>\n",
       "      <td>1</td>\n",
       "    </tr>\n",
       "    <tr>\n",
       "      <th>20636</th>\n",
       "      <td>-121.21</td>\n",
       "      <td>39.49</td>\n",
       "      <td>18.0</td>\n",
       "      <td>697.0</td>\n",
       "      <td>150.0</td>\n",
       "      <td>356.0</td>\n",
       "      <td>114.0</td>\n",
       "      <td>2.5568</td>\n",
       "      <td>77100.0</td>\n",
       "      <td>INLAND</td>\n",
       "      <td>-121170.51</td>\n",
       "      <td>1</td>\n",
       "    </tr>\n",
       "    <tr>\n",
       "      <th>20637</th>\n",
       "      <td>-121.22</td>\n",
       "      <td>39.43</td>\n",
       "      <td>17.0</td>\n",
       "      <td>2254.0</td>\n",
       "      <td>485.0</td>\n",
       "      <td>1007.0</td>\n",
       "      <td>433.0</td>\n",
       "      <td>1.7000</td>\n",
       "      <td>92300.0</td>\n",
       "      <td>INLAND</td>\n",
       "      <td>-121180.57</td>\n",
       "      <td>1</td>\n",
       "    </tr>\n",
       "    <tr>\n",
       "      <th>20638</th>\n",
       "      <td>-121.32</td>\n",
       "      <td>39.43</td>\n",
       "      <td>18.0</td>\n",
       "      <td>1860.0</td>\n",
       "      <td>409.0</td>\n",
       "      <td>741.0</td>\n",
       "      <td>349.0</td>\n",
       "      <td>1.8672</td>\n",
       "      <td>84700.0</td>\n",
       "      <td>INLAND</td>\n",
       "      <td>-121280.57</td>\n",
       "      <td>1</td>\n",
       "    </tr>\n",
       "    <tr>\n",
       "      <th>20639</th>\n",
       "      <td>-121.24</td>\n",
       "      <td>39.37</td>\n",
       "      <td>16.0</td>\n",
       "      <td>2785.0</td>\n",
       "      <td>616.0</td>\n",
       "      <td>1387.0</td>\n",
       "      <td>530.0</td>\n",
       "      <td>2.3886</td>\n",
       "      <td>89400.0</td>\n",
       "      <td>INLAND</td>\n",
       "      <td>-121200.63</td>\n",
       "      <td>1</td>\n",
       "    </tr>\n",
       "  </tbody>\n",
       "</table>\n",
       "<p>20640 rows × 12 columns</p>\n",
       "</div>"
      ]
     },
     "execution_count": 28,
     "metadata": {},
     "output_type": "execute_result"
    }
   ],
   "execution_count": 28
  },
  {
   "metadata": {
    "ExecuteTime": {
     "end_time": "2025-03-18T02:36:51.498609Z",
     "start_time": "2025-03-18T02:36:51.493554Z"
    }
   },
   "cell_type": "code",
   "source": [
    "df[\"median_house_value_categories\"].value_counts()\n",
    "#  کتگوری را بر اساس ماکسیمم مرتب میکنه"
   ],
   "outputs": [
    {
     "data": {
      "text/plain": [
       "median_house_value_categories\n",
       "5    5782\n",
       "3    4311\n",
       "2    3962\n",
       "1    3658\n",
       "4    2927\n",
       "Name: count, dtype: int64"
      ]
     },
     "execution_count": 29,
     "metadata": {},
     "output_type": "execute_result"
    }
   ],
   "execution_count": 29
  },
  {
   "cell_type": "code",
   "source": [
    "df[\"median_house_value_categories\"].value_counts().sort_index().plot.bar(grid=True)\n",
    "# عبارت sort_index() باعث میشه که دیگه بر اساس ماکسیمم نشان نده و براساس اندیس نشان دهد"
   ],
   "metadata": {
    "colab": {
     "base_uri": "https://localhost:8080/",
     "height": 279
    },
    "id": "oILjb53C-Bj_",
    "outputId": "e2ae18bc-f4c4-482a-febf-381453334b84",
    "ExecuteTime": {
     "end_time": "2025-03-18T02:36:51.574342Z",
     "start_time": "2025-03-18T02:36:51.499113Z"
    }
   },
   "outputs": [
    {
     "data": {
      "text/plain": [
       "<Axes: xlabel='median_house_value_categories'>"
      ]
     },
     "execution_count": 30,
     "metadata": {},
     "output_type": "execute_result"
    },
    {
     "data": {
      "text/plain": [
       "<Figure size 640x480 with 1 Axes>"
      ],
      "image/png": "[encoded data removed]"
     },
     "metadata": {},
     "output_type": "display_data"
    }
   ],
   "execution_count": 30
  },
  {
   "metadata": {
    "ExecuteTime": {
     "end_time": "2025-03-18T02:36:51.982875Z",
     "start_time": "2025-03-18T02:36:51.575375Z"
    }
   },
   "cell_type": "code",
   "source": [
    "# پیدا کردن مقدار Nan در y\n",
    "print(str_train_set['median_house_value'].isnull().sum())\n",
    "# اگر خروجی این کد عددی بزرگتر از 0 باشد، به این معنی است که ستون median_house_value در مجموعه داده آموزشی شما حاوی مقادیر NaN است\n",
    "# وقتی شما متد .sum() را روی یک سری (Series) بولی اعمال می‌کنید، پایتون به طور خودکار مقادیر True را به 1 و مقادیر False را به 0 تبدیل می‌کند. سپس، این مقادیر 0 و 1 با هم جمع می‌شوند."
   ],
   "outputs": [
    {
     "ename": "NameError",
     "evalue": "name 'str_train_set' is not defined",
     "output_type": "error",
     "traceback": [
      "\u001B[31m---------------------------------------------------------------------------\u001B[39m",
      "\u001B[31mNameError\u001B[39m                                 Traceback (most recent call last)",
      "\u001B[36mCell\u001B[39m\u001B[36m \u001B[39m\u001B[32mIn[31]\u001B[39m\u001B[32m, line 2\u001B[39m\n\u001B[32m      1\u001B[39m \u001B[38;5;66;03m# پیدا کردن مقدار Nan در y\u001B[39;00m\n\u001B[32m----> \u001B[39m\u001B[32m2\u001B[39m \u001B[38;5;28mprint\u001B[39m(\u001B[43mstr_train_set\u001B[49m[\u001B[33m'\u001B[39m\u001B[33mmedian_house_value\u001B[39m\u001B[33m'\u001B[39m].isnull().sum())\n\u001B[32m      3\u001B[39m \u001B[38;5;66;03m# اگر خروجی این کد عددی بزرگتر از 0 باشد، به این معنی است که ستون median_house_value در مجموعه داده آموزشی شما حاوی مقادیر NaN است\u001B[39;00m\n\u001B[32m      4\u001B[39m \u001B[38;5;66;03m# وقتی شما متد .sum() را روی یک سری (Series) بولی اعمال می‌کنید، پایتون به طور خودکار مقادیر True را به 1 و مقادیر False را به 0 تبدیل می‌کند. سپس، این مقادیر 0 و 1 با هم جمع می‌شوند.\u001B[39;00m\n",
      "\u001B[31mNameError\u001B[39m: name 'str_train_set' is not defined"
     ]
    }
   ],
   "execution_count": 31
  },
  {
   "metadata": {},
   "cell_type": "code",
   "source": [
    "# پیدا کردن مقدار Nan در X\n",
    "print(str_train_set.isnull().sum())"
   ],
   "outputs": [],
   "execution_count": null
  },
  {
   "metadata": {
    "ExecuteTime": {
     "end_time": "2025-03-18T02:36:51.984902Z",
     "start_time": "2025-03-18T02:36:51.983891Z"
    }
   },
   "cell_type": "code",
   "source": [
    "# جایگزین NaN با صفر در ترین  و تست\n",
    "train_set['total_bedrooms'].fillna(0)\n",
    "test_set['total_bedrooms'].fillna(0)\n",
    "\n",
    "\n",
    "# # محاسبه میانه از مجموعه آموزش و جایگزین NaN با میانه در تست و ترین \n",
    "# median_bedrooms_train = train_set['total_bedrooms'].median()\n",
    "# train_set['total_bedrooms'].fillna(median_bedrooms_train)\n",
    "# test_set['total_bedrooms'].fillna(median_bedrooms_train)\n",
    "# \n",
    "# # اگر می‌خواهید از میانگین استفاده کنید، به جای .median() از .mean() استفاده کنید\n",
    "# mean_bedrooms_train = train_set['total_bedrooms'].mean()\n",
    "# train_set['total_bedrooms'].fillna(mean_bedrooms_train)\n",
    "# test_set['total_bedrooms'].fillna(mean_bedrooms_train)"
   ],
   "outputs": [],
   "execution_count": null
  },
  {
   "metadata": {},
   "cell_type": "markdown",
   "source": ""
  },
  {
   "metadata": {},
   "cell_type": "markdown",
   "source": [
    "\n",
    "# و ب.  تست و ترین را برای کتگوری مجددا از هم جدا میکنیم\n"
   ]
  },
  {
   "cell_type": "code",
   "source": [
    "str_train_set, str_test_set = train_test_split(df,\n",
    "                                               test_size=0.2,\n",
    "                                               stratify=df[\"median_house_value_categories\"],\n",
    "                                               random_state=40)\n",
    "# df  همان X ما و stratify همان ستون ما است \n",
    "#  که مقدار stratify را برابر با ستونی قرار میدهیم که رووش کتگوری ایجاد کردیم"
   ],
   "metadata": {
    "id": "j4sx-3U3GwEg"
   },
   "outputs": [],
   "execution_count": null
  },
  {
   "cell_type": "code",
   "source": "str_train_set[\"median_house_value_categories\"].value_counts()/len(str_train_set)",
   "metadata": {
    "colab": {
     "base_uri": "https://localhost:8080/"
    },
    "id": "AsJH5aPXHXbc",
    "outputId": "982ecdff-119d-4c1f-a2ca-6f3499923178"
   },
   "outputs": [],
   "execution_count": null
  },
  {
   "metadata": {},
   "cell_type": "markdown",
   "source": [
    "\"\"\"\n",
    "بیایید مرحله به مرحله بررسی کنیم:\n",
    "\n",
    "    str_train_set[\"median_house_value_categories\"].value_counts(): این قسمت از کد تعداد ردیف‌های مربوط به هر دسته منحصر به فرد در ستون median_house_value_categories را در مجموعه آموزش شمارش می‌کند. نتیجه یک سری (Series) است که در آن اندیس‌ها نام دسته‌ها و مقادیر تعداد نمونه‌های مربوط به هر دسته هستند.\n",
    "\n",
    "    / len(str_train_set): این قسمت از کد نتیجه value_counts() را بر تعداد کل نمونه‌های موجود در مجموعه آموزش (len(str_train_set)) تقسیم می‌کند. این تقسیم باعث می‌شود که تعداد نمونه‌های هر دسته به یک نسبت یا درصد تبدیل شود.\n",
    "\n",
    "مثال:\n",
    "\n",
    "فرض کنید در مجموعه آموزش (str_train_set) 1000 نمونه وجود دارد و ستون median_house_value_categories به صورت زیر است:\n",
    "\n",
    "    دسته 1: 200 نمونه\n",
    "    دسته 2: 300 نمونه\n",
    "    دسته 3: 250 نمونه\n",
    "    دسته 4: 150 نمونه\n",
    "    دسته 5: 100 نمونه\n",
    "\n",
    "در این صورت:\n",
    "\n",
    "    str_train_set[\"median_house_value_categories\"].value_counts() نتیجه‌ای مشابه زیر خواهد داشت:\n",
    "\n",
    "    1    200\n",
    "    2    300\n",
    "    3    250\n",
    "    4    150\n",
    "    5    100\n",
    "    Name: median_house_value_categories, dtype: int64\n",
    "\n",
    "    len(str_train_set) برابر با 1000 خواهد بود.\n",
    "\n",
    "    فرمول str_train_set[\"median_house_value_categories\"].value_counts()/len(str_train_set) نتایج زیر را به دست خواهد داد:\n",
    "\n",
    "    1    0.20\n",
    "    2    0.30\n",
    "    3    0.25\n",
    "    4    0.15\n",
    "    5    0.10\n",
    "    Name: median_house_value_categories, dtype: float64\n",
    "\n",
    "    این نشان می‌دهد که:\n",
    "        20% از نمونه‌های مجموعه آموزش در دسته 1 قرار دارند.\n",
    "        30% از نمونه‌های مجموعه آموزش در دسته 2 قرار دارند.\n",
    "        25% از نمونه‌های مجموعه آموزش در دسته 3 قرار دارند.\n",
    "        15% از نمونه‌های مجموعه آموزش در دسته 4 قرار دارند.\n",
    "        10% از نمونه‌های مجموعه آموزش در دسته 5 قرار دارند.\n",
    "\n",
    "##### هدف از استفاده از این فرمول:\n",
    "\n",
    " ##### این فرمول معمولاً برای این موضوع استفاده می‌شود که آیا توزیع دسته‌ها در مجموعه آموزش با توزیع دسته‌ها در دیتافریم اصلی یا مجموعه آزمایش مطابقت دارد یا خیر.\n",
    "  ##### این امر به ویژه زمانی مهم است که از روش stratify در train_test_split استفاده می‌کنید، \n",
    " ##### زیرا هدف stratify این است که اطمینان حاصل شود که نسبت دسته‌ها در مجموعه‌های آموزش و آزمایش مشابه نسبت آن‌ها در دیتافریم اصلی است.\n",
    "\"\"\""
   ]
  },
  {
   "metadata": {},
   "cell_type": "markdown",
   "source": "# ج. حذف ستونی که برای طبقه بندی ایجاد کرده بودیم\n"
  },
  {
   "cell_type": "code",
   "source": [
    "str_train_set = str_train_set.drop(\"median_house_value_categories\", axis=1)\n",
    "# axis=1 یعنی ستون را در نظر بگیر\n",
    "str_test_set = str_test_set.drop(\"median_house_value_categories\", axis=1)"
   ],
   "metadata": {
    "id": "pEt0aluKHYx1"
   },
   "outputs": [],
   "execution_count": null
  },
  {
   "cell_type": "code",
   "source": [
    "str_train_set"
   ],
   "metadata": {
    "colab": {
     "base_uri": "https://localhost:8080/",
     "height": 487
    },
    "id": "0hEauEpHazkO",
    "outputId": "3cda4d1a-e4ba-4121-cb36-4682f18cade6"
   },
   "outputs": [],
   "execution_count": null
  },
  {
   "cell_type": "markdown",
   "source": [
    "---\n",
    "# Visualize"
   ],
   "metadata": {
    "id": "evobCfkHbxOo"
   }
  },
  {
   "cell_type": "code",
   "source": [
    "train = str_train_set"
   ],
   "metadata": {
    "id": "qrdCHof7b18R"
   },
   "outputs": [],
   "execution_count": null
  },
  {
   "cell_type": "code",
   "source": [
    "ax = sns.scatterplot(data=train,\n",
    "                    x=\"longitude\",\n",
    "                    y=\"latitude\",\n",
    "                    size=\"population\",\n",
    "                    alpha=0.2,\n",
    "                    hue=\"median_house_value\")\n",
    "sns.move_legend(ax, \"upper left\", bbox_to_anchor=(1, 1))"
   ],
   "metadata": {
    "colab": {
     "base_uri": "https://localhost:8080/",
     "height": 279
    },
    "id": "8YI7c-uZb8RN",
    "outputId": "1a7aa660-f70c-42b1-be62-d9ea6997fef2",
    "ExecuteTime": {
     "end_time": "2025-03-18T02:36:52.322930Z",
     "start_time": "2025-03-18T02:36:52.302709Z"
    }
   },
   "outputs": [
    {
     "ename": "NameError",
     "evalue": "name 'train' is not defined",
     "output_type": "error",
     "traceback": [
      "\u001B[31m---------------------------------------------------------------------------\u001B[39m",
      "\u001B[31mNameError\u001B[39m                                 Traceback (most recent call last)",
      "\u001B[36mCell\u001B[39m\u001B[36m \u001B[39m\u001B[32mIn[32]\u001B[39m\u001B[32m, line 1\u001B[39m\n\u001B[32m----> \u001B[39m\u001B[32m1\u001B[39m ax = sns.scatterplot(data=\u001B[43mtrain\u001B[49m,\n\u001B[32m      2\u001B[39m                     x=\u001B[33m\"\u001B[39m\u001B[33mlongitude\u001B[39m\u001B[33m\"\u001B[39m,\n\u001B[32m      3\u001B[39m                     y=\u001B[33m\"\u001B[39m\u001B[33mlatitude\u001B[39m\u001B[33m\"\u001B[39m,\n\u001B[32m      4\u001B[39m                     size=\u001B[33m\"\u001B[39m\u001B[33mpopulation\u001B[39m\u001B[33m\"\u001B[39m,\n\u001B[32m      5\u001B[39m                     alpha=\u001B[32m0.2\u001B[39m,\n\u001B[32m      6\u001B[39m                     hue=\u001B[33m\"\u001B[39m\u001B[33mmedian_house_value\u001B[39m\u001B[33m\"\u001B[39m)\n\u001B[32m      7\u001B[39m sns.move_legend(ax, \u001B[33m\"\u001B[39m\u001B[33mupper left\u001B[39m\u001B[33m\"\u001B[39m, bbox_to_anchor=(\u001B[32m1\u001B[39m, \u001B[32m1\u001B[39m))\n",
      "\u001B[31mNameError\u001B[39m: name 'train' is not defined"
     ]
    }
   ],
   "execution_count": 32
  },
  {
   "cell_type": "markdown",
   "source": [
    "---\n",
    "# Correlations"
   ],
   "metadata": {
    "id": "olnBIKiHlcaQ"
   }
  },
  {
   "cell_type": "code",
   "source": [
    "train.corr()[\"median_house_value\"]"
   ],
   "metadata": {
    "colab": {
     "base_uri": "https://localhost:8080/"
    },
    "id": "5CSL576FcbFO",
    "outputId": "4249c593-c805-4545-814f-8c4fd898a441",
    "ExecuteTime": {
     "end_time": "2025-03-18T02:36:52.521806Z",
     "start_time": "2025-03-18T02:36:52.500838Z"
    }
   },
   "outputs": [
    {
     "ename": "NameError",
     "evalue": "name 'train' is not defined",
     "output_type": "error",
     "traceback": [
      "\u001B[31m---------------------------------------------------------------------------\u001B[39m",
      "\u001B[31mNameError\u001B[39m                                 Traceback (most recent call last)",
      "\u001B[36mCell\u001B[39m\u001B[36m \u001B[39m\u001B[32mIn[33]\u001B[39m\u001B[32m, line 1\u001B[39m\n\u001B[32m----> \u001B[39m\u001B[32m1\u001B[39m \u001B[43mtrain\u001B[49m.corr()[\u001B[33m\"\u001B[39m\u001B[33mmedian_house_value\u001B[39m\u001B[33m\"\u001B[39m]\n",
      "\u001B[31mNameError\u001B[39m: name 'train' is not defined"
     ]
    }
   ],
   "execution_count": 33
  },
  {
   "cell_type": "code",
   "source": [
    "sns.scatterplot(data=train,\n",
    "                x=\"median_income\",\n",
    "                y=\"median_house_value\",\n",
    "                alpha=0.2)"
   ],
   "metadata": {
    "colab": {
     "base_uri": "https://localhost:8080/",
     "height": 297
    },
    "id": "AlePjcI7m9sn",
    "outputId": "a13ae7b7-cbe6-4c87-f441-f2d7d1018cd5",
    "ExecuteTime": {
     "end_time": "2025-03-18T02:36:56.164891Z",
     "start_time": "2025-03-18T02:36:56.145230Z"
    }
   },
   "outputs": [
    {
     "ename": "NameError",
     "evalue": "name 'train' is not defined",
     "output_type": "error",
     "traceback": [
      "\u001B[31m---------------------------------------------------------------------------\u001B[39m",
      "\u001B[31mNameError\u001B[39m                                 Traceback (most recent call last)",
      "\u001B[36mCell\u001B[39m\u001B[36m \u001B[39m\u001B[32mIn[34]\u001B[39m\u001B[32m, line 1\u001B[39m\n\u001B[32m----> \u001B[39m\u001B[32m1\u001B[39m sns.scatterplot(data=\u001B[43mtrain\u001B[49m,\n\u001B[32m      2\u001B[39m                 x=\u001B[33m\"\u001B[39m\u001B[33mmedian_income\u001B[39m\u001B[33m\"\u001B[39m,\n\u001B[32m      3\u001B[39m                 y=\u001B[33m\"\u001B[39m\u001B[33mmedian_house_value\u001B[39m\u001B[33m\"\u001B[39m,\n\u001B[32m      4\u001B[39m                 alpha=\u001B[32m0.2\u001B[39m)\n",
      "\u001B[31mNameError\u001B[39m: name 'train' is not defined"
     ]
    }
   ],
   "execution_count": 34
  },
  {
   "cell_type": "markdown",
   "source": [
    "# Attribute combinations"
   ],
   "metadata": {
    "id": "p75p0C-gyABk"
   }
  },
  {
   "cell_type": "code",
   "source": [
    "train[\"rooms_per_house\"] = train[\"total_rooms\"]/train[\"households\"]\n",
    "train[\"bedrooms_ratio\"] = train[\"total_bedrooms\"]/train[\"total_rooms\"]\n",
    "train[\"people_per_house\"] = train[\"population\"]/train[\"households\"]\n",
    "train"
   ],
   "metadata": {
    "colab": {
     "base_uri": "https://localhost:8080/",
     "height": 487
    },
    "id": "xnBRpPi-oawX",
    "outputId": "9ba8ff31-06ed-4fec-e03e-eea61627f230",
    "ExecuteTime": {
     "end_time": "2025-03-18T02:36:56.305014Z",
     "start_time": "2025-03-18T02:36:56.284133Z"
    }
   },
   "outputs": [
    {
     "ename": "NameError",
     "evalue": "name 'train' is not defined",
     "output_type": "error",
     "traceback": [
      "\u001B[31m---------------------------------------------------------------------------\u001B[39m",
      "\u001B[31mNameError\u001B[39m                                 Traceback (most recent call last)",
      "\u001B[36mCell\u001B[39m\u001B[36m \u001B[39m\u001B[32mIn[35]\u001B[39m\u001B[32m, line 1\u001B[39m\n\u001B[32m----> \u001B[39m\u001B[32m1\u001B[39m train[\u001B[33m\"\u001B[39m\u001B[33mrooms_per_house\u001B[39m\u001B[33m\"\u001B[39m] = \u001B[43mtrain\u001B[49m[\u001B[33m\"\u001B[39m\u001B[33mtotal_rooms\u001B[39m\u001B[33m\"\u001B[39m]/train[\u001B[33m\"\u001B[39m\u001B[33mhouseholds\u001B[39m\u001B[33m\"\u001B[39m]\n\u001B[32m      2\u001B[39m train[\u001B[33m\"\u001B[39m\u001B[33mbedrooms_ratio\u001B[39m\u001B[33m\"\u001B[39m] = train[\u001B[33m\"\u001B[39m\u001B[33mtotal_bedrooms\u001B[39m\u001B[33m\"\u001B[39m]/train[\u001B[33m\"\u001B[39m\u001B[33mtotal_rooms\u001B[39m\u001B[33m\"\u001B[39m]\n\u001B[32m      3\u001B[39m train[\u001B[33m\"\u001B[39m\u001B[33mpeople_per_house\u001B[39m\u001B[33m\"\u001B[39m] = train[\u001B[33m\"\u001B[39m\u001B[33mpopulation\u001B[39m\u001B[33m\"\u001B[39m]/train[\u001B[33m\"\u001B[39m\u001B[33mhouseholds\u001B[39m\u001B[33m\"\u001B[39m]\n",
      "\u001B[31mNameError\u001B[39m: name 'train' is not defined"
     ]
    }
   ],
   "execution_count": 35
  },
  {
   "cell_type": "code",
   "source": [
    "train.corr()[\"median_house_value\"]"
   ],
   "metadata": {
    "colab": {
     "base_uri": "https://localhost:8080/"
    },
    "id": "_btmiVkuyzFz",
    "outputId": "024ba87b-b12e-46a4-bf5a-6687583db1d2",
    "ExecuteTime": {
     "end_time": "2025-03-18T02:36:56.501472Z",
     "start_time": "2025-03-18T02:36:56.482070Z"
    }
   },
   "outputs": [
    {
     "ename": "NameError",
     "evalue": "name 'train' is not defined",
     "output_type": "error",
     "traceback": [
      "\u001B[31m---------------------------------------------------------------------------\u001B[39m",
      "\u001B[31mNameError\u001B[39m                                 Traceback (most recent call last)",
      "\u001B[36mCell\u001B[39m\u001B[36m \u001B[39m\u001B[32mIn[36]\u001B[39m\u001B[32m, line 1\u001B[39m\n\u001B[32m----> \u001B[39m\u001B[32m1\u001B[39m \u001B[43mtrain\u001B[49m.corr()[\u001B[33m\"\u001B[39m\u001B[33mmedian_house_value\u001B[39m\u001B[33m\"\u001B[39m]\n",
      "\u001B[31mNameError\u001B[39m: name 'train' is not defined"
     ]
    }
   ],
   "execution_count": 36
  },
  {
   "cell_type": "markdown",
   "source": [
    "# Prepare Data"
   ],
   "metadata": {
    "id": "CXzBQcemS_eM"
   }
  },
  {
   "cell_type": "code",
   "source": [
    "train_features = train.drop(\"median_house_value\", axis=1)\n",
    "train_target = train[\"median_house_value\"]\n",
    "train_target"
   ],
   "metadata": {
    "colab": {
     "base_uri": "https://localhost:8080/"
    },
    "id": "24V0Mhf4N_vk",
    "outputId": "7ee53bf2-727e-47b2-b11e-6e94f07c2244",
    "ExecuteTime": {
     "end_time": "2025-03-18T02:36:56.639700Z",
     "start_time": "2025-03-18T02:36:56.619393Z"
    }
   },
   "outputs": [
    {
     "ename": "NameError",
     "evalue": "name 'train' is not defined",
     "output_type": "error",
     "traceback": [
      "\u001B[31m---------------------------------------------------------------------------\u001B[39m",
      "\u001B[31mNameError\u001B[39m                                 Traceback (most recent call last)",
      "\u001B[36mCell\u001B[39m\u001B[36m \u001B[39m\u001B[32mIn[37]\u001B[39m\u001B[32m, line 1\u001B[39m\n\u001B[32m----> \u001B[39m\u001B[32m1\u001B[39m train_features = \u001B[43mtrain\u001B[49m.drop(\u001B[33m\"\u001B[39m\u001B[33mmedian_house_value\u001B[39m\u001B[33m\"\u001B[39m, axis=\u001B[32m1\u001B[39m)\n\u001B[32m      2\u001B[39m train_target = train[\u001B[33m\"\u001B[39m\u001B[33mmedian_house_value\u001B[39m\u001B[33m\"\u001B[39m]\n\u001B[32m      3\u001B[39m train_target\n",
      "\u001B[31mNameError\u001B[39m: name 'train' is not defined"
     ]
    }
   ],
   "execution_count": 37
  },
  {
   "cell_type": "markdown",
   "source": [
    "## Data cleaning"
   ],
   "metadata": {
    "id": "RCC6Vz3_TrXM"
   }
  },
  {
   "cell_type": "code",
   "source": [
    "train_features.info()"
   ],
   "metadata": {
    "colab": {
     "base_uri": "https://localhost:8080/"
    },
    "id": "wcbN7uHZTPBX",
    "outputId": "0469f7c5-6c98-414f-997c-1a05fc6b9b87",
    "ExecuteTime": {
     "end_time": "2025-03-18T02:36:56.852669Z",
     "start_time": "2025-03-18T02:36:56.833319Z"
    }
   },
   "outputs": [
    {
     "ename": "NameError",
     "evalue": "name 'train_features' is not defined",
     "output_type": "error",
     "traceback": [
      "\u001B[31m---------------------------------------------------------------------------\u001B[39m",
      "\u001B[31mNameError\u001B[39m                                 Traceback (most recent call last)",
      "\u001B[36mCell\u001B[39m\u001B[36m \u001B[39m\u001B[32mIn[38]\u001B[39m\u001B[32m, line 1\u001B[39m\n\u001B[32m----> \u001B[39m\u001B[32m1\u001B[39m \u001B[43mtrain_features\u001B[49m.info()\n",
      "\u001B[31mNameError\u001B[39m: name 'train_features' is not defined"
     ]
    }
   ],
   "execution_count": 38
  },
  {
   "cell_type": "code",
   "source": [
    "# remove rows with NA values\n",
    "train_features.dropna(subset=[\"total_bedrooms\"]).info()"
   ],
   "metadata": {
    "colab": {
     "base_uri": "https://localhost:8080/"
    },
    "id": "8ZPn_14cUHp6",
    "outputId": "37faa677-b2fb-4dd3-f502-594667929f62",
    "ExecuteTime": {
     "end_time": "2025-03-18T02:36:56.979832Z",
     "start_time": "2025-03-18T02:36:56.956335Z"
    }
   },
   "outputs": [
    {
     "ename": "NameError",
     "evalue": "name 'train_features' is not defined",
     "output_type": "error",
     "traceback": [
      "\u001B[31m---------------------------------------------------------------------------\u001B[39m",
      "\u001B[31mNameError\u001B[39m                                 Traceback (most recent call last)",
      "\u001B[36mCell\u001B[39m\u001B[36m \u001B[39m\u001B[32mIn[39]\u001B[39m\u001B[32m, line 2\u001B[39m\n\u001B[32m      1\u001B[39m \u001B[38;5;66;03m# remove rows with NA values\u001B[39;00m\n\u001B[32m----> \u001B[39m\u001B[32m2\u001B[39m \u001B[43mtrain_features\u001B[49m.dropna(subset=[\u001B[33m\"\u001B[39m\u001B[33mtotal_bedrooms\u001B[39m\u001B[33m\"\u001B[39m]).info()\n",
      "\u001B[31mNameError\u001B[39m: name 'train_features' is not defined"
     ]
    }
   ],
   "execution_count": 39
  },
  {
   "cell_type": "code",
   "source": [
    "# train_features_with_imputed_na_values\n",
    "total_bedrooms_median = train_features[\"total_bedrooms\"].median()\n",
    "train_features[\"total_bedrooms\"] = train_features[\"total_bedrooms\"].fillna(total_bedrooms_median)"
   ],
   "metadata": {
    "id": "Cc8-PEv6WjCC",
    "ExecuteTime": {
     "end_time": "2025-03-18T02:36:57.206442Z",
     "start_time": "2025-03-18T02:36:57.184900Z"
    }
   },
   "outputs": [
    {
     "ename": "NameError",
     "evalue": "name 'train_features' is not defined",
     "output_type": "error",
     "traceback": [
      "\u001B[31m---------------------------------------------------------------------------\u001B[39m",
      "\u001B[31mNameError\u001B[39m                                 Traceback (most recent call last)",
      "\u001B[36mCell\u001B[39m\u001B[36m \u001B[39m\u001B[32mIn[40]\u001B[39m\u001B[32m, line 2\u001B[39m\n\u001B[32m      1\u001B[39m \u001B[38;5;66;03m# train_features_with_imputed_na_values\u001B[39;00m\n\u001B[32m----> \u001B[39m\u001B[32m2\u001B[39m total_bedrooms_median = \u001B[43mtrain_features\u001B[49m[\u001B[33m\"\u001B[39m\u001B[33mtotal_bedrooms\u001B[39m\u001B[33m\"\u001B[39m].median()\n\u001B[32m      3\u001B[39m train_features[\u001B[33m\"\u001B[39m\u001B[33mtotal_bedrooms\u001B[39m\u001B[33m\"\u001B[39m] = train_features[\u001B[33m\"\u001B[39m\u001B[33mtotal_bedrooms\u001B[39m\u001B[33m\"\u001B[39m].fillna(total_bedrooms_median)\n",
      "\u001B[31mNameError\u001B[39m: name 'train_features' is not defined"
     ]
    }
   ],
   "execution_count": 40
  },
  {
   "cell_type": "code",
   "source": [
    "train_features.info()"
   ],
   "metadata": {
    "colab": {
     "base_uri": "https://localhost:8080/"
    },
    "id": "WeeavwHIbhK0",
    "outputId": "009fc033-a5d8-4a16-bb62-c7e9ad15cbb5",
    "ExecuteTime": {
     "end_time": "2025-03-18T02:36:57.372671Z",
     "start_time": "2025-03-18T02:36:57.353346Z"
    }
   },
   "outputs": [
    {
     "ename": "NameError",
     "evalue": "name 'train_features' is not defined",
     "output_type": "error",
     "traceback": [
      "\u001B[31m---------------------------------------------------------------------------\u001B[39m",
      "\u001B[31mNameError\u001B[39m                                 Traceback (most recent call last)",
      "\u001B[36mCell\u001B[39m\u001B[36m \u001B[39m\u001B[32mIn[41]\u001B[39m\u001B[32m, line 1\u001B[39m\n\u001B[32m----> \u001B[39m\u001B[32m1\u001B[39m \u001B[43mtrain_features\u001B[49m.info()\n",
      "\u001B[31mNameError\u001B[39m: name 'train_features' is not defined"
     ]
    }
   ],
   "execution_count": 41
  },
  {
   "cell_type": "code",
   "source": [
    "train_features[\"bedrooms_ratio\"] = train_features[\"total_bedrooms\"]/train_features[\"total_rooms\"]"
   ],
   "metadata": {
    "id": "2n1zNJugcNUc",
    "ExecuteTime": {
     "end_time": "2025-03-18T02:36:57.556306Z",
     "start_time": "2025-03-18T02:36:57.536602Z"
    }
   },
   "outputs": [
    {
     "ename": "NameError",
     "evalue": "name 'train_features' is not defined",
     "output_type": "error",
     "traceback": [
      "\u001B[31m---------------------------------------------------------------------------\u001B[39m",
      "\u001B[31mNameError\u001B[39m                                 Traceback (most recent call last)",
      "\u001B[36mCell\u001B[39m\u001B[36m \u001B[39m\u001B[32mIn[42]\u001B[39m\u001B[32m, line 1\u001B[39m\n\u001B[32m----> \u001B[39m\u001B[32m1\u001B[39m train_features[\u001B[33m\"\u001B[39m\u001B[33mbedrooms_ratio\u001B[39m\u001B[33m\"\u001B[39m] = \u001B[43mtrain_features\u001B[49m[\u001B[33m\"\u001B[39m\u001B[33mtotal_bedrooms\u001B[39m\u001B[33m\"\u001B[39m]/train_features[\u001B[33m\"\u001B[39m\u001B[33mtotal_rooms\u001B[39m\u001B[33m\"\u001B[39m]\n",
      "\u001B[31mNameError\u001B[39m: name 'train_features' is not defined"
     ]
    }
   ],
   "execution_count": 42
  },
  {
   "cell_type": "code",
   "source": [
    "train_features.info()"
   ],
   "metadata": {
    "colab": {
     "base_uri": "https://localhost:8080/"
    },
    "id": "H7NQ7keGcwEc",
    "outputId": "615a9f63-567b-4b15-a5db-df5aeb40e8b3",
    "ExecuteTime": {
     "end_time": "2025-03-18T02:36:57.678287Z",
     "start_time": "2025-03-18T02:36:57.659004Z"
    }
   },
   "outputs": [
    {
     "ename": "NameError",
     "evalue": "name 'train_features' is not defined",
     "output_type": "error",
     "traceback": [
      "\u001B[31m---------------------------------------------------------------------------\u001B[39m",
      "\u001B[31mNameError\u001B[39m                                 Traceback (most recent call last)",
      "\u001B[36mCell\u001B[39m\u001B[36m \u001B[39m\u001B[32mIn[43]\u001B[39m\u001B[32m, line 1\u001B[39m\n\u001B[32m----> \u001B[39m\u001B[32m1\u001B[39m \u001B[43mtrain_features\u001B[49m.info()\n",
      "\u001B[31mNameError\u001B[39m: name 'train_features' is not defined"
     ]
    }
   ],
   "execution_count": 43
  },
  {
   "cell_type": "code",
   "source": [
    "# sklearn impute"
   ],
   "metadata": {
    "id": "dW9edVZ4cyHc",
    "ExecuteTime": {
     "end_time": "2025-03-18T02:36:57.861412Z",
     "start_time": "2025-03-18T02:36:57.858183Z"
    }
   },
   "outputs": [],
   "execution_count": 44
  },
  {
   "cell_type": "code",
   "source": [
    "from sklearn.impute import SimpleImputer"
   ],
   "metadata": {
    "id": "7OIifClLc_ot",
    "ExecuteTime": {
     "end_time": "2025-03-18T02:36:58.057425Z",
     "start_time": "2025-03-18T02:36:57.996166Z"
    }
   },
   "outputs": [],
   "execution_count": 45
  },
  {
   "cell_type": "code",
   "source": [
    "simple_imputer = SimpleImputer(strategy=\"median\")"
   ],
   "metadata": {
    "id": "ScEvlm4GKrGR",
    "ExecuteTime": {
     "end_time": "2025-03-18T02:36:58.152577Z",
     "start_time": "2025-03-18T02:36:58.149462Z"
    }
   },
   "outputs": [],
   "execution_count": 46
  },
  {
   "cell_type": "code",
   "source": [
    "train_features.info()"
   ],
   "metadata": {
    "colab": {
     "base_uri": "https://localhost:8080/"
    },
    "id": "n8V6-TWmK2sR",
    "outputId": "a24230ac-3486-4c1a-bf45-e51b72c466b1",
    "ExecuteTime": {
     "end_time": "2025-03-18T02:36:58.269923Z",
     "start_time": "2025-03-18T02:36:58.240616Z"
    }
   },
   "outputs": [
    {
     "ename": "NameError",
     "evalue": "name 'train_features' is not defined",
     "output_type": "error",
     "traceback": [
      "\u001B[31m---------------------------------------------------------------------------\u001B[39m",
      "\u001B[31mNameError\u001B[39m                                 Traceback (most recent call last)",
      "\u001B[36mCell\u001B[39m\u001B[36m \u001B[39m\u001B[32mIn[47]\u001B[39m\u001B[32m, line 1\u001B[39m\n\u001B[32m----> \u001B[39m\u001B[32m1\u001B[39m \u001B[43mtrain_features\u001B[49m.info()\n",
      "\u001B[31mNameError\u001B[39m: name 'train_features' is not defined"
     ]
    }
   ],
   "execution_count": 47
  },
  {
   "cell_type": "code",
   "source": [
    "train_features_numeric = train_features.select_dtypes(include=[np.number])\n",
    "train_features_numeric.info()"
   ],
   "metadata": {
    "colab": {
     "base_uri": "https://localhost:8080/"
    },
    "id": "KEmrvpEDLMY5",
    "outputId": "06e675bb-42c7-4588-f40b-ca8c75a44287",
    "ExecuteTime": {
     "end_time": "2025-03-18T02:36:58.414764Z",
     "start_time": "2025-03-18T02:36:58.394649Z"
    }
   },
   "outputs": [
    {
     "ename": "NameError",
     "evalue": "name 'train_features' is not defined",
     "output_type": "error",
     "traceback": [
      "\u001B[31m---------------------------------------------------------------------------\u001B[39m",
      "\u001B[31mNameError\u001B[39m                                 Traceback (most recent call last)",
      "\u001B[36mCell\u001B[39m\u001B[36m \u001B[39m\u001B[32mIn[48]\u001B[39m\u001B[32m, line 1\u001B[39m\n\u001B[32m----> \u001B[39m\u001B[32m1\u001B[39m train_features_numeric = \u001B[43mtrain_features\u001B[49m.select_dtypes(include=[np.number])\n\u001B[32m      2\u001B[39m train_features_numeric.info()\n",
      "\u001B[31mNameError\u001B[39m: name 'train_features' is not defined"
     ]
    }
   ],
   "execution_count": 48
  },
  {
   "cell_type": "code",
   "source": [
    "simple_imputer.fit(train_features_numeric)"
   ],
   "metadata": {
    "colab": {
     "base_uri": "https://localhost:8080/",
     "height": 74
    },
    "id": "pCmeW_DDMJqi",
    "outputId": "222d5310-40ef-4bf8-ff40-a1ed1e2bb8d4",
    "ExecuteTime": {
     "end_time": "2025-03-18T02:36:58.537417Z",
     "start_time": "2025-03-18T02:36:58.517788Z"
    }
   },
   "outputs": [
    {
     "ename": "NameError",
     "evalue": "name 'train_features_numeric' is not defined",
     "output_type": "error",
     "traceback": [
      "\u001B[31m---------------------------------------------------------------------------\u001B[39m",
      "\u001B[31mNameError\u001B[39m                                 Traceback (most recent call last)",
      "\u001B[36mCell\u001B[39m\u001B[36m \u001B[39m\u001B[32mIn[49]\u001B[39m\u001B[32m, line 1\u001B[39m\n\u001B[32m----> \u001B[39m\u001B[32m1\u001B[39m simple_imputer.fit(\u001B[43mtrain_features_numeric\u001B[49m)\n",
      "\u001B[31mNameError\u001B[39m: name 'train_features_numeric' is not defined"
     ]
    }
   ],
   "execution_count": 49
  },
  {
   "cell_type": "code",
   "source": [
    "simple_imputer.statistics_"
   ],
   "metadata": {
    "colab": {
     "base_uri": "https://localhost:8080/"
    },
    "id": "S2VVnLCWMg6s",
    "outputId": "31069fcf-b736-4349-9074-f88d14868028",
    "ExecuteTime": {
     "end_time": "2025-03-18T02:36:58.722596Z",
     "start_time": "2025-03-18T02:36:58.701789Z"
    }
   },
   "outputs": [
    {
     "ename": "AttributeError",
     "evalue": "'SimpleImputer' object has no attribute 'statistics_'",
     "output_type": "error",
     "traceback": [
      "\u001B[31m---------------------------------------------------------------------------\u001B[39m",
      "\u001B[31mAttributeError\u001B[39m                            Traceback (most recent call last)",
      "\u001B[36mCell\u001B[39m\u001B[36m \u001B[39m\u001B[32mIn[50]\u001B[39m\u001B[32m, line 1\u001B[39m\n\u001B[32m----> \u001B[39m\u001B[32m1\u001B[39m \u001B[43msimple_imputer\u001B[49m\u001B[43m.\u001B[49m\u001B[43mstatistics_\u001B[49m\n",
      "\u001B[31mAttributeError\u001B[39m: 'SimpleImputer' object has no attribute 'statistics_'"
     ]
    }
   ],
   "execution_count": 50
  },
  {
   "cell_type": "code",
   "source": [
    "simple_imputer.transform(train_features_numeric).shape"
   ],
   "metadata": {
    "colab": {
     "base_uri": "https://localhost:8080/"
    },
    "id": "hWEpaOsIM2TR",
    "outputId": "e129c7fc-51d1-44c3-b4c4-b5e5d31ddf5d",
    "ExecuteTime": {
     "end_time": "2025-03-18T02:36:58.844382Z",
     "start_time": "2025-03-18T02:36:58.825074Z"
    }
   },
   "outputs": [
    {
     "ename": "NameError",
     "evalue": "name 'train_features_numeric' is not defined",
     "output_type": "error",
     "traceback": [
      "\u001B[31m---------------------------------------------------------------------------\u001B[39m",
      "\u001B[31mNameError\u001B[39m                                 Traceback (most recent call last)",
      "\u001B[36mCell\u001B[39m\u001B[36m \u001B[39m\u001B[32mIn[51]\u001B[39m\u001B[32m, line 1\u001B[39m\n\u001B[32m----> \u001B[39m\u001B[32m1\u001B[39m simple_imputer.transform(\u001B[43mtrain_features_numeric\u001B[49m).shape\n",
      "\u001B[31mNameError\u001B[39m: name 'train_features_numeric' is not defined"
     ]
    }
   ],
   "execution_count": 51
  },
  {
   "cell_type": "code",
   "source": [
    "train_features_numeric = pd.DataFrame(simple_imputer.transform(train_features_numeric),\n",
    "                                      columns = train_features_numeric.columns,\n",
    "                                      index = train_features_numeric.index)"
   ],
   "metadata": {
    "id": "oT8KcNmXN5BC",
    "ExecuteTime": {
     "end_time": "2025-03-18T02:36:59.076153Z",
     "start_time": "2025-03-18T02:36:59.055830Z"
    }
   },
   "outputs": [
    {
     "ename": "NameError",
     "evalue": "name 'train_features_numeric' is not defined",
     "output_type": "error",
     "traceback": [
      "\u001B[31m---------------------------------------------------------------------------\u001B[39m",
      "\u001B[31mNameError\u001B[39m                                 Traceback (most recent call last)",
      "\u001B[36mCell\u001B[39m\u001B[36m \u001B[39m\u001B[32mIn[52]\u001B[39m\u001B[32m, line 1\u001B[39m\n\u001B[32m----> \u001B[39m\u001B[32m1\u001B[39m train_features_numeric = pd.DataFrame(simple_imputer.transform(\u001B[43mtrain_features_numeric\u001B[49m),\n\u001B[32m      2\u001B[39m                                       columns = train_features_numeric.columns,\n\u001B[32m      3\u001B[39m                                       index = train_features_numeric.index)\n",
      "\u001B[31mNameError\u001B[39m: name 'train_features_numeric' is not defined"
     ]
    }
   ],
   "execution_count": 52
  },
  {
   "cell_type": "code",
   "source": [
    "train_features_numeric"
   ],
   "metadata": {
    "colab": {
     "base_uri": "https://localhost:8080/",
     "height": 487
    },
    "id": "mKhKloclINSb",
    "outputId": "be139488-ee89-4729-fb88-943ce3b1b88e",
    "ExecuteTime": {
     "end_time": "2025-03-18T02:36:59.182435Z",
     "start_time": "2025-03-18T02:36:59.163661Z"
    }
   },
   "outputs": [
    {
     "ename": "NameError",
     "evalue": "name 'train_features_numeric' is not defined",
     "output_type": "error",
     "traceback": [
      "\u001B[31m---------------------------------------------------------------------------\u001B[39m",
      "\u001B[31mNameError\u001B[39m                                 Traceback (most recent call last)",
      "\u001B[36mCell\u001B[39m\u001B[36m \u001B[39m\u001B[32mIn[53]\u001B[39m\u001B[32m, line 1\u001B[39m\n\u001B[32m----> \u001B[39m\u001B[32m1\u001B[39m \u001B[43mtrain_features_numeric\u001B[49m\n",
      "\u001B[31mNameError\u001B[39m: name 'train_features_numeric' is not defined"
     ]
    }
   ],
   "execution_count": 53
  },
  {
   "cell_type": "code",
   "source": [
    "# Consistency\n",
    "## estimator \n",
    "## transformer\n",
    "## predictors\n",
    "\n",
    "# Inspection\n",
    "\n",
    "# Composition"
   ],
   "metadata": {
    "id": "eUWXPhzzOD5U",
    "ExecuteTime": {
     "end_time": "2025-03-18T02:36:59.352767Z",
     "start_time": "2025-03-18T02:36:59.349708Z"
    }
   },
   "outputs": [],
   "execution_count": 54
  },
  {
   "cell_type": "code",
   "source": [
    "# categorical features\n",
    "train_features[[\"ocean_proximity\"]].value_counts()"
   ],
   "metadata": {
    "colab": {
     "base_uri": "https://localhost:8080/"
    },
    "id": "NrtIvNRSSdGC",
    "outputId": "380283d2-612c-4044-d8ca-da2c2d1d8ad9",
    "ExecuteTime": {
     "end_time": "2025-03-18T02:36:59.507040Z",
     "start_time": "2025-03-18T02:36:59.487519Z"
    }
   },
   "outputs": [
    {
     "ename": "NameError",
     "evalue": "name 'train_features' is not defined",
     "output_type": "error",
     "traceback": [
      "\u001B[31m---------------------------------------------------------------------------\u001B[39m",
      "\u001B[31mNameError\u001B[39m                                 Traceback (most recent call last)",
      "\u001B[36mCell\u001B[39m\u001B[36m \u001B[39m\u001B[32mIn[55]\u001B[39m\u001B[32m, line 2\u001B[39m\n\u001B[32m      1\u001B[39m \u001B[38;5;66;03m# categorical features\u001B[39;00m\n\u001B[32m----> \u001B[39m\u001B[32m2\u001B[39m \u001B[43mtrain_features\u001B[49m[[\u001B[33m\"\u001B[39m\u001B[33mocean_proximity\u001B[39m\u001B[33m\"\u001B[39m]].value_counts()\n",
      "\u001B[31mNameError\u001B[39m: name 'train_features' is not defined"
     ]
    }
   ],
   "execution_count": 55
  },
  {
   "cell_type": "code",
   "source": [
    "train_features_categorical = train_features[[\"ocean_proximity\"]]"
   ],
   "metadata": {
    "id": "MDNOwvD6IoOf",
    "ExecuteTime": {
     "end_time": "2025-03-18T02:36:59.691685Z",
     "start_time": "2025-03-18T02:36:59.672089Z"
    }
   },
   "outputs": [
    {
     "ename": "NameError",
     "evalue": "name 'train_features' is not defined",
     "output_type": "error",
     "traceback": [
      "\u001B[31m---------------------------------------------------------------------------\u001B[39m",
      "\u001B[31mNameError\u001B[39m                                 Traceback (most recent call last)",
      "\u001B[36mCell\u001B[39m\u001B[36m \u001B[39m\u001B[32mIn[56]\u001B[39m\u001B[32m, line 1\u001B[39m\n\u001B[32m----> \u001B[39m\u001B[32m1\u001B[39m train_features_categorical = \u001B[43mtrain_features\u001B[49m[[\u001B[33m\"\u001B[39m\u001B[33mocean_proximity\u001B[39m\u001B[33m\"\u001B[39m]]\n",
      "\u001B[31mNameError\u001B[39m: name 'train_features' is not defined"
     ]
    }
   ],
   "execution_count": 56
  },
  {
   "cell_type": "code",
   "source": [
    "from sklearn.preprocessing import OrdinalEncoder"
   ],
   "metadata": {
    "id": "1qPRtHEZI6ZW",
    "ExecuteTime": {
     "end_time": "2025-03-18T02:36:59.767663Z",
     "start_time": "2025-03-18T02:36:59.764375Z"
    }
   },
   "outputs": [],
   "execution_count": 57
  },
  {
   "cell_type": "code",
   "source": [
    "oe = OrdinalEncoder()\n",
    "ocean_proximity_index = oe.fit_transform(train_features_categorical)\n",
    "ocean_proximity_index"
   ],
   "metadata": {
    "colab": {
     "base_uri": "https://localhost:8080/"
    },
    "id": "Yb3mY8QdJdr_",
    "outputId": "c5d93319-7a66-45a6-edad-2a9b831057f8",
    "ExecuteTime": {
     "end_time": "2025-03-18T02:36:59.967785Z",
     "start_time": "2025-03-18T02:36:59.948069Z"
    }
   },
   "outputs": [
    {
     "ename": "NameError",
     "evalue": "name 'train_features_categorical' is not defined",
     "output_type": "error",
     "traceback": [
      "\u001B[31m---------------------------------------------------------------------------\u001B[39m",
      "\u001B[31mNameError\u001B[39m                                 Traceback (most recent call last)",
      "\u001B[36mCell\u001B[39m\u001B[36m \u001B[39m\u001B[32mIn[58]\u001B[39m\u001B[32m, line 2\u001B[39m\n\u001B[32m      1\u001B[39m oe = OrdinalEncoder()\n\u001B[32m----> \u001B[39m\u001B[32m2\u001B[39m ocean_proximity_index = oe.fit_transform(\u001B[43mtrain_features_categorical\u001B[49m)\n\u001B[32m      3\u001B[39m ocean_proximity_index\n",
      "\u001B[31mNameError\u001B[39m: name 'train_features_categorical' is not defined"
     ]
    }
   ],
   "execution_count": 58
  },
  {
   "cell_type": "code",
   "source": [
    "train_features_categorical"
   ],
   "metadata": {
    "colab": {
     "base_uri": "https://localhost:8080/",
     "height": 423
    },
    "id": "Rva-a0SZJ471",
    "outputId": "134096a9-d80c-40c4-90e0-ddc8cb433a78",
    "ExecuteTime": {
     "end_time": "2025-03-18T02:37:00.122565Z",
     "start_time": "2025-03-18T02:37:00.101833Z"
    }
   },
   "outputs": [
    {
     "ename": "NameError",
     "evalue": "name 'train_features_categorical' is not defined",
     "output_type": "error",
     "traceback": [
      "\u001B[31m---------------------------------------------------------------------------\u001B[39m",
      "\u001B[31mNameError\u001B[39m                                 Traceback (most recent call last)",
      "\u001B[36mCell\u001B[39m\u001B[36m \u001B[39m\u001B[32mIn[59]\u001B[39m\u001B[32m, line 1\u001B[39m\n\u001B[32m----> \u001B[39m\u001B[32m1\u001B[39m \u001B[43mtrain_features_categorical\u001B[49m\n",
      "\u001B[31mNameError\u001B[39m: name 'train_features_categorical' is not defined"
     ]
    }
   ],
   "execution_count": 59
  },
  {
   "cell_type": "code",
   "source": [
    "oe.categories_"
   ],
   "metadata": {
    "colab": {
     "base_uri": "https://localhost:8080/"
    },
    "id": "1WgOlz1KKBxt",
    "outputId": "e9f02194-7c2c-43bd-c0bb-41917324e6c2",
    "ExecuteTime": {
     "end_time": "2025-03-18T02:37:00.367822Z",
     "start_time": "2025-03-18T02:37:00.240033Z"
    }
   },
   "outputs": [
    {
     "ename": "AttributeError",
     "evalue": "'OrdinalEncoder' object has no attribute 'categories_'",
     "output_type": "error",
     "traceback": [
      "\u001B[31m---------------------------------------------------------------------------\u001B[39m",
      "\u001B[31mAttributeError\u001B[39m                            Traceback (most recent call last)",
      "\u001B[36mCell\u001B[39m\u001B[36m \u001B[39m\u001B[32mIn[60]\u001B[39m\u001B[32m, line 1\u001B[39m\n\u001B[32m----> \u001B[39m\u001B[32m1\u001B[39m \u001B[43moe\u001B[49m\u001B[43m.\u001B[49m\u001B[43mcategories_\u001B[49m\n",
      "\u001B[31mAttributeError\u001B[39m: 'OrdinalEncoder' object has no attribute 'categories_'"
     ]
    }
   ],
   "execution_count": 60
  },
  {
   "cell_type": "code",
   "source": [
    "from sklearn.preprocessing import OneHotEncoder"
   ],
   "metadata": {
    "id": "tIw0ULqgKTF-",
    "ExecuteTime": {
     "end_time": "2025-03-18T02:37:00.379997Z",
     "start_time": "2025-03-18T02:37:00.376943Z"
    }
   },
   "outputs": [],
   "execution_count": 61
  },
  {
   "cell_type": "code",
   "source": [
    "ohe = OneHotEncoder()\n",
    "ocean_proximity_ohe = ohe.fit_transform(train_features_categorical)"
   ],
   "metadata": {
    "id": "5wkoKqFrvPC6",
    "ExecuteTime": {
     "end_time": "2025-03-18T02:37:00.566784Z",
     "start_time": "2025-03-18T02:37:00.547602Z"
    }
   },
   "outputs": [
    {
     "ename": "NameError",
     "evalue": "name 'train_features_categorical' is not defined",
     "output_type": "error",
     "traceback": [
      "\u001B[31m---------------------------------------------------------------------------\u001B[39m",
      "\u001B[31mNameError\u001B[39m                                 Traceback (most recent call last)",
      "\u001B[36mCell\u001B[39m\u001B[36m \u001B[39m\u001B[32mIn[62]\u001B[39m\u001B[32m, line 2\u001B[39m\n\u001B[32m      1\u001B[39m ohe = OneHotEncoder()\n\u001B[32m----> \u001B[39m\u001B[32m2\u001B[39m ocean_proximity_ohe = ohe.fit_transform(\u001B[43mtrain_features_categorical\u001B[49m)\n",
      "\u001B[31mNameError\u001B[39m: name 'train_features_categorical' is not defined"
     ]
    }
   ],
   "execution_count": 62
  },
  {
   "cell_type": "code",
   "source": [
    "ocean_proximity_ohe.toarray()"
   ],
   "metadata": {
    "colab": {
     "base_uri": "https://localhost:8080/"
    },
    "id": "hhYkko3_vZX8",
    "outputId": "4e288017-335c-4a22-cf49-3d5a75f91e4c",
    "ExecuteTime": {
     "end_time": "2025-03-18T02:37:00.750784Z",
     "start_time": "2025-03-18T02:37:00.731864Z"
    }
   },
   "outputs": [
    {
     "ename": "NameError",
     "evalue": "name 'ocean_proximity_ohe' is not defined",
     "output_type": "error",
     "traceback": [
      "\u001B[31m---------------------------------------------------------------------------\u001B[39m",
      "\u001B[31mNameError\u001B[39m                                 Traceback (most recent call last)",
      "\u001B[36mCell\u001B[39m\u001B[36m \u001B[39m\u001B[32mIn[63]\u001B[39m\u001B[32m, line 1\u001B[39m\n\u001B[32m----> \u001B[39m\u001B[32m1\u001B[39m \u001B[43mocean_proximity_ohe\u001B[49m.toarray()\n",
      "\u001B[31mNameError\u001B[39m: name 'ocean_proximity_ohe' is not defined"
     ]
    }
   ],
   "execution_count": 63
  },
  {
   "cell_type": "code",
   "source": [
    "ohe.categories_"
   ],
   "metadata": {
    "colab": {
     "base_uri": "https://localhost:8080/"
    },
    "id": "m2jm8q7JvsLE",
    "outputId": "79d63c21-c00a-4269-878f-f0e1b0387768",
    "ExecuteTime": {
     "end_time": "2025-03-18T02:37:00.841045Z",
     "start_time": "2025-03-18T02:37:00.822276Z"
    }
   },
   "outputs": [
    {
     "ename": "AttributeError",
     "evalue": "'OneHotEncoder' object has no attribute 'categories_'",
     "output_type": "error",
     "traceback": [
      "\u001B[31m---------------------------------------------------------------------------\u001B[39m",
      "\u001B[31mAttributeError\u001B[39m                            Traceback (most recent call last)",
      "\u001B[36mCell\u001B[39m\u001B[36m \u001B[39m\u001B[32mIn[64]\u001B[39m\u001B[32m, line 1\u001B[39m\n\u001B[32m----> \u001B[39m\u001B[32m1\u001B[39m \u001B[43mohe\u001B[49m\u001B[43m.\u001B[49m\u001B[43mcategories_\u001B[49m\n",
      "\u001B[31mAttributeError\u001B[39m: 'OneHotEncoder' object has no attribute 'categories_'"
     ]
    }
   ],
   "execution_count": 64
  },
  {
   "cell_type": "code",
   "source": [
    "train_features_categorical_ohe = pd.DataFrame(ocean_proximity_ohe.toarray(),\n",
    "                                              columns=ohe.get_feature_names_out())"
   ],
   "metadata": {
    "id": "qEMPRCLGwHCy",
    "ExecuteTime": {
     "end_time": "2025-03-18T02:37:01.010937Z",
     "start_time": "2025-03-18T02:37:00.991225Z"
    }
   },
   "outputs": [
    {
     "ename": "NameError",
     "evalue": "name 'ocean_proximity_ohe' is not defined",
     "output_type": "error",
     "traceback": [
      "\u001B[31m---------------------------------------------------------------------------\u001B[39m",
      "\u001B[31mNameError\u001B[39m                                 Traceback (most recent call last)",
      "\u001B[36mCell\u001B[39m\u001B[36m \u001B[39m\u001B[32mIn[65]\u001B[39m\u001B[32m, line 1\u001B[39m\n\u001B[32m----> \u001B[39m\u001B[32m1\u001B[39m train_features_categorical_ohe = pd.DataFrame(\u001B[43mocean_proximity_ohe\u001B[49m.toarray(),\n\u001B[32m      2\u001B[39m                                               columns=ohe.get_feature_names_out())\n",
      "\u001B[31mNameError\u001B[39m: name 'ocean_proximity_ohe' is not defined"
     ]
    }
   ],
   "execution_count": 65
  },
  {
   "cell_type": "code",
   "source": [
    "from sklearn.preprocessing import MinMaxScaler"
   ],
   "metadata": {
    "id": "jMy_SAPSNcHv",
    "ExecuteTime": {
     "end_time": "2025-03-18T02:37:01.131917Z",
     "start_time": "2025-03-18T02:37:01.128421Z"
    }
   },
   "outputs": [],
   "execution_count": 66
  },
  {
   "cell_type": "code",
   "source": [
    "mms = MinMaxScaler(feature_range=(-1, 1))"
   ],
   "metadata": {
    "id": "de-TzAIAPbwo",
    "ExecuteTime": {
     "end_time": "2025-03-18T02:37:01.315806Z",
     "start_time": "2025-03-18T02:37:01.312269Z"
    }
   },
   "outputs": [],
   "execution_count": 67
  },
  {
   "cell_type": "code",
   "source": [
    "mms.fit_transform(train_features_numeric)"
   ],
   "metadata": {
    "colab": {
     "base_uri": "https://localhost:8080/"
    },
    "id": "RY0O8uHvPgtX",
    "outputId": "5618288b-8da8-4c1e-ee72-94c750e6ad56",
    "ExecuteTime": {
     "end_time": "2025-03-18T02:37:01.455925Z",
     "start_time": "2025-03-18T02:37:01.434677Z"
    }
   },
   "outputs": [
    {
     "ename": "NameError",
     "evalue": "name 'train_features_numeric' is not defined",
     "output_type": "error",
     "traceback": [
      "\u001B[31m---------------------------------------------------------------------------\u001B[39m",
      "\u001B[31mNameError\u001B[39m                                 Traceback (most recent call last)",
      "\u001B[36mCell\u001B[39m\u001B[36m \u001B[39m\u001B[32mIn[68]\u001B[39m\u001B[32m, line 1\u001B[39m\n\u001B[32m----> \u001B[39m\u001B[32m1\u001B[39m mms.fit_transform(\u001B[43mtrain_features_numeric\u001B[49m)\n",
      "\u001B[31mNameError\u001B[39m: name 'train_features_numeric' is not defined"
     ]
    }
   ],
   "execution_count": 68
  },
  {
   "cell_type": "code",
   "source": [
    "from sklearn.preprocessing import StandardScaler"
   ],
   "metadata": {
    "id": "vdK9Jip7PyHg",
    "ExecuteTime": {
     "end_time": "2025-03-18T02:37:01.575414Z",
     "start_time": "2025-03-18T02:37:01.572240Z"
    }
   },
   "outputs": [],
   "execution_count": 69
  },
  {
   "cell_type": "code",
   "source": [
    "ss = StandardScaler()"
   ],
   "metadata": {
    "id": "So-LG--eSwBo",
    "ExecuteTime": {
     "end_time": "2025-03-18T02:37:01.682941Z",
     "start_time": "2025-03-18T02:37:01.679519Z"
    }
   },
   "outputs": [],
   "execution_count": 70
  },
  {
   "cell_type": "code",
   "source": [
    "ss.fit_transform(train_features_numeric)"
   ],
   "metadata": {
    "colab": {
     "base_uri": "https://localhost:8080/"
    },
    "id": "0YV9tXYjSy6g",
    "outputId": "00e21cb4-9da6-4403-8087-676ac43a3de3",
    "ExecuteTime": {
     "end_time": "2025-03-18T02:37:01.868035Z",
     "start_time": "2025-03-18T02:37:01.849354Z"
    }
   },
   "outputs": [
    {
     "ename": "NameError",
     "evalue": "name 'train_features_numeric' is not defined",
     "output_type": "error",
     "traceback": [
      "\u001B[31m---------------------------------------------------------------------------\u001B[39m",
      "\u001B[31mNameError\u001B[39m                                 Traceback (most recent call last)",
      "\u001B[36mCell\u001B[39m\u001B[36m \u001B[39m\u001B[32mIn[71]\u001B[39m\u001B[32m, line 1\u001B[39m\n\u001B[32m----> \u001B[39m\u001B[32m1\u001B[39m ss.fit_transform(\u001B[43mtrain_features_numeric\u001B[49m)\n",
      "\u001B[31mNameError\u001B[39m: name 'train_features_numeric' is not defined"
     ]
    }
   ],
   "execution_count": 71
  },
  {
   "cell_type": "code",
   "source": [
    "train_features_numeric[\"total_rooms\"].hist(bins=30)"
   ],
   "metadata": {
    "colab": {
     "base_uri": "https://localhost:8080/",
     "height": 282
    },
    "id": "pPnpyFl4S39w",
    "outputId": "1ac9af4f-fd21-4697-db64-dc199ed1ce68",
    "ExecuteTime": {
     "end_time": "2025-03-18T02:37:01.959890Z",
     "start_time": "2025-03-18T02:37:01.940550Z"
    }
   },
   "outputs": [
    {
     "ename": "NameError",
     "evalue": "name 'train_features_numeric' is not defined",
     "output_type": "error",
     "traceback": [
      "\u001B[31m---------------------------------------------------------------------------\u001B[39m",
      "\u001B[31mNameError\u001B[39m                                 Traceback (most recent call last)",
      "\u001B[36mCell\u001B[39m\u001B[36m \u001B[39m\u001B[32mIn[72]\u001B[39m\u001B[32m, line 1\u001B[39m\n\u001B[32m----> \u001B[39m\u001B[32m1\u001B[39m \u001B[43mtrain_features_numeric\u001B[49m[\u001B[33m\"\u001B[39m\u001B[33mtotal_rooms\u001B[39m\u001B[33m\"\u001B[39m].hist(bins=\u001B[32m30\u001B[39m)\n",
      "\u001B[31mNameError\u001B[39m: name 'train_features_numeric' is not defined"
     ]
    }
   ],
   "execution_count": 72
  },
  {
   "cell_type": "code",
   "source": [
    "train_features_numeric[\"total_rooms\"].apply(np.log).hist(bins=30)"
   ],
   "metadata": {
    "colab": {
     "base_uri": "https://localhost:8080/",
     "height": 282
    },
    "id": "CQjlskY1f_VM",
    "outputId": "5303535d-a756-4425-9593-1ea45cbc2116",
    "ExecuteTime": {
     "end_time": "2025-03-18T02:37:02.098115Z",
     "start_time": "2025-03-18T02:37:02.078770Z"
    }
   },
   "outputs": [
    {
     "ename": "NameError",
     "evalue": "name 'train_features_numeric' is not defined",
     "output_type": "error",
     "traceback": [
      "\u001B[31m---------------------------------------------------------------------------\u001B[39m",
      "\u001B[31mNameError\u001B[39m                                 Traceback (most recent call last)",
      "\u001B[36mCell\u001B[39m\u001B[36m \u001B[39m\u001B[32mIn[73]\u001B[39m\u001B[32m, line 1\u001B[39m\n\u001B[32m----> \u001B[39m\u001B[32m1\u001B[39m \u001B[43mtrain_features_numeric\u001B[49m[\u001B[33m\"\u001B[39m\u001B[33mtotal_rooms\u001B[39m\u001B[33m\"\u001B[39m].apply(np.log).hist(bins=\u001B[32m30\u001B[39m)\n",
      "\u001B[31mNameError\u001B[39m: name 'train_features_numeric' is not defined"
     ]
    }
   ],
   "execution_count": 73
  },
  {
   "cell_type": "code",
   "source": [
    "from sklearn.metrics.pairwise import rbf_kernel"
   ],
   "metadata": {
    "id": "Q8vyJoEzgOhK",
    "ExecuteTime": {
     "end_time": "2025-03-18T02:37:02.219246Z",
     "start_time": "2025-03-18T02:37:02.216380Z"
    }
   },
   "outputs": [],
   "execution_count": 74
  },
  {
   "cell_type": "code",
   "source": [
    "rbf_kernel(train_features_numeric[[\"housing_median_age\"]], [[35]], gamma=0.1)"
   ],
   "metadata": {
    "colab": {
     "base_uri": "https://localhost:8080/"
    },
    "id": "yqk6C_-th3k0",
    "outputId": "3a2d8542-cfcd-4e9e-fdb8-63bf54712813",
    "ExecuteTime": {
     "end_time": "2025-03-18T02:37:02.388337Z",
     "start_time": "2025-03-18T02:37:02.369046Z"
    }
   },
   "outputs": [
    {
     "ename": "NameError",
     "evalue": "name 'train_features_numeric' is not defined",
     "output_type": "error",
     "traceback": [
      "\u001B[31m---------------------------------------------------------------------------\u001B[39m",
      "\u001B[31mNameError\u001B[39m                                 Traceback (most recent call last)",
      "\u001B[36mCell\u001B[39m\u001B[36m \u001B[39m\u001B[32mIn[75]\u001B[39m\u001B[32m, line 1\u001B[39m\n\u001B[32m----> \u001B[39m\u001B[32m1\u001B[39m rbf_kernel(\u001B[43mtrain_features_numeric\u001B[49m[[\u001B[33m\"\u001B[39m\u001B[33mhousing_median_age\u001B[39m\u001B[33m\"\u001B[39m]], [[\u001B[32m35\u001B[39m]], gamma=\u001B[32m0.1\u001B[39m)\n",
      "\u001B[31mNameError\u001B[39m: name 'train_features_numeric' is not defined"
     ]
    }
   ],
   "execution_count": 75
  },
  {
   "cell_type": "code",
   "source": [
    "fig, ax = plt.subplots()\n",
    "ax.hist(train_features_numeric[\"housing_median_age\"], bins=30)\n",
    "\n",
    "hosing_ages = np.linspace(train_features_numeric[\"housing_median_age\"].min(),\n",
    "                          train_features_numeric[\"housing_median_age\"].max(),\n",
    "                          1000).reshape(-1, 1)\n",
    "\n",
    "rbf1 = rbf_kernel(hosing_ages, [[35]], gamma=0.1)\n",
    "rbf2 = rbf_kernel(hosing_ages, [[35]], gamma=0.2)\n",
    "\n",
    "ax2 = ax.twinx()\n",
    "ax2.plot(hosing_ages, rbf1, color=\"black\", lw=2)\n",
    "ax2.plot(hosing_ages, rbf2, color=\"black\", lw=2, ls=\"--\")"
   ],
   "metadata": {
    "colab": {
     "base_uri": "https://localhost:8080/",
     "height": 285
    },
    "id": "PSupP03siCGL",
    "outputId": "c3a82039-8f6a-4754-a15d-e3838fd32db0",
    "ExecuteTime": {
     "end_time": "2025-03-18T02:37:02.562660Z",
     "start_time": "2025-03-18T02:37:02.476568Z"
    }
   },
   "outputs": [
    {
     "ename": "NameError",
     "evalue": "name 'train_features_numeric' is not defined",
     "output_type": "error",
     "traceback": [
      "\u001B[31m---------------------------------------------------------------------------\u001B[39m",
      "\u001B[31mNameError\u001B[39m                                 Traceback (most recent call last)",
      "\u001B[36mCell\u001B[39m\u001B[36m \u001B[39m\u001B[32mIn[76]\u001B[39m\u001B[32m, line 2\u001B[39m\n\u001B[32m      1\u001B[39m fig, ax = plt.subplots()\n\u001B[32m----> \u001B[39m\u001B[32m2\u001B[39m ax.hist(\u001B[43mtrain_features_numeric\u001B[49m[\u001B[33m\"\u001B[39m\u001B[33mhousing_median_age\u001B[39m\u001B[33m\"\u001B[39m], bins=\u001B[32m30\u001B[39m)\n\u001B[32m      4\u001B[39m hosing_ages = np.linspace(train_features_numeric[\u001B[33m\"\u001B[39m\u001B[33mhousing_median_age\u001B[39m\u001B[33m\"\u001B[39m].min(),\n\u001B[32m      5\u001B[39m                           train_features_numeric[\u001B[33m\"\u001B[39m\u001B[33mhousing_median_age\u001B[39m\u001B[33m\"\u001B[39m].max(),\n\u001B[32m      6\u001B[39m                           \u001B[32m1000\u001B[39m).reshape(-\u001B[32m1\u001B[39m, \u001B[32m1\u001B[39m)\n\u001B[32m      8\u001B[39m rbf1 = rbf_kernel(hosing_ages, [[\u001B[32m35\u001B[39m]], gamma=\u001B[32m0.1\u001B[39m)\n",
      "\u001B[31mNameError\u001B[39m: name 'train_features_numeric' is not defined"
     ]
    },
    {
     "data": {
      "text/plain": [
       "<Figure size 640x480 with 1 Axes>"
      ],
      "image/png": "[encoded data removed]"
     },
     "metadata": {},
     "output_type": "display_data"
    }
   ],
   "execution_count": 76
  },
  {
   "cell_type": "code",
   "source": [
    "from sklearn.linear_model import LinearRegression"
   ],
   "metadata": {
    "id": "6Lr1rHfXjHCs",
    "ExecuteTime": {
     "end_time": "2025-03-18T02:37:02.633312Z",
     "start_time": "2025-03-18T02:37:02.630267Z"
    }
   },
   "outputs": [],
   "execution_count": 77
  },
  {
   "cell_type": "code",
   "source": [
    "ss = StandardScaler()\n",
    "target_values = ss.fit_transform(train_target.to_frame())\n",
    "target_values"
   ],
   "metadata": {
    "colab": {
     "base_uri": "https://localhost:8080/"
    },
    "id": "kUjNk48oKren",
    "outputId": "762525aa-8122-4c05-a8c4-c0af48773125",
    "ExecuteTime": {
     "end_time": "2025-03-18T02:37:02.803668Z",
     "start_time": "2025-03-18T02:37:02.784323Z"
    }
   },
   "outputs": [
    {
     "ename": "NameError",
     "evalue": "name 'train_target' is not defined",
     "output_type": "error",
     "traceback": [
      "\u001B[31m---------------------------------------------------------------------------\u001B[39m",
      "\u001B[31mNameError\u001B[39m                                 Traceback (most recent call last)",
      "\u001B[36mCell\u001B[39m\u001B[36m \u001B[39m\u001B[32mIn[78]\u001B[39m\u001B[32m, line 2\u001B[39m\n\u001B[32m      1\u001B[39m ss = StandardScaler()\n\u001B[32m----> \u001B[39m\u001B[32m2\u001B[39m target_values = ss.fit_transform(\u001B[43mtrain_target\u001B[49m.to_frame())\n\u001B[32m      3\u001B[39m target_values\n",
      "\u001B[31mNameError\u001B[39m: name 'train_target' is not defined"
     ]
    }
   ],
   "execution_count": 78
  },
  {
   "cell_type": "code",
   "source": [
    "model = LinearRegression()\n",
    "model.fit(train_features_numeric[[\"median_income\"]],\n",
    "          target_values)"
   ],
   "metadata": {
    "colab": {
     "base_uri": "https://localhost:8080/",
     "height": 74
    },
    "id": "fuPhHSFbLI-n",
    "outputId": "14744b09-62be-42b9-f64f-db9dbd7611d4",
    "ExecuteTime": {
     "end_time": "2025-03-18T02:37:03.019686Z",
     "start_time": "2025-03-18T02:37:02.999256Z"
    }
   },
   "outputs": [
    {
     "ename": "NameError",
     "evalue": "name 'train_features_numeric' is not defined",
     "output_type": "error",
     "traceback": [
      "\u001B[31m---------------------------------------------------------------------------\u001B[39m",
      "\u001B[31mNameError\u001B[39m                                 Traceback (most recent call last)",
      "\u001B[36mCell\u001B[39m\u001B[36m \u001B[39m\u001B[32mIn[79]\u001B[39m\u001B[32m, line 2\u001B[39m\n\u001B[32m      1\u001B[39m model = LinearRegression()\n\u001B[32m----> \u001B[39m\u001B[32m2\u001B[39m model.fit(\u001B[43mtrain_features_numeric\u001B[49m[[\u001B[33m\"\u001B[39m\u001B[33mmedian_income\u001B[39m\u001B[33m\"\u001B[39m]],\n\u001B[32m      3\u001B[39m           target_values)\n",
      "\u001B[31mNameError\u001B[39m: name 'train_features_numeric' is not defined"
     ]
    }
   ],
   "execution_count": 79
  },
  {
   "cell_type": "code",
   "source": [
    "predictions = model.predict(train_features_numeric[[\"median_income\"]].iloc[:5])"
   ],
   "metadata": {
    "id": "YLi0if3uL703",
    "ExecuteTime": {
     "end_time": "2025-03-18T02:37:03.126018Z",
     "start_time": "2025-03-18T02:37:03.105338Z"
    }
   },
   "outputs": [
    {
     "ename": "NameError",
     "evalue": "name 'train_features_numeric' is not defined",
     "output_type": "error",
     "traceback": [
      "\u001B[31m---------------------------------------------------------------------------\u001B[39m",
      "\u001B[31mNameError\u001B[39m                                 Traceback (most recent call last)",
      "\u001B[36mCell\u001B[39m\u001B[36m \u001B[39m\u001B[32mIn[80]\u001B[39m\u001B[32m, line 1\u001B[39m\n\u001B[32m----> \u001B[39m\u001B[32m1\u001B[39m predictions = model.predict(\u001B[43mtrain_features_numeric\u001B[49m[[\u001B[33m\"\u001B[39m\u001B[33mmedian_income\u001B[39m\u001B[33m\"\u001B[39m]].iloc[:\u001B[32m5\u001B[39m])\n",
      "\u001B[31mNameError\u001B[39m: name 'train_features_numeric' is not defined"
     ]
    }
   ],
   "execution_count": 80
  },
  {
   "cell_type": "code",
   "source": [
    "ss.inverse_transform(predictions)"
   ],
   "metadata": {
    "colab": {
     "base_uri": "https://localhost:8080/"
    },
    "id": "LjBOmjJXMGXp",
    "outputId": "e7ffd530-ffc4-43f7-a7c5-ef3ae6f45731",
    "ExecuteTime": {
     "end_time": "2025-03-18T02:37:03.340295Z",
     "start_time": "2025-03-18T02:37:03.320896Z"
    }
   },
   "outputs": [
    {
     "ename": "NameError",
     "evalue": "name 'predictions' is not defined",
     "output_type": "error",
     "traceback": [
      "\u001B[31m---------------------------------------------------------------------------\u001B[39m",
      "\u001B[31mNameError\u001B[39m                                 Traceback (most recent call last)",
      "\u001B[36mCell\u001B[39m\u001B[36m \u001B[39m\u001B[32mIn[81]\u001B[39m\u001B[32m, line 1\u001B[39m\n\u001B[32m----> \u001B[39m\u001B[32m1\u001B[39m ss.inverse_transform(\u001B[43mpredictions\u001B[49m)\n",
      "\u001B[31mNameError\u001B[39m: name 'predictions' is not defined"
     ]
    }
   ],
   "execution_count": 81
  },
  {
   "cell_type": "code",
   "source": [
    "from sklearn.compose import TransformedTargetRegressor"
   ],
   "metadata": {
    "id": "LTfGDjE8MRlH",
    "ExecuteTime": {
     "end_time": "2025-03-18T02:37:03.466656Z",
     "start_time": "2025-03-18T02:37:03.457562Z"
    }
   },
   "outputs": [],
   "execution_count": 82
  },
  {
   "cell_type": "code",
   "source": [
    "model = TransformedTargetRegressor(LinearRegression(),\n",
    "                                   transformer=StandardScaler())"
   ],
   "metadata": {
    "id": "B1OBSGXtMj9n",
    "ExecuteTime": {
     "end_time": "2025-03-18T02:37:03.614005Z",
     "start_time": "2025-03-18T02:37:03.610888Z"
    }
   },
   "outputs": [],
   "execution_count": 83
  },
  {
   "cell_type": "code",
   "source": [
    "model.fit(train_features_numeric[[\"median_income\"]],\n",
    "          train_target.to_frame())"
   ],
   "metadata": {
    "colab": {
     "base_uri": "https://localhost:8080/",
     "height": 116
    },
    "id": "XT-DKnyoM3V3",
    "outputId": "1ce18afd-b15a-473e-e26e-44e46d3afe6e",
    "ExecuteTime": {
     "end_time": "2025-03-18T02:37:03.738722Z",
     "start_time": "2025-03-18T02:37:03.718179Z"
    }
   },
   "outputs": [
    {
     "ename": "NameError",
     "evalue": "name 'train_features_numeric' is not defined",
     "output_type": "error",
     "traceback": [
      "\u001B[31m---------------------------------------------------------------------------\u001B[39m",
      "\u001B[31mNameError\u001B[39m                                 Traceback (most recent call last)",
      "\u001B[36mCell\u001B[39m\u001B[36m \u001B[39m\u001B[32mIn[84]\u001B[39m\u001B[32m, line 1\u001B[39m\n\u001B[32m----> \u001B[39m\u001B[32m1\u001B[39m model.fit(\u001B[43mtrain_features_numeric\u001B[49m[[\u001B[33m\"\u001B[39m\u001B[33mmedian_income\u001B[39m\u001B[33m\"\u001B[39m]],\n\u001B[32m      2\u001B[39m           train_target.to_frame())\n",
      "\u001B[31mNameError\u001B[39m: name 'train_features_numeric' is not defined"
     ]
    }
   ],
   "execution_count": 84
  },
  {
   "cell_type": "code",
   "source": [
    "model.predict(train_features_numeric[[\"median_income\"]].iloc[:5])"
   ],
   "metadata": {
    "colab": {
     "base_uri": "https://localhost:8080/"
    },
    "id": "rMhV8YHSNHh_",
    "outputId": "525615e3-27cc-470a-a4bd-df0a268bcbb7",
    "ExecuteTime": {
     "end_time": "2025-03-18T02:37:03.906635Z",
     "start_time": "2025-03-18T02:37:03.886398Z"
    }
   },
   "outputs": [
    {
     "ename": "NameError",
     "evalue": "name 'train_features_numeric' is not defined",
     "output_type": "error",
     "traceback": [
      "\u001B[31m---------------------------------------------------------------------------\u001B[39m",
      "\u001B[31mNameError\u001B[39m                                 Traceback (most recent call last)",
      "\u001B[36mCell\u001B[39m\u001B[36m \u001B[39m\u001B[32mIn[85]\u001B[39m\u001B[32m, line 1\u001B[39m\n\u001B[32m----> \u001B[39m\u001B[32m1\u001B[39m model.predict(\u001B[43mtrain_features_numeric\u001B[49m[[\u001B[33m\"\u001B[39m\u001B[33mmedian_income\u001B[39m\u001B[33m\"\u001B[39m]].iloc[:\u001B[32m5\u001B[39m])\n",
      "\u001B[31mNameError\u001B[39m: name 'train_features_numeric' is not defined"
     ]
    }
   ],
   "execution_count": 85
  },
  {
   "cell_type": "code",
   "source": [
    "from sklearn.preprocessing import FunctionTransformer"
   ],
   "metadata": {
    "id": "cMGByqZTNK_n",
    "ExecuteTime": {
     "end_time": "2025-03-18T02:37:03.996149Z",
     "start_time": "2025-03-18T02:37:03.992911Z"
    }
   },
   "outputs": [],
   "execution_count": 86
  },
  {
   "cell_type": "code",
   "source": [
    "logarithmic_transformer = FunctionTransformer(np.log, inverse_func=np.exp)\n",
    "logarithmic_transformer.transform(train_features_numeric[[\"population\"]])"
   ],
   "metadata": {
    "colab": {
     "base_uri": "https://localhost:8080/",
     "height": 423
    },
    "id": "NrMFII8oG-Nu",
    "outputId": "7f4d0084-8e73-40fe-fc27-27941bf5e1bc",
    "ExecuteTime": {
     "end_time": "2025-03-18T02:37:04.151189Z",
     "start_time": "2025-03-18T02:37:04.130985Z"
    }
   },
   "outputs": [
    {
     "ename": "NameError",
     "evalue": "name 'train_features_numeric' is not defined",
     "output_type": "error",
     "traceback": [
      "\u001B[31m---------------------------------------------------------------------------\u001B[39m",
      "\u001B[31mNameError\u001B[39m                                 Traceback (most recent call last)",
      "\u001B[36mCell\u001B[39m\u001B[36m \u001B[39m\u001B[32mIn[87]\u001B[39m\u001B[32m, line 2\u001B[39m\n\u001B[32m      1\u001B[39m logarithmic_transformer = FunctionTransformer(np.log, inverse_func=np.exp)\n\u001B[32m----> \u001B[39m\u001B[32m2\u001B[39m logarithmic_transformer.transform(\u001B[43mtrain_features_numeric\u001B[49m[[\u001B[33m\"\u001B[39m\u001B[33mpopulation\u001B[39m\u001B[33m\"\u001B[39m]])\n",
      "\u001B[31mNameError\u001B[39m: name 'train_features_numeric' is not defined"
     ]
    }
   ],
   "execution_count": 87
  },
  {
   "cell_type": "code",
   "source": [
    "rbf_transformer = FunctionTransformer(rbf_kernel,\n",
    "                                      kw_args={\"Y\":[[35.0]],\n",
    "                                               \"gamma\":0.1})"
   ],
   "metadata": {
    "id": "LBYKx2B0Hu1h",
    "ExecuteTime": {
     "end_time": "2025-03-18T02:37:04.241163Z",
     "start_time": "2025-03-18T02:37:04.238012Z"
    }
   },
   "outputs": [],
   "execution_count": 88
  },
  {
   "cell_type": "code",
   "source": [
    "rbf_transformer.transform(train_features_numeric[[\"housing_median_age\"]])"
   ],
   "metadata": {
    "colab": {
     "base_uri": "https://localhost:8080/"
    },
    "id": "TPwjCUo4JG75",
    "outputId": "0f0c66c0-4326-419c-e6f7-98c68cba1caf",
    "ExecuteTime": {
     "end_time": "2025-03-18T02:37:04.410684Z",
     "start_time": "2025-03-18T02:37:04.390969Z"
    }
   },
   "outputs": [
    {
     "ename": "NameError",
     "evalue": "name 'train_features_numeric' is not defined",
     "output_type": "error",
     "traceback": [
      "\u001B[31m---------------------------------------------------------------------------\u001B[39m",
      "\u001B[31mNameError\u001B[39m                                 Traceback (most recent call last)",
      "\u001B[36mCell\u001B[39m\u001B[36m \u001B[39m\u001B[32mIn[89]\u001B[39m\u001B[32m, line 1\u001B[39m\n\u001B[32m----> \u001B[39m\u001B[32m1\u001B[39m rbf_transformer.transform(\u001B[43mtrain_features_numeric\u001B[49m[[\u001B[33m\"\u001B[39m\u001B[33mhousing_median_age\u001B[39m\u001B[33m\"\u001B[39m]])\n",
      "\u001B[31mNameError\u001B[39m: name 'train_features_numeric' is not defined"
     ]
    }
   ],
   "execution_count": 89
  },
  {
   "cell_type": "code",
   "source": [
    "# duck typing"
   ],
   "metadata": {
    "id": "cAdsopmgJWW_",
    "ExecuteTime": {
     "end_time": "2025-03-18T02:37:04.500401Z",
     "start_time": "2025-03-18T02:37:04.497490Z"
    }
   },
   "outputs": [],
   "execution_count": 90
  },
  {
   "cell_type": "code",
   "source": [
    "from sklearn.utils.validation import check_array, check_is_fitted\n",
    "from sklearn.base import BaseEstimator, TransformerMixin"
   ],
   "metadata": {
    "id": "bfbllUiGtMy_",
    "ExecuteTime": {
     "end_time": "2025-03-18T02:37:04.654759Z",
     "start_time": "2025-03-18T02:37:04.651727Z"
    }
   },
   "outputs": [],
   "execution_count": 91
  },
  {
   "cell_type": "code",
   "source": [
    "class CustomStandardScaler(BaseEstimator, TransformerMixin):\n",
    "\n",
    "  def __init__(self, hp=0):\n",
    "    self.hp = hp\n",
    "\n",
    "  def fit(self, X, y=None):\n",
    "    X = check_array(X)\n",
    "    self.mean_of_X = X.mean(axis=0)\n",
    "    self.std_of_X = X.std(axis=0)\n",
    "    self.n_features_in_ = X.shape[1]\n",
    "    return self\n",
    "\n",
    "  def transform(self, X):\n",
    "    check_is_fitted(self)\n",
    "    assert self.n_features_in_ == X.shape[1]\n",
    "    X = X - self.mean_of_X\n",
    "    return X / self.std_of_X"
   ],
   "metadata": {
    "id": "f1duftq6Qmis",
    "ExecuteTime": {
     "end_time": "2025-03-18T02:37:04.747905Z",
     "start_time": "2025-03-18T02:37:04.743513Z"
    }
   },
   "outputs": [],
   "execution_count": 92
  },
  {
   "cell_type": "code",
   "source": [
    "css = CustomStandardScaler()\n",
    "css.fit_transform(train_features_numeric)"
   ],
   "metadata": {
    "colab": {
     "base_uri": "https://localhost:8080/",
     "height": 487
    },
    "id": "2J1qrcwxnVj_",
    "outputId": "f555b9a3-7ebe-4b03-aa34-c51a19f7ee3f",
    "ExecuteTime": {
     "end_time": "2025-03-18T02:37:04.932056Z",
     "start_time": "2025-03-18T02:37:04.912962Z"
    }
   },
   "outputs": [
    {
     "ename": "NameError",
     "evalue": "name 'train_features_numeric' is not defined",
     "output_type": "error",
     "traceback": [
      "\u001B[31m---------------------------------------------------------------------------\u001B[39m",
      "\u001B[31mNameError\u001B[39m                                 Traceback (most recent call last)",
      "\u001B[36mCell\u001B[39m\u001B[36m \u001B[39m\u001B[32mIn[93]\u001B[39m\u001B[32m, line 2\u001B[39m\n\u001B[32m      1\u001B[39m css = CustomStandardScaler()\n\u001B[32m----> \u001B[39m\u001B[32m2\u001B[39m css.fit_transform(\u001B[43mtrain_features_numeric\u001B[49m)\n",
      "\u001B[31mNameError\u001B[39m: name 'train_features_numeric' is not defined"
     ]
    }
   ],
   "execution_count": 93
  },
  {
   "cell_type": "code",
   "source": [
    "# pipeline"
   ],
   "metadata": {
    "id": "fxU0I1u9qnHe",
    "ExecuteTime": {
     "end_time": "2025-03-18T02:37:05.023267Z",
     "start_time": "2025-03-18T02:37:05.020065Z"
    }
   },
   "outputs": [],
   "execution_count": 94
  },
  {
   "cell_type": "code",
   "source": [
    "from sklearn.pipeline import Pipeline, make_pipeline"
   ],
   "metadata": {
    "id": "Q5MrsCWfreph",
    "ExecuteTime": {
     "end_time": "2025-03-18T02:37:05.160749Z",
     "start_time": "2025-03-18T02:37:05.157726Z"
    }
   },
   "outputs": [],
   "execution_count": 95
  },
  {
   "cell_type": "code",
   "source": [
    "numerical_features_pipeline = Pipeline([\n",
    "    (\"medianImputer\", SimpleImputer(strategy=\"median\")),\n",
    "    (\"minMaxScaler\", MinMaxScaler())\n",
    "])"
   ],
   "metadata": {
    "id": "NFvJVaZur384",
    "ExecuteTime": {
     "end_time": "2025-03-18T02:37:05.268082Z",
     "start_time": "2025-03-18T02:37:05.264852Z"
    }
   },
   "outputs": [],
   "execution_count": 96
  },
  {
   "cell_type": "code",
   "source": [
    "make_pipeline(\n",
    "    SimpleImputer(strategy=\"median\"),\n",
    "    MinMaxScaler()\n",
    ")"
   ],
   "metadata": {
    "colab": {
     "base_uri": "https://localhost:8080/",
     "height": 125
    },
    "id": "8KC5CMP4sfXJ",
    "outputId": "2a27da42-03bf-4563-8d2c-246c95791b37",
    "ExecuteTime": {
     "end_time": "2025-03-18T02:37:05.425262Z",
     "start_time": "2025-03-18T02:37:05.417682Z"
    }
   },
   "outputs": [
    {
     "data": {
      "text/plain": [
       "Pipeline(steps=[('simpleimputer', SimpleImputer(strategy='median')),\n",
       "                ('minmaxscaler', MinMaxScaler())])"
      ],
      "text/html": [
       "<style>#sk-container-id-1 {\n",
       "  /* Definition of color scheme common for light and dark mode */\n",
       "  --sklearn-color-text: #000;\n",
       "  --sklearn-color-text-muted: #666;\n",
       "  --sklearn-color-line: gray;\n",
       "  /* Definition of color scheme for unfitted estimators */\n",
       "  --sklearn-color-unfitted-level-0: #fff5e6;\n",
       "  --sklearn-color-unfitted-level-1: #f6e4d2;\n",
       "  --sklearn-color-unfitted-level-2: #ffe0b3;\n",
       "  --sklearn-color-unfitted-level-3: chocolate;\n",
       "  /* Definition of color scheme for fitted estimators */\n",
       "  --sklearn-color-fitted-level-0: #f0f8ff;\n",
       "  --sklearn-color-fitted-level-1: #d4ebff;\n",
       "  --sklearn-color-fitted-level-2: #b3dbfd;\n",
       "  --sklearn-color-fitted-level-3: cornflowerblue;\n",
       "\n",
       "  /* Specific color for light theme */\n",
       "  --sklearn-color-text-on-default-background: var(--sg-text-color, var(--theme-code-foreground, var(--jp-content-font-color1, black)));\n",
       "  --sklearn-color-background: var(--sg-background-color, var(--theme-background, var(--jp-layout-color0, white)));\n",
       "  --sklearn-color-border-box: var(--sg-text-color, var(--theme-code-foreground, var(--jp-content-font-color1, black)));\n",
       "  --sklearn-color-icon: #696969;\n",
       "\n",
       "  @media (prefers-color-scheme: dark) {\n",
       "    /* Redefinition of color scheme for dark theme */\n",
       "    --sklearn-color-text-on-default-background: var(--sg-text-color, var(--theme-code-foreground, var(--jp-content-font-color1, white)));\n",
       "    --sklearn-color-background: var(--sg-background-color, var(--theme-background, var(--jp-layout-color0, #111)));\n",
       "    --sklearn-color-border-box: var(--sg-text-color, var(--theme-code-foreground, var(--jp-content-font-color1, white)));\n",
       "    --sklearn-color-icon: #878787;\n",
       "  }\n",
       "}\n",
       "\n",
       "#sk-container-id-1 {\n",
       "  color: var(--sklearn-color-text);\n",
       "}\n",
       "\n",
       "#sk-container-id-1 pre {\n",
       "  padding: 0;\n",
       "}\n",
       "\n",
       "#sk-container-id-1 input.sk-hidden--visually {\n",
       "  border: 0;\n",
       "  clip: rect(1px 1px 1px 1px);\n",
       "  clip: rect(1px, 1px, 1px, 1px);\n",
       "  height: 1px;\n",
       "  margin: -1px;\n",
       "  overflow: hidden;\n",
       "  padding: 0;\n",
       "  position: absolute;\n",
       "  width: 1px;\n",
       "}\n",
       "\n",
       "#sk-container-id-1 div.sk-dashed-wrapped {\n",
       "  border: 1px dashed var(--sklearn-color-line);\n",
       "  margin: 0 0.4em 0.5em 0.4em;\n",
       "  box-sizing: border-box;\n",
       "  padding-bottom: 0.4em;\n",
       "  background-color: var(--sklearn-color-background);\n",
       "}\n",
       "\n",
       "#sk-container-id-1 div.sk-container {\n",
       "  /* jupyter's `normalize.less` sets `[hidden] { display: none; }`\n",
       "     but bootstrap.min.css set `[hidden] { display: none !important; }`\n",
       "     so we also need the `!important` here to be able to override the\n",
       "     default hidden behavior on the sphinx rendered scikit-learn.org.\n",
       "     See: https://github.com/scikit-learn/scikit-learn/issues/21755 */\n",
       "  display: inline-block !important;\n",
       "  position: relative;\n",
       "}\n",
       "\n",
       "#sk-container-id-1 div.sk-text-repr-fallback {\n",
       "  display: none;\n",
       "}\n",
       "\n",
       "div.sk-parallel-item,\n",
       "div.sk-serial,\n",
       "div.sk-item {\n",
       "  /* draw centered vertical line to link estimators */\n",
       "  background-image: linear-gradient(var(--sklearn-color-text-on-default-background), var(--sklearn-color-text-on-default-background));\n",
       "  background-size: 2px 100%;\n",
       "  background-repeat: no-repeat;\n",
       "  background-position: center center;\n",
       "}\n",
       "\n",
       "/* Parallel-specific style estimator block */\n",
       "\n",
       "#sk-container-id-1 div.sk-parallel-item::after {\n",
       "  content: \"\";\n",
       "  width: 100%;\n",
       "  border-bottom: 2px solid var(--sklearn-color-text-on-default-background);\n",
       "  flex-grow: 1;\n",
       "}\n",
       "\n",
       "#sk-container-id-1 div.sk-parallel {\n",
       "  display: flex;\n",
       "  align-items: stretch;\n",
       "  justify-content: center;\n",
       "  background-color: var(--sklearn-color-background);\n",
       "  position: relative;\n",
       "}\n",
       "\n",
       "#sk-container-id-1 div.sk-parallel-item {\n",
       "  display: flex;\n",
       "  flex-direction: column;\n",
       "}\n",
       "\n",
       "#sk-container-id-1 div.sk-parallel-item:first-child::after {\n",
       "  align-self: flex-end;\n",
       "  width: 50%;\n",
       "}\n",
       "\n",
       "#sk-container-id-1 div.sk-parallel-item:last-child::after {\n",
       "  align-self: flex-start;\n",
       "  width: 50%;\n",
       "}\n",
       "\n",
       "#sk-container-id-1 div.sk-parallel-item:only-child::after {\n",
       "  width: 0;\n",
       "}\n",
       "\n",
       "/* Serial-specific style estimator block */\n",
       "\n",
       "#sk-container-id-1 div.sk-serial {\n",
       "  display: flex;\n",
       "  flex-direction: column;\n",
       "  align-items: center;\n",
       "  background-color: var(--sklearn-color-background);\n",
       "  padding-right: 1em;\n",
       "  padding-left: 1em;\n",
       "}\n",
       "\n",
       "\n",
       "/* Toggleable style: style used for estimator/Pipeline/ColumnTransformer box that is\n",
       "clickable and can be expanded/collapsed.\n",
       "- Pipeline and ColumnTransformer use this feature and define the default style\n",
       "- Estimators will overwrite some part of the style using the `sk-estimator` class\n",
       "*/\n",
       "\n",
       "/* Pipeline and ColumnTransformer style (default) */\n",
       "\n",
       "#sk-container-id-1 div.sk-toggleable {\n",
       "  /* Default theme specific background. It is overwritten whether we have a\n",
       "  specific estimator or a Pipeline/ColumnTransformer */\n",
       "  background-color: var(--sklearn-color-background);\n",
       "}\n",
       "\n",
       "/* Toggleable label */\n",
       "#sk-container-id-1 label.sk-toggleable__label {\n",
       "  cursor: pointer;\n",
       "  display: flex;\n",
       "  width: 100%;\n",
       "  margin-bottom: 0;\n",
       "  padding: 0.5em;\n",
       "  box-sizing: border-box;\n",
       "  text-align: center;\n",
       "  align-items: start;\n",
       "  justify-content: space-between;\n",
       "  gap: 0.5em;\n",
       "}\n",
       "\n",
       "#sk-container-id-1 label.sk-toggleable__label .caption {\n",
       "  font-size: 0.6rem;\n",
       "  font-weight: lighter;\n",
       "  color: var(--sklearn-color-text-muted);\n",
       "}\n",
       "\n",
       "#sk-container-id-1 label.sk-toggleable__label-arrow:before {\n",
       "  /* Arrow on the left of the label */\n",
       "  content: \"▸\";\n",
       "  float: left;\n",
       "  margin-right: 0.25em;\n",
       "  color: var(--sklearn-color-icon);\n",
       "}\n",
       "\n",
       "#sk-container-id-1 label.sk-toggleable__label-arrow:hover:before {\n",
       "  color: var(--sklearn-color-text);\n",
       "}\n",
       "\n",
       "/* Toggleable content - dropdown */\n",
       "\n",
       "#sk-container-id-1 div.sk-toggleable__content {\n",
       "  max-height: 0;\n",
       "  max-width: 0;\n",
       "  overflow: hidden;\n",
       "  text-align: left;\n",
       "  /* unfitted */\n",
       "  background-color: var(--sklearn-color-unfitted-level-0);\n",
       "}\n",
       "\n",
       "#sk-container-id-1 div.sk-toggleable__content.fitted {\n",
       "  /* fitted */\n",
       "  background-color: var(--sklearn-color-fitted-level-0);\n",
       "}\n",
       "\n",
       "#sk-container-id-1 div.sk-toggleable__content pre {\n",
       "  margin: 0.2em;\n",
       "  border-radius: 0.25em;\n",
       "  color: var(--sklearn-color-text);\n",
       "  /* unfitted */\n",
       "  background-color: var(--sklearn-color-unfitted-level-0);\n",
       "}\n",
       "\n",
       "#sk-container-id-1 div.sk-toggleable__content.fitted pre {\n",
       "  /* unfitted */\n",
       "  background-color: var(--sklearn-color-fitted-level-0);\n",
       "}\n",
       "\n",
       "#sk-container-id-1 input.sk-toggleable__control:checked~div.sk-toggleable__content {\n",
       "  /* Expand drop-down */\n",
       "  max-height: 200px;\n",
       "  max-width: 100%;\n",
       "  overflow: auto;\n",
       "}\n",
       "\n",
       "#sk-container-id-1 input.sk-toggleable__control:checked~label.sk-toggleable__label-arrow:before {\n",
       "  content: \"▾\";\n",
       "}\n",
       "\n",
       "/* Pipeline/ColumnTransformer-specific style */\n",
       "\n",
       "#sk-container-id-1 div.sk-label input.sk-toggleable__control:checked~label.sk-toggleable__label {\n",
       "  color: var(--sklearn-color-text);\n",
       "  background-color: var(--sklearn-color-unfitted-level-2);\n",
       "}\n",
       "\n",
       "#sk-container-id-1 div.sk-label.fitted input.sk-toggleable__control:checked~label.sk-toggleable__label {\n",
       "  background-color: var(--sklearn-color-fitted-level-2);\n",
       "}\n",
       "\n",
       "/* Estimator-specific style */\n",
       "\n",
       "/* Colorize estimator box */\n",
       "#sk-container-id-1 div.sk-estimator input.sk-toggleable__control:checked~label.sk-toggleable__label {\n",
       "  /* unfitted */\n",
       "  background-color: var(--sklearn-color-unfitted-level-2);\n",
       "}\n",
       "\n",
       "#sk-container-id-1 div.sk-estimator.fitted input.sk-toggleable__control:checked~label.sk-toggleable__label {\n",
       "  /* fitted */\n",
       "  background-color: var(--sklearn-color-fitted-level-2);\n",
       "}\n",
       "\n",
       "#sk-container-id-1 div.sk-label label.sk-toggleable__label,\n",
       "#sk-container-id-1 div.sk-label label {\n",
       "  /* The background is the default theme color */\n",
       "  color: var(--sklearn-color-text-on-default-background);\n",
       "}\n",
       "\n",
       "/* On hover, darken the color of the background */\n",
       "#sk-container-id-1 div.sk-label:hover label.sk-toggleable__label {\n",
       "  color: var(--sklearn-color-text);\n",
       "  background-color: var(--sklearn-color-unfitted-level-2);\n",
       "}\n",
       "\n",
       "/* Label box, darken color on hover, fitted */\n",
       "#sk-container-id-1 div.sk-label.fitted:hover label.sk-toggleable__label.fitted {\n",
       "  color: var(--sklearn-color-text);\n",
       "  background-color: var(--sklearn-color-fitted-level-2);\n",
       "}\n",
       "\n",
       "/* Estimator label */\n",
       "\n",
       "#sk-container-id-1 div.sk-label label {\n",
       "  font-family: monospace;\n",
       "  font-weight: bold;\n",
       "  display: inline-block;\n",
       "  line-height: 1.2em;\n",
       "}\n",
       "\n",
       "#sk-container-id-1 div.sk-label-container {\n",
       "  text-align: center;\n",
       "}\n",
       "\n",
       "/* Estimator-specific */\n",
       "#sk-container-id-1 div.sk-estimator {\n",
       "  font-family: monospace;\n",
       "  border: 1px dotted var(--sklearn-color-border-box);\n",
       "  border-radius: 0.25em;\n",
       "  box-sizing: border-box;\n",
       "  margin-bottom: 0.5em;\n",
       "  /* unfitted */\n",
       "  background-color: var(--sklearn-color-unfitted-level-0);\n",
       "}\n",
       "\n",
       "#sk-container-id-1 div.sk-estimator.fitted {\n",
       "  /* fitted */\n",
       "  background-color: var(--sklearn-color-fitted-level-0);\n",
       "}\n",
       "\n",
       "/* on hover */\n",
       "#sk-container-id-1 div.sk-estimator:hover {\n",
       "  /* unfitted */\n",
       "  background-color: var(--sklearn-color-unfitted-level-2);\n",
       "}\n",
       "\n",
       "#sk-container-id-1 div.sk-estimator.fitted:hover {\n",
       "  /* fitted */\n",
       "  background-color: var(--sklearn-color-fitted-level-2);\n",
       "}\n",
       "\n",
       "/* Specification for estimator info (e.g. \"i\" and \"?\") */\n",
       "\n",
       "/* Common style for \"i\" and \"?\" */\n",
       "\n",
       ".sk-estimator-doc-link,\n",
       "a:link.sk-estimator-doc-link,\n",
       "a:visited.sk-estimator-doc-link {\n",
       "  float: right;\n",
       "  font-size: smaller;\n",
       "  line-height: 1em;\n",
       "  font-family: monospace;\n",
       "  background-color: var(--sklearn-color-background);\n",
       "  border-radius: 1em;\n",
       "  height: 1em;\n",
       "  width: 1em;\n",
       "  text-decoration: none !important;\n",
       "  margin-left: 0.5em;\n",
       "  text-align: center;\n",
       "  /* unfitted */\n",
       "  border: var(--sklearn-color-unfitted-level-1) 1pt solid;\n",
       "  color: var(--sklearn-color-unfitted-level-1);\n",
       "}\n",
       "\n",
       ".sk-estimator-doc-link.fitted,\n",
       "a:link.sk-estimator-doc-link.fitted,\n",
       "a:visited.sk-estimator-doc-link.fitted {\n",
       "  /* fitted */\n",
       "  border: var(--sklearn-color-fitted-level-1) 1pt solid;\n",
       "  color: var(--sklearn-color-fitted-level-1);\n",
       "}\n",
       "\n",
       "/* On hover */\n",
       "div.sk-estimator:hover .sk-estimator-doc-link:hover,\n",
       ".sk-estimator-doc-link:hover,\n",
       "div.sk-label-container:hover .sk-estimator-doc-link:hover,\n",
       ".sk-estimator-doc-link:hover {\n",
       "  /* unfitted */\n",
       "  background-color: var(--sklearn-color-unfitted-level-3);\n",
       "  color: var(--sklearn-color-background);\n",
       "  text-decoration: none;\n",
       "}\n",
       "\n",
       "div.sk-estimator.fitted:hover .sk-estimator-doc-link.fitted:hover,\n",
       ".sk-estimator-doc-link.fitted:hover,\n",
       "div.sk-label-container:hover .sk-estimator-doc-link.fitted:hover,\n",
       ".sk-estimator-doc-link.fitted:hover {\n",
       "  /* fitted */\n",
       "  background-color: var(--sklearn-color-fitted-level-3);\n",
       "  color: var(--sklearn-color-background);\n",
       "  text-decoration: none;\n",
       "}\n",
       "\n",
       "/* Span, style for the box shown on hovering the info icon */\n",
       ".sk-estimator-doc-link span {\n",
       "  display: none;\n",
       "  z-index: 9999;\n",
       "  position: relative;\n",
       "  font-weight: normal;\n",
       "  right: .2ex;\n",
       "  padding: .5ex;\n",
       "  margin: .5ex;\n",
       "  width: min-content;\n",
       "  min-width: 20ex;\n",
       "  max-width: 50ex;\n",
       "  color: var(--sklearn-color-text);\n",
       "  box-shadow: 2pt 2pt 4pt #999;\n",
       "  /* unfitted */\n",
       "  background: var(--sklearn-color-unfitted-level-0);\n",
       "  border: .5pt solid var(--sklearn-color-unfitted-level-3);\n",
       "}\n",
       "\n",
       ".sk-estimator-doc-link.fitted span {\n",
       "  /* fitted */\n",
       "  background: var(--sklearn-color-fitted-level-0);\n",
       "  border: var(--sklearn-color-fitted-level-3);\n",
       "}\n",
       "\n",
       ".sk-estimator-doc-link:hover span {\n",
       "  display: block;\n",
       "}\n",
       "\n",
       "/* \"?\"-specific style due to the `<a>` HTML tag */\n",
       "\n",
       "#sk-container-id-1 a.estimator_doc_link {\n",
       "  float: right;\n",
       "  font-size: 1rem;\n",
       "  line-height: 1em;\n",
       "  font-family: monospace;\n",
       "  background-color: var(--sklearn-color-background);\n",
       "  border-radius: 1rem;\n",
       "  height: 1rem;\n",
       "  width: 1rem;\n",
       "  text-decoration: none;\n",
       "  /* unfitted */\n",
       "  color: var(--sklearn-color-unfitted-level-1);\n",
       "  border: var(--sklearn-color-unfitted-level-1) 1pt solid;\n",
       "}\n",
       "\n",
       "#sk-container-id-1 a.estimator_doc_link.fitted {\n",
       "  /* fitted */\n",
       "  border: var(--sklearn-color-fitted-level-1) 1pt solid;\n",
       "  color: var(--sklearn-color-fitted-level-1);\n",
       "}\n",
       "\n",
       "/* On hover */\n",
       "#sk-container-id-1 a.estimator_doc_link:hover {\n",
       "  /* unfitted */\n",
       "  background-color: var(--sklearn-color-unfitted-level-3);\n",
       "  color: var(--sklearn-color-background);\n",
       "  text-decoration: none;\n",
       "}\n",
       "\n",
       "#sk-container-id-1 a.estimator_doc_link.fitted:hover {\n",
       "  /* fitted */\n",
       "  background-color: var(--sklearn-color-fitted-level-3);\n",
       "}\n",
       "</style><div id=\"sk-container-id-1\" class=\"sk-top-container\"><div class=\"sk-text-repr-fallback\"><pre>Pipeline(steps=[(&#x27;simpleimputer&#x27;, SimpleImputer(strategy=&#x27;median&#x27;)),\n",
       "                (&#x27;minmaxscaler&#x27;, MinMaxScaler())])</pre><b>In a Jupyter environment, please rerun this cell to show the HTML representation or trust the notebook. <br />On GitHub, the HTML representation is unable to render, please try loading this page with nbviewer.org.</b></div><div class=\"sk-container\" hidden><div class=\"sk-item sk-dashed-wrapped\"><div class=\"sk-label-container\"><div class=\"sk-label  sk-toggleable\"><input class=\"sk-toggleable__control sk-hidden--visually\" id=\"sk-estimator-id-1\" type=\"checkbox\" ><label for=\"sk-estimator-id-1\" class=\"sk-toggleable__label  sk-toggleable__label-arrow\"><div><div>Pipeline</div></div><div><a class=\"sk-estimator-doc-link \" rel=\"noreferrer\" target=\"_blank\" href=\"https://scikit-learn.org/1.6/modules/generated/sklearn.pipeline.Pipeline.html\">?<span>Documentation for Pipeline</span></a><span class=\"sk-estimator-doc-link \">i<span>Not fitted</span></span></div></label><div class=\"sk-toggleable__content \"><pre>Pipeline(steps=[(&#x27;simpleimputer&#x27;, SimpleImputer(strategy=&#x27;median&#x27;)),\n",
       "                (&#x27;minmaxscaler&#x27;, MinMaxScaler())])</pre></div> </div></div><div class=\"sk-serial\"><div class=\"sk-item\"><div class=\"sk-estimator  sk-toggleable\"><input class=\"sk-toggleable__control sk-hidden--visually\" id=\"sk-estimator-id-2\" type=\"checkbox\" ><label for=\"sk-estimator-id-2\" class=\"sk-toggleable__label  sk-toggleable__label-arrow\"><div><div>SimpleImputer</div></div><div><a class=\"sk-estimator-doc-link \" rel=\"noreferrer\" target=\"_blank\" href=\"https://scikit-learn.org/1.6/modules/generated/sklearn.impute.SimpleImputer.html\">?<span>Documentation for SimpleImputer</span></a></div></label><div class=\"sk-toggleable__content \"><pre>SimpleImputer(strategy=&#x27;median&#x27;)</pre></div> </div></div><div class=\"sk-item\"><div class=\"sk-estimator  sk-toggleable\"><input class=\"sk-toggleable__control sk-hidden--visually\" id=\"sk-estimator-id-3\" type=\"checkbox\" ><label for=\"sk-estimator-id-3\" class=\"sk-toggleable__label  sk-toggleable__label-arrow\"><div><div>MinMaxScaler</div></div><div><a class=\"sk-estimator-doc-link \" rel=\"noreferrer\" target=\"_blank\" href=\"https://scikit-learn.org/1.6/modules/generated/sklearn.preprocessing.MinMaxScaler.html\">?<span>Documentation for MinMaxScaler</span></a></div></label><div class=\"sk-toggleable__content \"><pre>MinMaxScaler()</pre></div> </div></div></div></div></div></div>"
      ]
     },
     "execution_count": 97,
     "metadata": {},
     "output_type": "execute_result"
    }
   ],
   "execution_count": 97
  },
  {
   "cell_type": "code",
   "source": [
    "numerical_features_pipeline.fit_transform(train_features_numeric)"
   ],
   "metadata": {
    "colab": {
     "base_uri": "https://localhost:8080/"
    },
    "id": "rdtZ-re5tP8S",
    "outputId": "07e1a226-bd99-4166-f9ea-fc0a435fc492",
    "ExecuteTime": {
     "end_time": "2025-03-18T02:37:05.529127Z",
     "start_time": "2025-03-18T02:37:05.509491Z"
    }
   },
   "outputs": [
    {
     "ename": "NameError",
     "evalue": "name 'train_features_numeric' is not defined",
     "output_type": "error",
     "traceback": [
      "\u001B[31m---------------------------------------------------------------------------\u001B[39m",
      "\u001B[31mNameError\u001B[39m                                 Traceback (most recent call last)",
      "\u001B[36mCell\u001B[39m\u001B[36m \u001B[39m\u001B[32mIn[98]\u001B[39m\u001B[32m, line 1\u001B[39m\n\u001B[32m----> \u001B[39m\u001B[32m1\u001B[39m numerical_features_pipeline.fit_transform(\u001B[43mtrain_features_numeric\u001B[49m)\n",
      "\u001B[31mNameError\u001B[39m: name 'train_features_numeric' is not defined"
     ]
    }
   ],
   "execution_count": 98
  },
  {
   "cell_type": "code",
   "source": [
    "from sklearn.compose import ColumnTransformer"
   ],
   "metadata": {
    "id": "QAdOUyqhtYnI",
    "ExecuteTime": {
     "end_time": "2025-03-18T02:37:05.681278Z",
     "start_time": "2025-03-18T02:37:05.677927Z"
    }
   },
   "outputs": [],
   "execution_count": 99
  },
  {
   "cell_type": "code",
   "source": [
    "train_features.columns"
   ],
   "metadata": {
    "colab": {
     "base_uri": "https://localhost:8080/"
    },
    "id": "ghK0JfA_vsoa",
    "outputId": "32877e40-229c-405b-e8d6-886f6b8d3134",
    "ExecuteTime": {
     "end_time": "2025-03-18T02:37:05.820790Z",
     "start_time": "2025-03-18T02:37:05.800694Z"
    }
   },
   "outputs": [
    {
     "ename": "NameError",
     "evalue": "name 'train_features' is not defined",
     "output_type": "error",
     "traceback": [
      "\u001B[31m---------------------------------------------------------------------------\u001B[39m",
      "\u001B[31mNameError\u001B[39m                                 Traceback (most recent call last)",
      "\u001B[36mCell\u001B[39m\u001B[36m \u001B[39m\u001B[32mIn[100]\u001B[39m\u001B[32m, line 1\u001B[39m\n\u001B[32m----> \u001B[39m\u001B[32m1\u001B[39m \u001B[43mtrain_features\u001B[49m.columns\n",
      "\u001B[31mNameError\u001B[39m: name 'train_features' is not defined"
     ]
    }
   ],
   "execution_count": 100
  },
  {
   "cell_type": "code",
   "source": [
    "numerical_features = list(train_features.columns)\n",
    "numerical_features.remove(\"ocean_proximity\")\n",
    "numerical_features"
   ],
   "metadata": {
    "colab": {
     "base_uri": "https://localhost:8080/"
    },
    "id": "PfhFdHj-v4DB",
    "outputId": "680e3aa0-ef4f-46c9-d6fb-4e77626e22ba",
    "ExecuteTime": {
     "end_time": "2025-03-18T02:37:06.020401Z",
     "start_time": "2025-03-18T02:37:06.000517Z"
    }
   },
   "outputs": [
    {
     "ename": "NameError",
     "evalue": "name 'train_features' is not defined",
     "output_type": "error",
     "traceback": [
      "\u001B[31m---------------------------------------------------------------------------\u001B[39m",
      "\u001B[31mNameError\u001B[39m                                 Traceback (most recent call last)",
      "\u001B[36mCell\u001B[39m\u001B[36m \u001B[39m\u001B[32mIn[101]\u001B[39m\u001B[32m, line 1\u001B[39m\n\u001B[32m----> \u001B[39m\u001B[32m1\u001B[39m numerical_features = \u001B[38;5;28mlist\u001B[39m(\u001B[43mtrain_features\u001B[49m.columns)\n\u001B[32m      2\u001B[39m numerical_features.remove(\u001B[33m\"\u001B[39m\u001B[33mocean_proximity\u001B[39m\u001B[33m\"\u001B[39m)\n\u001B[32m      3\u001B[39m numerical_features\n",
      "\u001B[31mNameError\u001B[39m: name 'train_features' is not defined"
     ]
    }
   ],
   "execution_count": 101
  },
  {
   "cell_type": "code",
   "source": [
    "categorical_features = [\"ocean_proximity\"]"
   ],
   "metadata": {
    "id": "Pfa8gBwlwU_5",
    "ExecuteTime": {
     "end_time": "2025-03-18T02:37:06.141813Z",
     "start_time": "2025-03-18T02:37:06.138607Z"
    }
   },
   "outputs": [],
   "execution_count": 102
  },
  {
   "cell_type": "code",
   "source": [
    "numerical_features_pipeline = Pipeline([\n",
    "    (\"medianImputer\", SimpleImputer(strategy=\"median\")),\n",
    "    (\"minMaxScaler\", MinMaxScaler())\n",
    "])"
   ],
   "metadata": {
    "id": "zQkOJwe5wgZa",
    "ExecuteTime": {
     "end_time": "2025-03-18T02:37:06.309995Z",
     "start_time": "2025-03-18T02:37:06.306775Z"
    }
   },
   "outputs": [],
   "execution_count": 103
  },
  {
   "cell_type": "code",
   "source": [
    "categorical_features_pipeline = Pipeline([\n",
    "    (\"mfImputer\", SimpleImputer(strategy=\"most_frequent\")),\n",
    "    (\"ohe\", OneHotEncoder())\n",
    "])"
   ],
   "metadata": {
    "id": "CScjiN_4wl16",
    "ExecuteTime": {
     "end_time": "2025-03-18T02:37:06.401948Z",
     "start_time": "2025-03-18T02:37:06.398916Z"
    }
   },
   "outputs": [],
   "execution_count": 104
  },
  {
   "cell_type": "code",
   "source": [
    "total_transformation = ColumnTransformer([\n",
    "    (\"numerical\", numerical_features_pipeline, numerical_features),\n",
    "    (\"categorical\", categorical_features_pipeline, categorical_features)\n",
    "])"
   ],
   "metadata": {
    "id": "hwB7qk7Tw-ly",
    "ExecuteTime": {
     "end_time": "2025-03-18T02:37:06.570339Z",
     "start_time": "2025-03-18T02:37:06.550843Z"
    }
   },
   "outputs": [
    {
     "ename": "NameError",
     "evalue": "name 'numerical_features' is not defined",
     "output_type": "error",
     "traceback": [
      "\u001B[31m---------------------------------------------------------------------------\u001B[39m",
      "\u001B[31mNameError\u001B[39m                                 Traceback (most recent call last)",
      "\u001B[36mCell\u001B[39m\u001B[36m \u001B[39m\u001B[32mIn[105]\u001B[39m\u001B[32m, line 2\u001B[39m\n\u001B[32m      1\u001B[39m total_transformation = ColumnTransformer([\n\u001B[32m----> \u001B[39m\u001B[32m2\u001B[39m     (\u001B[33m\"\u001B[39m\u001B[33mnumerical\u001B[39m\u001B[33m\"\u001B[39m, numerical_features_pipeline, \u001B[43mnumerical_features\u001B[49m),\n\u001B[32m      3\u001B[39m     (\u001B[33m\"\u001B[39m\u001B[33mcategorical\u001B[39m\u001B[33m\"\u001B[39m, categorical_features_pipeline, categorical_features)\n\u001B[32m      4\u001B[39m ])\n",
      "\u001B[31mNameError\u001B[39m: name 'numerical_features' is not defined"
     ]
    }
   ],
   "execution_count": 105
  },
  {
   "cell_type": "code",
   "source": [
    "\"drop\"\n",
    "\"passthrough\""
   ],
   "metadata": {
    "id": "XhYBTKPo0u9e",
    "colab": {
     "base_uri": "https://localhost:8080/",
     "height": 35
    },
    "outputId": "c622212a-da8e-49cf-b919-3584d9a3cf67",
    "ExecuteTime": {
     "end_time": "2025-03-18T02:37:06.677363Z",
     "start_time": "2025-03-18T02:37:06.673471Z"
    }
   },
   "outputs": [
    {
     "data": {
      "text/plain": [
       "'passthrough'"
      ]
     },
     "execution_count": 106,
     "metadata": {},
     "output_type": "execute_result"
    }
   ],
   "execution_count": 106
  },
  {
   "cell_type": "code",
   "source": [
    "total_transformation.fit_transform(train_features)"
   ],
   "metadata": {
    "colab": {
     "base_uri": "https://localhost:8080/"
    },
    "id": "SLyP7OG6y1YL",
    "outputId": "12e813d0-c2f5-4d14-dff7-b1d0d9d8c417",
    "ExecuteTime": {
     "end_time": "2025-03-18T02:37:06.831049Z",
     "start_time": "2025-03-18T02:37:06.811928Z"
    }
   },
   "outputs": [
    {
     "ename": "NameError",
     "evalue": "name 'total_transformation' is not defined",
     "output_type": "error",
     "traceback": [
      "\u001B[31m---------------------------------------------------------------------------\u001B[39m",
      "\u001B[31mNameError\u001B[39m                                 Traceback (most recent call last)",
      "\u001B[36mCell\u001B[39m\u001B[36m \u001B[39m\u001B[32mIn[107]\u001B[39m\u001B[32m, line 1\u001B[39m\n\u001B[32m----> \u001B[39m\u001B[32m1\u001B[39m \u001B[43mtotal_transformation\u001B[49m.fit_transform(train_features)\n",
      "\u001B[31mNameError\u001B[39m: name 'total_transformation' is not defined"
     ]
    }
   ],
   "execution_count": 107
  },
  {
   "cell_type": "code",
   "source": [
    "total_transformation.get_feature_names_out()"
   ],
   "metadata": {
    "colab": {
     "base_uri": "https://localhost:8080/"
    },
    "id": "qLEKzm2Z3fB0",
    "outputId": "0fcfa4e3-f467-4c55-96d3-384c78c61a67",
    "ExecuteTime": {
     "end_time": "2025-03-18T02:37:06.939071Z",
     "start_time": "2025-03-18T02:37:06.919799Z"
    }
   },
   "outputs": [
    {
     "ename": "NameError",
     "evalue": "name 'total_transformation' is not defined",
     "output_type": "error",
     "traceback": [
      "\u001B[31m---------------------------------------------------------------------------\u001B[39m",
      "\u001B[31mNameError\u001B[39m                                 Traceback (most recent call last)",
      "\u001B[36mCell\u001B[39m\u001B[36m \u001B[39m\u001B[32mIn[108]\u001B[39m\u001B[32m, line 1\u001B[39m\n\u001B[32m----> \u001B[39m\u001B[32m1\u001B[39m \u001B[43mtotal_transformation\u001B[49m.get_feature_names_out()\n",
      "\u001B[31mNameError\u001B[39m: name 'total_transformation' is not defined"
     ]
    }
   ],
   "execution_count": 108
  },
  {
   "cell_type": "code",
   "source": [
    "# all of the transformations"
   ],
   "metadata": {
    "id": "pAEFI-PXzYkX",
    "ExecuteTime": {
     "end_time": "2025-03-18T02:37:07.091781Z",
     "start_time": "2025-03-18T02:37:07.088761Z"
    }
   },
   "outputs": [],
   "execution_count": 109
  },
  {
   "cell_type": "code",
   "source": [
    "train_data, test_data = train_test_split(df,\n",
    "                                         test_size=0.2,\n",
    "                                         stratify=df[\"median_income_categories\"],\n",
    "                                         random_state=40)"
   ],
   "metadata": {
    "id": "1EJZBZdw1cxX",
    "ExecuteTime": {
     "end_time": "2025-03-18T02:37:07.676210Z",
     "start_time": "2025-03-18T02:37:07.226725Z"
    }
   },
   "outputs": [
    {
     "ename": "KeyError",
     "evalue": "'median_income_categories'",
     "output_type": "error",
     "traceback": [
      "\u001B[31m---------------------------------------------------------------------------\u001B[39m",
      "\u001B[31mKeyError\u001B[39m                                  Traceback (most recent call last)",
      "\u001B[36mFile \u001B[39m\u001B[32mE:\\Python_Programming\\l4_ai\\mine_machin_FeMn\\env_machin_learining\\Lib\\site-packages\\pandas\\core\\indexes\\base.py:3805\u001B[39m, in \u001B[36mIndex.get_loc\u001B[39m\u001B[34m(self, key)\u001B[39m\n\u001B[32m   3804\u001B[39m \u001B[38;5;28;01mtry\u001B[39;00m:\n\u001B[32m-> \u001B[39m\u001B[32m3805\u001B[39m     \u001B[38;5;28;01mreturn\u001B[39;00m \u001B[38;5;28;43mself\u001B[39;49m\u001B[43m.\u001B[49m\u001B[43m_engine\u001B[49m\u001B[43m.\u001B[49m\u001B[43mget_loc\u001B[49m\u001B[43m(\u001B[49m\u001B[43mcasted_key\u001B[49m\u001B[43m)\u001B[49m\n\u001B[32m   3806\u001B[39m \u001B[38;5;28;01mexcept\u001B[39;00m \u001B[38;5;167;01mKeyError\u001B[39;00m \u001B[38;5;28;01mas\u001B[39;00m err:\n",
      "\u001B[36mFile \u001B[39m\u001B[32mindex.pyx:167\u001B[39m, in \u001B[36mpandas._libs.index.IndexEngine.get_loc\u001B[39m\u001B[34m()\u001B[39m\n",
      "\u001B[36mFile \u001B[39m\u001B[32mindex.pyx:196\u001B[39m, in \u001B[36mpandas._libs.index.IndexEngine.get_loc\u001B[39m\u001B[34m()\u001B[39m\n",
      "\u001B[36mFile \u001B[39m\u001B[32mpandas\\\\_libs\\\\hashtable_class_helper.pxi:7081\u001B[39m, in \u001B[36mpandas._libs.hashtable.PyObjectHashTable.get_item\u001B[39m\u001B[34m()\u001B[39m\n",
      "\u001B[36mFile \u001B[39m\u001B[32mpandas\\\\_libs\\\\hashtable_class_helper.pxi:7089\u001B[39m, in \u001B[36mpandas._libs.hashtable.PyObjectHashTable.get_item\u001B[39m\u001B[34m()\u001B[39m\n",
      "\u001B[31mKeyError\u001B[39m: 'median_income_categories'",
      "\nThe above exception was the direct cause of the following exception:\n",
      "\u001B[31mKeyError\u001B[39m                                  Traceback (most recent call last)",
      "\u001B[36mCell\u001B[39m\u001B[36m \u001B[39m\u001B[32mIn[110]\u001B[39m\u001B[32m, line 3\u001B[39m\n\u001B[32m      1\u001B[39m train_data, test_data = train_test_split(df,\n\u001B[32m      2\u001B[39m                                          test_size=\u001B[32m0.2\u001B[39m,\n\u001B[32m----> \u001B[39m\u001B[32m3\u001B[39m                                          stratify=\u001B[43mdf\u001B[49m\u001B[43m[\u001B[49m\u001B[33;43m\"\u001B[39;49m\u001B[33;43mmedian_income_categories\u001B[39;49m\u001B[33;43m\"\u001B[39;49m\u001B[43m]\u001B[49m,\n\u001B[32m      4\u001B[39m                                          random_state=\u001B[32m40\u001B[39m)\n",
      "\u001B[36mFile \u001B[39m\u001B[32mE:\\Python_Programming\\l4_ai\\mine_machin_FeMn\\env_machin_learining\\Lib\\site-packages\\pandas\\core\\frame.py:4102\u001B[39m, in \u001B[36mDataFrame.__getitem__\u001B[39m\u001B[34m(self, key)\u001B[39m\n\u001B[32m   4100\u001B[39m \u001B[38;5;28;01mif\u001B[39;00m \u001B[38;5;28mself\u001B[39m.columns.nlevels > \u001B[32m1\u001B[39m:\n\u001B[32m   4101\u001B[39m     \u001B[38;5;28;01mreturn\u001B[39;00m \u001B[38;5;28mself\u001B[39m._getitem_multilevel(key)\n\u001B[32m-> \u001B[39m\u001B[32m4102\u001B[39m indexer = \u001B[38;5;28;43mself\u001B[39;49m\u001B[43m.\u001B[49m\u001B[43mcolumns\u001B[49m\u001B[43m.\u001B[49m\u001B[43mget_loc\u001B[49m\u001B[43m(\u001B[49m\u001B[43mkey\u001B[49m\u001B[43m)\u001B[49m\n\u001B[32m   4103\u001B[39m \u001B[38;5;28;01mif\u001B[39;00m is_integer(indexer):\n\u001B[32m   4104\u001B[39m     indexer = [indexer]\n",
      "\u001B[36mFile \u001B[39m\u001B[32mE:\\Python_Programming\\l4_ai\\mine_machin_FeMn\\env_machin_learining\\Lib\\site-packages\\pandas\\core\\indexes\\base.py:3812\u001B[39m, in \u001B[36mIndex.get_loc\u001B[39m\u001B[34m(self, key)\u001B[39m\n\u001B[32m   3807\u001B[39m     \u001B[38;5;28;01mif\u001B[39;00m \u001B[38;5;28misinstance\u001B[39m(casted_key, \u001B[38;5;28mslice\u001B[39m) \u001B[38;5;129;01mor\u001B[39;00m (\n\u001B[32m   3808\u001B[39m         \u001B[38;5;28misinstance\u001B[39m(casted_key, abc.Iterable)\n\u001B[32m   3809\u001B[39m         \u001B[38;5;129;01mand\u001B[39;00m \u001B[38;5;28many\u001B[39m(\u001B[38;5;28misinstance\u001B[39m(x, \u001B[38;5;28mslice\u001B[39m) \u001B[38;5;28;01mfor\u001B[39;00m x \u001B[38;5;129;01min\u001B[39;00m casted_key)\n\u001B[32m   3810\u001B[39m     ):\n\u001B[32m   3811\u001B[39m         \u001B[38;5;28;01mraise\u001B[39;00m InvalidIndexError(key)\n\u001B[32m-> \u001B[39m\u001B[32m3812\u001B[39m     \u001B[38;5;28;01mraise\u001B[39;00m \u001B[38;5;167;01mKeyError\u001B[39;00m(key) \u001B[38;5;28;01mfrom\u001B[39;00m\u001B[38;5;250m \u001B[39m\u001B[34;01merr\u001B[39;00m\n\u001B[32m   3813\u001B[39m \u001B[38;5;28;01mexcept\u001B[39;00m \u001B[38;5;167;01mTypeError\u001B[39;00m:\n\u001B[32m   3814\u001B[39m     \u001B[38;5;66;03m# If we have a listlike key, _check_indexing_error will raise\u001B[39;00m\n\u001B[32m   3815\u001B[39m     \u001B[38;5;66;03m#  InvalidIndexError. Otherwise we fall through and re-raise\u001B[39;00m\n\u001B[32m   3816\u001B[39m     \u001B[38;5;66;03m#  the TypeError.\u001B[39;00m\n\u001B[32m   3817\u001B[39m     \u001B[38;5;28mself\u001B[39m._check_indexing_error(key)\n",
      "\u001B[31mKeyError\u001B[39m: 'median_income_categories'"
     ]
    }
   ],
   "execution_count": 110
  },
  {
   "cell_type": "code",
   "source": [
    "train_data = train_data.drop(columns=\"median_income_categories\")\n",
    "test_data = test_data.drop(columns=\"median_income_categories\")"
   ],
   "metadata": {
    "id": "ERD904VS1jvz"
   },
   "outputs": [],
   "execution_count": null
  },
  {
   "cell_type": "code",
   "source": [
    "train_features = train_data.drop(columns=\"median_house_value\")\n",
    "train_target = train_data[\"median_house_value\"]\n",
    "\n",
    "test_features = test_data.drop(columns=\"median_house_value\")\n",
    "test_target = test_data[\"median_house_value\"]"
   ],
   "metadata": {
    "id": "FaXT8jRZPWOR"
   },
   "outputs": [],
   "execution_count": null
  },
  {
   "cell_type": "code",
   "source": [
    "train_features"
   ],
   "metadata": {
    "colab": {
     "base_uri": "https://localhost:8080/",
     "height": 487
    },
    "id": "1JffqiEQ1k0w",
    "outputId": "9f6d7a19-14a7-4322-f860-d825de487bb8"
   },
   "outputs": [],
   "execution_count": null
  },
  {
   "cell_type": "code",
   "source": [
    "heavy_tail_pipeline = make_pipeline(\n",
    "    SimpleImputer(strategy=\"median\"),\n",
    "    FunctionTransformer(np.log, feature_names_out=\"one-to-one\"),\n",
    "    StandardScaler()\n",
    ")"
   ],
   "metadata": {
    "id": "JnDcNzbA1xH5",
    "ExecuteTime": {
     "end_time": "2025-03-18T02:37:07.679238Z",
     "start_time": "2025-03-18T02:37:07.679238Z"
    }
   },
   "outputs": [],
   "execution_count": null
  },
  {
   "cell_type": "code",
   "source": [
    "categorical_features_pipeline = Pipeline([\n",
    "    (\"mfImputer\", SimpleImputer(strategy=\"most_frequent\")),\n",
    "    (\"ohe\", OneHotEncoder())\n",
    "])"
   ],
   "metadata": {
    "id": "Ca97tJUY3hyi",
    "ExecuteTime": {
     "end_time": "2025-03-18T02:37:07.718897Z",
     "start_time": "2025-03-18T02:37:07.715807Z"
    }
   },
   "outputs": [],
   "execution_count": 111
  },
  {
   "cell_type": "code",
   "source": [
    "housing_median_age_rbf_transformer = FunctionTransformer(\n",
    "    rbf_kernel,\n",
    "    feature_names_out=\"one-to-one\", \n",
    "    kw_args={\"Y\":[[35.0]],\"gamma\":0.1}\n",
    "    )"
   ],
   "metadata": {
    "id": "7YLnq1-N3vaC",
    "ExecuteTime": {
     "end_time": "2025-03-18T02:37:07.780181Z",
     "start_time": "2025-03-18T02:37:07.776860Z"
    }
   },
   "outputs": [],
   "execution_count": 112
  },
  {
   "cell_type": "code",
   "source": [
    "default_numerical_pipeline = make_pipeline(\n",
    "    SimpleImputer(strategy=\"median\"),\n",
    "    StandardScaler()\n",
    ")"
   ],
   "metadata": {
    "id": "qSdwY7Yz4vkk",
    "ExecuteTime": {
     "end_time": "2025-03-18T02:37:07.979068Z",
     "start_time": "2025-03-18T02:37:07.976127Z"
    }
   },
   "outputs": [],
   "execution_count": 113
  },
  {
   "cell_type": "code",
   "source": [
    "def ratio_of_columns(X):\n",
    "  return X[:, [0]] / X[:, [1]]\n",
    "\n",
    "def ratio_of_columns_name(function_transformer, feature_names_in):\n",
    "  return [\"ratio\"]\n",
    "\n",
    "def ratio_of_columns_pipeline():\n",
    "  return make_pipeline(\n",
    "      SimpleImputer(strategy=\"median\"),\n",
    "      FunctionTransformer(ratio_of_columns,\n",
    "                          feature_names_out=ratio_of_columns_name),\n",
    "      StandardScaler()\n",
    "      \n",
    "  )"
   ],
   "metadata": {
    "id": "TtoityGD5QAN",
    "ExecuteTime": {
     "end_time": "2025-03-18T02:37:08.086148Z",
     "start_time": "2025-03-18T02:37:08.082657Z"
    }
   },
   "outputs": [],
   "execution_count": 114
  },
  {
   "cell_type": "code",
   "source": [
    "all_transformations = ColumnTransformer([\n",
    "    (\"bedrooms\", ratio_of_columns_pipeline(), [\"total_bedrooms\", \"total_rooms\"]),\n",
    "    (\"rooms_per_house\", ratio_of_columns_pipeline(), [\"total_rooms\", \"households\"]),\n",
    "    (\"people_per_house\", ratio_of_columns_pipeline(), [\"population\", \"households\"]),\n",
    "    (\"log\", heavy_tail_pipeline, [\"total_bedrooms\", \"total_rooms\",\n",
    "                                  \"population\", \"households\", \"median_income\"]),\n",
    "    (\"rbf\", housing_median_age_rbf_transformer, [\"housing_median_age\"]),\n",
    "    (\"cat\", categorical_features_pipeline, [\"ocean_proximity\"])\n",
    "    \n",
    "],\n",
    "remainder=default_numerical_pipeline)"
   ],
   "metadata": {
    "id": "Cma8qAD0Dp0l",
    "ExecuteTime": {
     "end_time": "2025-03-18T02:37:08.243207Z",
     "start_time": "2025-03-18T02:37:08.221059Z"
    }
   },
   "outputs": [
    {
     "ename": "NameError",
     "evalue": "name 'heavy_tail_pipeline' is not defined",
     "output_type": "error",
     "traceback": [
      "\u001B[31m---------------------------------------------------------------------------\u001B[39m",
      "\u001B[31mNameError\u001B[39m                                 Traceback (most recent call last)",
      "\u001B[36mCell\u001B[39m\u001B[36m \u001B[39m\u001B[32mIn[115]\u001B[39m\u001B[32m, line 5\u001B[39m\n\u001B[32m      1\u001B[39m all_transformations = ColumnTransformer([\n\u001B[32m      2\u001B[39m     (\u001B[33m\"\u001B[39m\u001B[33mbedrooms\u001B[39m\u001B[33m\"\u001B[39m, ratio_of_columns_pipeline(), [\u001B[33m\"\u001B[39m\u001B[33mtotal_bedrooms\u001B[39m\u001B[33m\"\u001B[39m, \u001B[33m\"\u001B[39m\u001B[33mtotal_rooms\u001B[39m\u001B[33m\"\u001B[39m]),\n\u001B[32m      3\u001B[39m     (\u001B[33m\"\u001B[39m\u001B[33mrooms_per_house\u001B[39m\u001B[33m\"\u001B[39m, ratio_of_columns_pipeline(), [\u001B[33m\"\u001B[39m\u001B[33mtotal_rooms\u001B[39m\u001B[33m\"\u001B[39m, \u001B[33m\"\u001B[39m\u001B[33mhouseholds\u001B[39m\u001B[33m\"\u001B[39m]),\n\u001B[32m      4\u001B[39m     (\u001B[33m\"\u001B[39m\u001B[33mpeople_per_house\u001B[39m\u001B[33m\"\u001B[39m, ratio_of_columns_pipeline(), [\u001B[33m\"\u001B[39m\u001B[33mpopulation\u001B[39m\u001B[33m\"\u001B[39m, \u001B[33m\"\u001B[39m\u001B[33mhouseholds\u001B[39m\u001B[33m\"\u001B[39m]),\n\u001B[32m----> \u001B[39m\u001B[32m5\u001B[39m     (\u001B[33m\"\u001B[39m\u001B[33mlog\u001B[39m\u001B[33m\"\u001B[39m, \u001B[43mheavy_tail_pipeline\u001B[49m, [\u001B[33m\"\u001B[39m\u001B[33mtotal_bedrooms\u001B[39m\u001B[33m\"\u001B[39m, \u001B[33m\"\u001B[39m\u001B[33mtotal_rooms\u001B[39m\u001B[33m\"\u001B[39m,\n\u001B[32m      6\u001B[39m                                   \u001B[33m\"\u001B[39m\u001B[33mpopulation\u001B[39m\u001B[33m\"\u001B[39m, \u001B[33m\"\u001B[39m\u001B[33mhouseholds\u001B[39m\u001B[33m\"\u001B[39m, \u001B[33m\"\u001B[39m\u001B[33mmedian_income\u001B[39m\u001B[33m\"\u001B[39m]),\n\u001B[32m      7\u001B[39m     (\u001B[33m\"\u001B[39m\u001B[33mrbf\u001B[39m\u001B[33m\"\u001B[39m, housing_median_age_rbf_transformer, [\u001B[33m\"\u001B[39m\u001B[33mhousing_median_age\u001B[39m\u001B[33m\"\u001B[39m]),\n\u001B[32m      8\u001B[39m     (\u001B[33m\"\u001B[39m\u001B[33mcat\u001B[39m\u001B[33m\"\u001B[39m, categorical_features_pipeline, [\u001B[33m\"\u001B[39m\u001B[33mocean_proximity\u001B[39m\u001B[33m\"\u001B[39m])\n\u001B[32m      9\u001B[39m \n\u001B[32m     10\u001B[39m ],\n\u001B[32m     11\u001B[39m remainder=default_numerical_pipeline)\n",
      "\u001B[31mNameError\u001B[39m: name 'heavy_tail_pipeline' is not defined"
     ]
    }
   ],
   "execution_count": 115
  },
  {
   "cell_type": "code",
   "source": [
    "train_features_transformed = all_transformations.fit_transform(train_features)"
   ],
   "metadata": {
    "id": "RLPeObyIFj6v",
    "ExecuteTime": {
     "end_time": "2025-03-18T02:37:08.362361Z",
     "start_time": "2025-03-18T02:37:08.343104Z"
    }
   },
   "outputs": [
    {
     "ename": "NameError",
     "evalue": "name 'all_transformations' is not defined",
     "output_type": "error",
     "traceback": [
      "\u001B[31m---------------------------------------------------------------------------\u001B[39m",
      "\u001B[31mNameError\u001B[39m                                 Traceback (most recent call last)",
      "\u001B[36mCell\u001B[39m\u001B[36m \u001B[39m\u001B[32mIn[116]\u001B[39m\u001B[32m, line 1\u001B[39m\n\u001B[32m----> \u001B[39m\u001B[32m1\u001B[39m train_features_transformed = \u001B[43mall_transformations\u001B[49m.fit_transform(train_features)\n",
      "\u001B[31mNameError\u001B[39m: name 'all_transformations' is not defined"
     ]
    }
   ],
   "execution_count": 116
  },
  {
   "cell_type": "code",
   "source": [
    "train_features_transformed.shape"
   ],
   "metadata": {
    "colab": {
     "base_uri": "https://localhost:8080/"
    },
    "id": "u67iL0zSP1Ov",
    "outputId": "aff09bf2-0fa7-49c1-df45-e6bfc9a26e32",
    "ExecuteTime": {
     "end_time": "2025-03-18T02:37:08.484719Z",
     "start_time": "2025-03-18T02:37:08.465417Z"
    }
   },
   "outputs": [
    {
     "ename": "NameError",
     "evalue": "name 'train_features_transformed' is not defined",
     "output_type": "error",
     "traceback": [
      "\u001B[31m---------------------------------------------------------------------------\u001B[39m",
      "\u001B[31mNameError\u001B[39m                                 Traceback (most recent call last)",
      "\u001B[36mCell\u001B[39m\u001B[36m \u001B[39m\u001B[32mIn[117]\u001B[39m\u001B[32m, line 1\u001B[39m\n\u001B[32m----> \u001B[39m\u001B[32m1\u001B[39m \u001B[43mtrain_features_transformed\u001B[49m.shape\n",
      "\u001B[31mNameError\u001B[39m: name 'train_features_transformed' is not defined"
     ]
    }
   ],
   "execution_count": 117
  },
  {
   "cell_type": "code",
   "source": [
    "all_transformations.get_feature_names_out()"
   ],
   "metadata": {
    "colab": {
     "base_uri": "https://localhost:8080/"
    },
    "id": "nkfK4RsdP2tf",
    "outputId": "78930fd1-05b1-48c5-a641-09036b1972f8",
    "ExecuteTime": {
     "end_time": "2025-03-18T02:37:08.608991Z",
     "start_time": "2025-03-18T02:37:08.589709Z"
    }
   },
   "outputs": [
    {
     "ename": "NameError",
     "evalue": "name 'all_transformations' is not defined",
     "output_type": "error",
     "traceback": [
      "\u001B[31m---------------------------------------------------------------------------\u001B[39m",
      "\u001B[31mNameError\u001B[39m                                 Traceback (most recent call last)",
      "\u001B[36mCell\u001B[39m\u001B[36m \u001B[39m\u001B[32mIn[118]\u001B[39m\u001B[32m, line 1\u001B[39m\n\u001B[32m----> \u001B[39m\u001B[32m1\u001B[39m \u001B[43mall_transformations\u001B[49m.get_feature_names_out()\n",
      "\u001B[31mNameError\u001B[39m: name 'all_transformations' is not defined"
     ]
    }
   ],
   "execution_count": 118
  },
  {
   "cell_type": "code",
   "source": [
    "train_features_transformed"
   ],
   "metadata": {
    "colab": {
     "base_uri": "https://localhost:8080/"
    },
    "id": "Tz-zM81bQKUo",
    "outputId": "cb3aeb92-19ce-4141-d9c3-5baacac00673",
    "ExecuteTime": {
     "end_time": "2025-03-18T02:37:08.778756Z",
     "start_time": "2025-03-18T02:37:08.757331Z"
    }
   },
   "outputs": [
    {
     "ename": "NameError",
     "evalue": "name 'train_features_transformed' is not defined",
     "output_type": "error",
     "traceback": [
      "\u001B[31m---------------------------------------------------------------------------\u001B[39m",
      "\u001B[31mNameError\u001B[39m                                 Traceback (most recent call last)",
      "\u001B[36mCell\u001B[39m\u001B[36m \u001B[39m\u001B[32mIn[119]\u001B[39m\u001B[32m, line 1\u001B[39m\n\u001B[32m----> \u001B[39m\u001B[32m1\u001B[39m \u001B[43mtrain_features_transformed\u001B[49m\n",
      "\u001B[31mNameError\u001B[39m: name 'train_features_transformed' is not defined"
     ]
    }
   ],
   "execution_count": 119
  },
  {
   "cell_type": "code",
   "source": [
    "from sklearn.linear_model import LinearRegression"
   ],
   "metadata": {
    "id": "UL-vmMYkRmPZ",
    "ExecuteTime": {
     "end_time": "2025-03-18T02:37:08.926348Z",
     "start_time": "2025-03-18T02:37:08.922957Z"
    }
   },
   "outputs": [],
   "execution_count": 120
  },
  {
   "cell_type": "code",
   "source": [
    "linear_regression_pipeline = make_pipeline(all_transformations, \n",
    "                                           LinearRegression())"
   ],
   "metadata": {
    "id": "VnFTSB7rszbI",
    "ExecuteTime": {
     "end_time": "2025-03-18T02:37:09.115141Z",
     "start_time": "2025-03-18T02:37:09.094871Z"
    }
   },
   "outputs": [
    {
     "ename": "NameError",
     "evalue": "name 'all_transformations' is not defined",
     "output_type": "error",
     "traceback": [
      "\u001B[31m---------------------------------------------------------------------------\u001B[39m",
      "\u001B[31mNameError\u001B[39m                                 Traceback (most recent call last)",
      "\u001B[36mCell\u001B[39m\u001B[36m \u001B[39m\u001B[32mIn[121]\u001B[39m\u001B[32m, line 1\u001B[39m\n\u001B[32m----> \u001B[39m\u001B[32m1\u001B[39m linear_regression_pipeline = make_pipeline(\u001B[43mall_transformations\u001B[49m, \n\u001B[32m      2\u001B[39m                                            LinearRegression())\n",
      "\u001B[31mNameError\u001B[39m: name 'all_transformations' is not defined"
     ]
    }
   ],
   "execution_count": 121
  },
  {
   "cell_type": "code",
   "source": [
    "linear_regression_pipeline.fit(train_features,\n",
    "                               train_target)"
   ],
   "metadata": {
    "colab": {
     "base_uri": "https://localhost:8080/",
     "height": 295
    },
    "id": "g09iJf_itQlt",
    "outputId": "f30753f4-6082-420a-c6ae-593ef9d42817",
    "ExecuteTime": {
     "end_time": "2025-03-18T02:37:09.235262Z",
     "start_time": "2025-03-18T02:37:09.215573Z"
    }
   },
   "outputs": [
    {
     "ename": "NameError",
     "evalue": "name 'linear_regression_pipeline' is not defined",
     "output_type": "error",
     "traceback": [
      "\u001B[31m---------------------------------------------------------------------------\u001B[39m",
      "\u001B[31mNameError\u001B[39m                                 Traceback (most recent call last)",
      "\u001B[36mCell\u001B[39m\u001B[36m \u001B[39m\u001B[32mIn[122]\u001B[39m\u001B[32m, line 1\u001B[39m\n\u001B[32m----> \u001B[39m\u001B[32m1\u001B[39m \u001B[43mlinear_regression_pipeline\u001B[49m.fit(train_features,\n\u001B[32m      2\u001B[39m                                train_target)\n",
      "\u001B[31mNameError\u001B[39m: name 'linear_regression_pipeline' is not defined"
     ]
    }
   ],
   "execution_count": 122
  },
  {
   "cell_type": "code",
   "source": [
    "house_value_prediction = linear_regression_pipeline.predict(train_features)"
   ],
   "metadata": {
    "id": "eOzBBxbHtfav",
    "ExecuteTime": {
     "end_time": "2025-03-18T02:37:09.404173Z",
     "start_time": "2025-03-18T02:37:09.384418Z"
    }
   },
   "outputs": [
    {
     "ename": "NameError",
     "evalue": "name 'linear_regression_pipeline' is not defined",
     "output_type": "error",
     "traceback": [
      "\u001B[31m---------------------------------------------------------------------------\u001B[39m",
      "\u001B[31mNameError\u001B[39m                                 Traceback (most recent call last)",
      "\u001B[36mCell\u001B[39m\u001B[36m \u001B[39m\u001B[32mIn[123]\u001B[39m\u001B[32m, line 1\u001B[39m\n\u001B[32m----> \u001B[39m\u001B[32m1\u001B[39m house_value_prediction = \u001B[43mlinear_regression_pipeline\u001B[49m.predict(train_features)\n",
      "\u001B[31mNameError\u001B[39m: name 'linear_regression_pipeline' is not defined"
     ]
    }
   ],
   "execution_count": 123
  },
  {
   "cell_type": "code",
   "source": [
    "house_value_prediction"
   ],
   "metadata": {
    "colab": {
     "base_uri": "https://localhost:8080/"
    },
    "id": "k3_qFHYsuOmv",
    "outputId": "49078cc5-3fbb-4803-97ab-71f56be75965",
    "ExecuteTime": {
     "end_time": "2025-03-18T02:37:09.511110Z",
     "start_time": "2025-03-18T02:37:09.491949Z"
    }
   },
   "outputs": [
    {
     "ename": "NameError",
     "evalue": "name 'house_value_prediction' is not defined",
     "output_type": "error",
     "traceback": [
      "\u001B[31m---------------------------------------------------------------------------\u001B[39m",
      "\u001B[31mNameError\u001B[39m                                 Traceback (most recent call last)",
      "\u001B[36mCell\u001B[39m\u001B[36m \u001B[39m\u001B[32mIn[124]\u001B[39m\u001B[32m, line 1\u001B[39m\n\u001B[32m----> \u001B[39m\u001B[32m1\u001B[39m \u001B[43mhouse_value_prediction\u001B[49m\n",
      "\u001B[31mNameError\u001B[39m: name 'house_value_prediction' is not defined"
     ]
    }
   ],
   "execution_count": 124
  },
  {
   "cell_type": "code",
   "source": [
    "train_target.values"
   ],
   "metadata": {
    "colab": {
     "base_uri": "https://localhost:8080/"
    },
    "id": "WeckrsHZt7oc",
    "outputId": "f102fb48-aac7-4416-ee73-8c17e7db2c2e",
    "ExecuteTime": {
     "end_time": "2025-03-18T02:37:09.679789Z",
     "start_time": "2025-03-18T02:37:09.660512Z"
    }
   },
   "outputs": [
    {
     "ename": "NameError",
     "evalue": "name 'train_target' is not defined",
     "output_type": "error",
     "traceback": [
      "\u001B[31m---------------------------------------------------------------------------\u001B[39m",
      "\u001B[31mNameError\u001B[39m                                 Traceback (most recent call last)",
      "\u001B[36mCell\u001B[39m\u001B[36m \u001B[39m\u001B[32mIn[125]\u001B[39m\u001B[32m, line 1\u001B[39m\n\u001B[32m----> \u001B[39m\u001B[32m1\u001B[39m \u001B[43mtrain_target\u001B[49m.values\n",
      "\u001B[31mNameError\u001B[39m: name 'train_target' is not defined"
     ]
    }
   ],
   "execution_count": 125
  },
  {
   "cell_type": "code",
   "source": [
    "from sklearn.metrics import mean_absolute_error, mean_squared_error, r2_score"
   ],
   "metadata": {
    "id": "BDuGDYPiuMNA",
    "ExecuteTime": {
     "end_time": "2025-03-18T02:37:09.762755Z",
     "start_time": "2025-03-18T02:37:09.759504Z"
    }
   },
   "outputs": [],
   "execution_count": 126
  },
  {
   "cell_type": "code",
   "source": [
    "mean_absolute_error(train_target.values, house_value_prediction)"
   ],
   "metadata": {
    "colab": {
     "base_uri": "https://localhost:8080/"
    },
    "id": "WxZIM4dCtjm8",
    "outputId": "4f10f467-9866-456f-fb2e-086473a30838",
    "ExecuteTime": {
     "end_time": "2025-03-18T02:37:09.956660Z",
     "start_time": "2025-03-18T02:37:09.937357Z"
    }
   },
   "outputs": [
    {
     "ename": "NameError",
     "evalue": "name 'train_target' is not defined",
     "output_type": "error",
     "traceback": [
      "\u001B[31m---------------------------------------------------------------------------\u001B[39m",
      "\u001B[31mNameError\u001B[39m                                 Traceback (most recent call last)",
      "\u001B[36mCell\u001B[39m\u001B[36m \u001B[39m\u001B[32mIn[127]\u001B[39m\u001B[32m, line 1\u001B[39m\n\u001B[32m----> \u001B[39m\u001B[32m1\u001B[39m mean_absolute_error(\u001B[43mtrain_target\u001B[49m.values, house_value_prediction)\n",
      "\u001B[31mNameError\u001B[39m: name 'train_target' is not defined"
     ]
    }
   ],
   "execution_count": 127
  },
  {
   "cell_type": "code",
   "source": [
    "mean_squared_error(train_target.values, house_value_prediction,\n",
    "                   squared=False)"
   ],
   "metadata": {
    "colab": {
     "base_uri": "https://localhost:8080/"
    },
    "id": "2TPj-onTtrlZ",
    "outputId": "bc498c8e-f083-4e46-823e-ee91f95aef74",
    "ExecuteTime": {
     "end_time": "2025-03-18T02:37:10.080135Z",
     "start_time": "2025-03-18T02:37:10.059209Z"
    }
   },
   "outputs": [
    {
     "ename": "NameError",
     "evalue": "name 'train_target' is not defined",
     "output_type": "error",
     "traceback": [
      "\u001B[31m---------------------------------------------------------------------------\u001B[39m",
      "\u001B[31mNameError\u001B[39m                                 Traceback (most recent call last)",
      "\u001B[36mCell\u001B[39m\u001B[36m \u001B[39m\u001B[32mIn[128]\u001B[39m\u001B[32m, line 1\u001B[39m\n\u001B[32m----> \u001B[39m\u001B[32m1\u001B[39m mean_squared_error(\u001B[43mtrain_target\u001B[49m.values, house_value_prediction,\n\u001B[32m      2\u001B[39m                    squared=\u001B[38;5;28;01mFalse\u001B[39;00m)\n",
      "\u001B[31mNameError\u001B[39m: name 'train_target' is not defined"
     ]
    }
   ],
   "execution_count": 128
  },
  {
   "cell_type": "code",
   "source": [
    "r2_score(train_target.values, house_value_prediction)"
   ],
   "metadata": {
    "colab": {
     "base_uri": "https://localhost:8080/"
    },
    "id": "gkwm993tufi0",
    "outputId": "2511a478-fadd-42f5-bf0e-2f869b08b0e8",
    "ExecuteTime": {
     "end_time": "2025-03-18T02:37:10.215289Z",
     "start_time": "2025-03-18T02:37:10.196774Z"
    }
   },
   "outputs": [
    {
     "ename": "NameError",
     "evalue": "name 'train_target' is not defined",
     "output_type": "error",
     "traceback": [
      "\u001B[31m---------------------------------------------------------------------------\u001B[39m",
      "\u001B[31mNameError\u001B[39m                                 Traceback (most recent call last)",
      "\u001B[36mCell\u001B[39m\u001B[36m \u001B[39m\u001B[32mIn[129]\u001B[39m\u001B[32m, line 1\u001B[39m\n\u001B[32m----> \u001B[39m\u001B[32m1\u001B[39m r2_score(\u001B[43mtrain_target\u001B[49m.values, house_value_prediction)\n",
      "\u001B[31mNameError\u001B[39m: name 'train_target' is not defined"
     ]
    }
   ],
   "execution_count": 129
  },
  {
   "cell_type": "code",
   "source": [
    "from sklearn.tree import DecisionTreeRegressor"
   ],
   "metadata": {
    "id": "agTlmLsluv0s",
    "ExecuteTime": {
     "end_time": "2025-03-18T02:37:10.314103Z",
     "start_time": "2025-03-18T02:37:10.302986Z"
    }
   },
   "outputs": [],
   "execution_count": 130
  },
  {
   "cell_type": "code",
   "source": [
    "dt_regression_pipeline = make_pipeline(all_transformations, \n",
    "                                       DecisionTreeRegressor())"
   ],
   "metadata": {
    "id": "SAzeYvr7zUhW",
    "ExecuteTime": {
     "end_time": "2025-03-18T02:37:10.670241Z",
     "start_time": "2025-03-18T02:37:10.501421Z"
    }
   },
   "outputs": [
    {
     "ename": "NameError",
     "evalue": "name 'all_transformations' is not defined",
     "output_type": "error",
     "traceback": [
      "\u001B[31m---------------------------------------------------------------------------\u001B[39m",
      "\u001B[31mNameError\u001B[39m                                 Traceback (most recent call last)",
      "\u001B[36mCell\u001B[39m\u001B[36m \u001B[39m\u001B[32mIn[131]\u001B[39m\u001B[32m, line 1\u001B[39m\n\u001B[32m----> \u001B[39m\u001B[32m1\u001B[39m dt_regression_pipeline = make_pipeline(\u001B[43mall_transformations\u001B[49m, \n\u001B[32m      2\u001B[39m                                        DecisionTreeRegressor())\n",
      "\u001B[31mNameError\u001B[39m: name 'all_transformations' is not defined"
     ]
    }
   ],
   "execution_count": 131
  },
  {
   "cell_type": "code",
   "source": [
    "dt_regression_pipeline.fit(train_features,\n",
    "                           train_target)"
   ],
   "metadata": {
    "colab": {
     "base_uri": "https://localhost:8080/",
     "height": 295
    },
    "id": "KVjkpBfAzguO",
    "outputId": "e2caf37c-0936-4691-8c83-a5a94f954947"
   },
   "outputs": [],
   "execution_count": null
  },
  {
   "cell_type": "code",
   "source": [
    "mean_absolute_error(train_target.values,\n",
    "                    dt_regression_pipeline.predict(train_features))"
   ],
   "metadata": {
    "colab": {
     "base_uri": "https://localhost:8080/"
    },
    "id": "NUzTvkOYzlpO",
    "outputId": "680df9e9-33a2-41d7-c28b-8da4dd46e0ed",
    "ExecuteTime": {
     "end_time": "2025-03-18T02:37:10.780380Z",
     "start_time": "2025-03-18T02:37:10.760765Z"
    }
   },
   "outputs": [
    {
     "ename": "NameError",
     "evalue": "name 'train_target' is not defined",
     "output_type": "error",
     "traceback": [
      "\u001B[31m---------------------------------------------------------------------------\u001B[39m",
      "\u001B[31mNameError\u001B[39m                                 Traceback (most recent call last)",
      "\u001B[36mCell\u001B[39m\u001B[36m \u001B[39m\u001B[32mIn[132]\u001B[39m\u001B[32m, line 1\u001B[39m\n\u001B[32m----> \u001B[39m\u001B[32m1\u001B[39m mean_absolute_error(\u001B[43mtrain_target\u001B[49m.values,\n\u001B[32m      2\u001B[39m                     dt_regression_pipeline.predict(train_features))\n",
      "\u001B[31mNameError\u001B[39m: name 'train_target' is not defined"
     ]
    }
   ],
   "execution_count": 132
  },
  {
   "cell_type": "code",
   "source": [
    "r2_score(train_target.values,\n",
    "         dt_regression_pipeline.predict(train_features))"
   ],
   "metadata": {
    "colab": {
     "base_uri": "https://localhost:8080/"
    },
    "id": "_OxlVPxEzxs9",
    "outputId": "a216b3b1-8410-4f28-b5d7-b6f09c577c59",
    "ExecuteTime": {
     "end_time": "2025-03-18T02:37:10.857141Z",
     "start_time": "2025-03-18T02:37:10.837835Z"
    }
   },
   "outputs": [
    {
     "ename": "NameError",
     "evalue": "name 'train_target' is not defined",
     "output_type": "error",
     "traceback": [
      "\u001B[31m---------------------------------------------------------------------------\u001B[39m",
      "\u001B[31mNameError\u001B[39m                                 Traceback (most recent call last)",
      "\u001B[36mCell\u001B[39m\u001B[36m \u001B[39m\u001B[32mIn[133]\u001B[39m\u001B[32m, line 1\u001B[39m\n\u001B[32m----> \u001B[39m\u001B[32m1\u001B[39m r2_score(\u001B[43mtrain_target\u001B[49m.values,\n\u001B[32m      2\u001B[39m          dt_regression_pipeline.predict(train_features))\n",
      "\u001B[31mNameError\u001B[39m: name 'train_target' is not defined"
     ]
    }
   ],
   "execution_count": 133
  },
  {
   "cell_type": "code",
   "source": [
    "from sklearn.model_selection import cross_val_score"
   ],
   "metadata": {
    "id": "DZ3mHxIhz7V9",
    "ExecuteTime": {
     "end_time": "2025-03-18T02:37:11.026197Z",
     "start_time": "2025-03-18T02:37:11.022116Z"
    }
   },
   "outputs": [],
   "execution_count": 134
  },
  {
   "cell_type": "code",
   "source": [
    "dt_mae = -cross_val_score(dt_regression_pipeline,\n",
    "                          train_features,\n",
    "                          train_target,\n",
    "                          scoring=\"neg_mean_absolute_error\",\n",
    "                          cv=5)"
   ],
   "metadata": {
    "id": "ngV_WDhD5SjP",
    "ExecuteTime": {
     "end_time": "2025-03-18T02:37:11.164723Z",
     "start_time": "2025-03-18T02:37:11.144401Z"
    }
   },
   "outputs": [
    {
     "ename": "NameError",
     "evalue": "name 'dt_regression_pipeline' is not defined",
     "output_type": "error",
     "traceback": [
      "\u001B[31m---------------------------------------------------------------------------\u001B[39m",
      "\u001B[31mNameError\u001B[39m                                 Traceback (most recent call last)",
      "\u001B[36mCell\u001B[39m\u001B[36m \u001B[39m\u001B[32mIn[135]\u001B[39m\u001B[32m, line 1\u001B[39m\n\u001B[32m----> \u001B[39m\u001B[32m1\u001B[39m dt_mae = -cross_val_score(\u001B[43mdt_regression_pipeline\u001B[49m,\n\u001B[32m      2\u001B[39m                           train_features,\n\u001B[32m      3\u001B[39m                           train_target,\n\u001B[32m      4\u001B[39m                           scoring=\u001B[33m\"\u001B[39m\u001B[33mneg_mean_absolute_error\u001B[39m\u001B[33m\"\u001B[39m,\n\u001B[32m      5\u001B[39m                           cv=\u001B[32m5\u001B[39m)\n",
      "\u001B[31mNameError\u001B[39m: name 'dt_regression_pipeline' is not defined"
     ]
    }
   ],
   "execution_count": 135
  },
  {
   "cell_type": "code",
   "source": [
    "pd.Series(dt_mae).describe()"
   ],
   "metadata": {
    "colab": {
     "base_uri": "https://localhost:8080/"
    },
    "id": "7aG_wET95szP",
    "outputId": "6a17dd7f-137e-46c3-f787-6a7fb4c461b7",
    "ExecuteTime": {
     "end_time": "2025-03-18T02:37:11.332441Z",
     "start_time": "2025-03-18T02:37:11.312762Z"
    }
   },
   "outputs": [
    {
     "ename": "NameError",
     "evalue": "name 'dt_mae' is not defined",
     "output_type": "error",
     "traceback": [
      "\u001B[31m---------------------------------------------------------------------------\u001B[39m",
      "\u001B[31mNameError\u001B[39m                                 Traceback (most recent call last)",
      "\u001B[36mCell\u001B[39m\u001B[36m \u001B[39m\u001B[32mIn[136]\u001B[39m\u001B[32m, line 1\u001B[39m\n\u001B[32m----> \u001B[39m\u001B[32m1\u001B[39m pd.Series(\u001B[43mdt_mae\u001B[49m).describe()\n",
      "\u001B[31mNameError\u001B[39m: name 'dt_mae' is not defined"
     ]
    }
   ],
   "execution_count": 136
  },
  {
   "cell_type": "code",
   "source": [
    "from sklearn.model_selection import GridSearchCV"
   ],
   "metadata": {
    "id": "HbpbQS-S5vv4",
    "ExecuteTime": {
     "end_time": "2025-03-18T02:37:11.407574Z",
     "start_time": "2025-03-18T02:37:11.404514Z"
    }
   },
   "outputs": [],
   "execution_count": 137
  },
  {
   "cell_type": "code",
   "source": [
    "#method1"
   ],
   "metadata": {
    "id": "n9MQNpmOGR0h",
    "ExecuteTime": {
     "end_time": "2025-03-18T02:37:11.608357Z",
     "start_time": "2025-03-18T02:37:11.605320Z"
    }
   },
   "outputs": [],
   "execution_count": 138
  },
  {
   "cell_type": "code",
   "source": [
    "param_grid = {\"max_depth\":[5, 10, 15]}"
   ],
   "metadata": {
    "id": "_oaoSzf_FU_4",
    "ExecuteTime": {
     "end_time": "2025-03-18T02:37:11.753273Z",
     "start_time": "2025-03-18T02:37:11.750054Z"
    }
   },
   "outputs": [],
   "execution_count": 139
  },
  {
   "cell_type": "code",
   "source": [
    "gs = GridSearchCV(DecisionTreeRegressor(),\n",
    "                  param_grid,\n",
    "                  scoring=\"neg_mean_absolute_error\",\n",
    "                  cv=5)"
   ],
   "metadata": {
    "id": "N0BmPwZEEzeQ",
    "ExecuteTime": {
     "end_time": "2025-03-18T02:37:11.868923Z",
     "start_time": "2025-03-18T02:37:11.865447Z"
    }
   },
   "outputs": [],
   "execution_count": 140
  },
  {
   "cell_type": "code",
   "source": [
    "gs.fit(train_features_transformed, train_target)"
   ],
   "metadata": {
    "colab": {
     "base_uri": "https://localhost:8080/",
     "height": 116
    },
    "id": "waVVhuZLF0X4",
    "outputId": "a139c973-cab0-4cc6-b984-cddf58007098",
    "ExecuteTime": {
     "end_time": "2025-03-18T02:37:11.992303Z",
     "start_time": "2025-03-18T02:37:11.973112Z"
    }
   },
   "outputs": [
    {
     "ename": "NameError",
     "evalue": "name 'train_features_transformed' is not defined",
     "output_type": "error",
     "traceback": [
      "\u001B[31m---------------------------------------------------------------------------\u001B[39m",
      "\u001B[31mNameError\u001B[39m                                 Traceback (most recent call last)",
      "\u001B[36mCell\u001B[39m\u001B[36m \u001B[39m\u001B[32mIn[141]\u001B[39m\u001B[32m, line 1\u001B[39m\n\u001B[32m----> \u001B[39m\u001B[32m1\u001B[39m gs.fit(\u001B[43mtrain_features_transformed\u001B[49m, train_target)\n",
      "\u001B[31mNameError\u001B[39m: name 'train_features_transformed' is not defined"
     ]
    }
   ],
   "execution_count": 141
  },
  {
   "cell_type": "code",
   "source": [
    "gs.best_params_"
   ],
   "metadata": {
    "colab": {
     "base_uri": "https://localhost:8080/"
    },
    "id": "QATdREz3GAWu",
    "outputId": "453fc4ec-ec46-4de7-ebea-dd7f0513964e",
    "ExecuteTime": {
     "end_time": "2025-03-18T02:37:12.115836Z",
     "start_time": "2025-03-18T02:37:12.095624Z"
    }
   },
   "outputs": [
    {
     "ename": "AttributeError",
     "evalue": "'GridSearchCV' object has no attribute 'best_params_'",
     "output_type": "error",
     "traceback": [
      "\u001B[31m---------------------------------------------------------------------------\u001B[39m",
      "\u001B[31mAttributeError\u001B[39m                            Traceback (most recent call last)",
      "\u001B[36mCell\u001B[39m\u001B[36m \u001B[39m\u001B[32mIn[142]\u001B[39m\u001B[32m, line 1\u001B[39m\n\u001B[32m----> \u001B[39m\u001B[32m1\u001B[39m \u001B[43mgs\u001B[49m\u001B[43m.\u001B[49m\u001B[43mbest_params_\u001B[49m\n",
      "\u001B[31mAttributeError\u001B[39m: 'GridSearchCV' object has no attribute 'best_params_'"
     ]
    }
   ],
   "execution_count": 142
  },
  {
   "cell_type": "code",
   "source": [
    "#method2"
   ],
   "metadata": {
    "id": "owAeuDdLGHeY",
    "ExecuteTime": {
     "end_time": "2025-03-18T02:37:12.236836Z",
     "start_time": "2025-03-18T02:37:12.233575Z"
    }
   },
   "outputs": [],
   "execution_count": 143
  },
  {
   "cell_type": "code",
   "source": [
    "dt_regression_pipeline = Pipeline([\n",
    "    (\"transformation\", all_transformations), \n",
    "    (\"dtr\", DecisionTreeRegressor())\n",
    "    ])"
   ],
   "metadata": {
    "id": "oXTEYrz_GUsA",
    "ExecuteTime": {
     "end_time": "2025-03-18T02:37:12.421975Z",
     "start_time": "2025-03-18T02:37:12.401853Z"
    }
   },
   "outputs": [
    {
     "ename": "NameError",
     "evalue": "name 'all_transformations' is not defined",
     "output_type": "error",
     "traceback": [
      "\u001B[31m---------------------------------------------------------------------------\u001B[39m",
      "\u001B[31mNameError\u001B[39m                                 Traceback (most recent call last)",
      "\u001B[36mCell\u001B[39m\u001B[36m \u001B[39m\u001B[32mIn[144]\u001B[39m\u001B[32m, line 2\u001B[39m\n\u001B[32m      1\u001B[39m dt_regression_pipeline = Pipeline([\n\u001B[32m----> \u001B[39m\u001B[32m2\u001B[39m     (\u001B[33m\"\u001B[39m\u001B[33mtransformation\u001B[39m\u001B[33m\"\u001B[39m, \u001B[43mall_transformations\u001B[49m), \n\u001B[32m      3\u001B[39m     (\u001B[33m\"\u001B[39m\u001B[33mdtr\u001B[39m\u001B[33m\"\u001B[39m, DecisionTreeRegressor())\n\u001B[32m      4\u001B[39m     ])\n",
      "\u001B[31mNameError\u001B[39m: name 'all_transformations' is not defined"
     ]
    }
   ],
   "execution_count": 144
  },
  {
   "cell_type": "code",
   "source": [
    "param_grid = {\"transformation__rbf__kw_args\":[{\"Y\":[[35.0]],\"gamma\":0.1},\n",
    "                                              {\"Y\":[[35.0]],\"gamma\":0.2}],\n",
    "              \"dtr__max_depth\":[5, 10, 15]}"
   ],
   "metadata": {
    "id": "ING5nHCiGcP4",
    "ExecuteTime": {
     "end_time": "2025-03-18T02:37:12.497483Z",
     "start_time": "2025-03-18T02:37:12.493999Z"
    }
   },
   "outputs": [],
   "execution_count": 145
  },
  {
   "cell_type": "code",
   "source": [
    "gs = GridSearchCV(dt_regression_pipeline,\n",
    "                  param_grid,\n",
    "                  scoring=\"neg_mean_absolute_error\",\n",
    "                  cv=5)"
   ],
   "metadata": {
    "id": "Y6fEZPzLIhQf",
    "ExecuteTime": {
     "end_time": "2025-03-18T02:37:12.650058Z",
     "start_time": "2025-03-18T02:37:12.630382Z"
    }
   },
   "outputs": [
    {
     "ename": "NameError",
     "evalue": "name 'dt_regression_pipeline' is not defined",
     "output_type": "error",
     "traceback": [
      "\u001B[31m---------------------------------------------------------------------------\u001B[39m",
      "\u001B[31mNameError\u001B[39m                                 Traceback (most recent call last)",
      "\u001B[36mCell\u001B[39m\u001B[36m \u001B[39m\u001B[32mIn[146]\u001B[39m\u001B[32m, line 1\u001B[39m\n\u001B[32m----> \u001B[39m\u001B[32m1\u001B[39m gs = GridSearchCV(\u001B[43mdt_regression_pipeline\u001B[49m,\n\u001B[32m      2\u001B[39m                   param_grid,\n\u001B[32m      3\u001B[39m                   scoring=\u001B[33m\"\u001B[39m\u001B[33mneg_mean_absolute_error\u001B[39m\u001B[33m\"\u001B[39m,\n\u001B[32m      4\u001B[39m                   cv=\u001B[32m5\u001B[39m)\n",
      "\u001B[31mNameError\u001B[39m: name 'dt_regression_pipeline' is not defined"
     ]
    }
   ],
   "execution_count": 146
  },
  {
   "cell_type": "code",
   "source": [
    "gs.fit(train_features, train_target)"
   ],
   "metadata": {
    "colab": {
     "base_uri": "https://localhost:8080/",
     "height": 321
    },
    "id": "q1gJmSAkJp61",
    "outputId": "bd2087e0-9448-4270-d3a9-2d267bf36314",
    "ExecuteTime": {
     "end_time": "2025-03-18T02:37:12.788111Z",
     "start_time": "2025-03-18T02:37:12.768357Z"
    }
   },
   "outputs": [
    {
     "ename": "NameError",
     "evalue": "name 'train_features' is not defined",
     "output_type": "error",
     "traceback": [
      "\u001B[31m---------------------------------------------------------------------------\u001B[39m",
      "\u001B[31mNameError\u001B[39m                                 Traceback (most recent call last)",
      "\u001B[36mCell\u001B[39m\u001B[36m \u001B[39m\u001B[32mIn[147]\u001B[39m\u001B[32m, line 1\u001B[39m\n\u001B[32m----> \u001B[39m\u001B[32m1\u001B[39m gs.fit(\u001B[43mtrain_features\u001B[49m, train_target)\n",
      "\u001B[31mNameError\u001B[39m: name 'train_features' is not defined"
     ]
    }
   ],
   "execution_count": 147
  },
  {
   "cell_type": "code",
   "source": [
    "gs.best_params_"
   ],
   "metadata": {
    "colab": {
     "base_uri": "https://localhost:8080/"
    },
    "id": "DANw8sM4JzDB",
    "outputId": "81a5ef45-cc40-4180-e5c9-b8d6cbfa24f0",
    "ExecuteTime": {
     "end_time": "2025-03-18T02:37:12.910483Z",
     "start_time": "2025-03-18T02:37:12.891171Z"
    }
   },
   "outputs": [
    {
     "ename": "AttributeError",
     "evalue": "'GridSearchCV' object has no attribute 'best_params_'",
     "output_type": "error",
     "traceback": [
      "\u001B[31m---------------------------------------------------------------------------\u001B[39m",
      "\u001B[31mAttributeError\u001B[39m                            Traceback (most recent call last)",
      "\u001B[36mCell\u001B[39m\u001B[36m \u001B[39m\u001B[32mIn[148]\u001B[39m\u001B[32m, line 1\u001B[39m\n\u001B[32m----> \u001B[39m\u001B[32m1\u001B[39m \u001B[43mgs\u001B[49m\u001B[43m.\u001B[49m\u001B[43mbest_params_\u001B[49m\n",
      "\u001B[31mAttributeError\u001B[39m: 'GridSearchCV' object has no attribute 'best_params_'"
     ]
    }
   ],
   "execution_count": 148
  },
  {
   "cell_type": "code",
   "source": [
    "pd.DataFrame(gs.cv_results_).sort_values(by=\"mean_test_score\",\n",
    "                                         ascending=False)"
   ],
   "metadata": {
    "colab": {
     "base_uri": "https://localhost:8080/",
     "height": 405
    },
    "id": "HW7v6RMAKtOT",
    "outputId": "1fc86d83-bb2e-498e-b9b0-5b14108eb2eb",
    "ExecuteTime": {
     "end_time": "2025-03-18T02:37:13.033004Z",
     "start_time": "2025-03-18T02:37:13.012945Z"
    }
   },
   "outputs": [
    {
     "ename": "AttributeError",
     "evalue": "'GridSearchCV' object has no attribute 'cv_results_'",
     "output_type": "error",
     "traceback": [
      "\u001B[31m---------------------------------------------------------------------------\u001B[39m",
      "\u001B[31mAttributeError\u001B[39m                            Traceback (most recent call last)",
      "\u001B[36mCell\u001B[39m\u001B[36m \u001B[39m\u001B[32mIn[149]\u001B[39m\u001B[32m, line 1\u001B[39m\n\u001B[32m----> \u001B[39m\u001B[32m1\u001B[39m pd.DataFrame(\u001B[43mgs\u001B[49m\u001B[43m.\u001B[49m\u001B[43mcv_results_\u001B[49m).sort_values(by=\u001B[33m\"\u001B[39m\u001B[33mmean_test_score\u001B[39m\u001B[33m\"\u001B[39m,\n\u001B[32m      2\u001B[39m                                          ascending=\u001B[38;5;28;01mFalse\u001B[39;00m)\n",
      "\u001B[31mAttributeError\u001B[39m: 'GridSearchCV' object has no attribute 'cv_results_'"
     ]
    }
   ],
   "execution_count": 149
  },
  {
   "cell_type": "code",
   "source": [
    "from scipy.stats import randint"
   ],
   "metadata": {
    "id": "EOB-tqZFO47M",
    "ExecuteTime": {
     "end_time": "2025-03-18T02:37:13.184822Z",
     "start_time": "2025-03-18T02:37:13.181672Z"
    }
   },
   "outputs": [],
   "execution_count": 150
  },
  {
   "cell_type": "code",
   "source": [
    "randint(low=5, high=100)"
   ],
   "metadata": {
    "id": "cVYTg23uP1mN",
    "ExecuteTime": {
     "end_time": "2025-03-18T02:37:13.309241Z",
     "start_time": "2025-03-18T02:37:13.304176Z"
    }
   },
   "outputs": [
    {
     "data": {
      "text/plain": [
       "<scipy.stats._distn_infrastructure.rv_discrete_frozen at 0x1d2fc5d7440>"
      ]
     },
     "execution_count": 151,
     "metadata": {},
     "output_type": "execute_result"
    }
   ],
   "execution_count": 151
  },
  {
   "cell_type": "code",
   "source": [
    "housing_model = gs.best_estimator_"
   ],
   "metadata": {
    "id": "GuGPC4nsQY_w",
    "ExecuteTime": {
     "end_time": "2025-03-18T02:37:13.494697Z",
     "start_time": "2025-03-18T02:37:13.473047Z"
    }
   },
   "outputs": [
    {
     "ename": "AttributeError",
     "evalue": "'GridSearchCV' object has no attribute 'best_estimator_'",
     "output_type": "error",
     "traceback": [
      "\u001B[31m---------------------------------------------------------------------------\u001B[39m",
      "\u001B[31mAttributeError\u001B[39m                            Traceback (most recent call last)",
      "\u001B[36mCell\u001B[39m\u001B[36m \u001B[39m\u001B[32mIn[152]\u001B[39m\u001B[32m, line 1\u001B[39m\n\u001B[32m----> \u001B[39m\u001B[32m1\u001B[39m housing_model = \u001B[43mgs\u001B[49m\u001B[43m.\u001B[49m\u001B[43mbest_estimator_\u001B[49m\n",
      "\u001B[31mAttributeError\u001B[39m: 'GridSearchCV' object has no attribute 'best_estimator_'"
     ]
    }
   ],
   "execution_count": 152
  },
  {
   "cell_type": "code",
   "source": [
    "housing_model[\"dtr\"].feature_importances_.round(3)"
   ],
   "metadata": {
    "colab": {
     "base_uri": "https://localhost:8080/"
    },
    "id": "vzwdXJrwQxSd",
    "outputId": "345c58f1-1412-4125-8177-44c13626e5c1",
    "ExecuteTime": {
     "end_time": "2025-03-18T02:37:13.601669Z",
     "start_time": "2025-03-18T02:37:13.580377Z"
    }
   },
   "outputs": [
    {
     "ename": "NameError",
     "evalue": "name 'housing_model' is not defined",
     "output_type": "error",
     "traceback": [
      "\u001B[31m---------------------------------------------------------------------------\u001B[39m",
      "\u001B[31mNameError\u001B[39m                                 Traceback (most recent call last)",
      "\u001B[36mCell\u001B[39m\u001B[36m \u001B[39m\u001B[32mIn[153]\u001B[39m\u001B[32m, line 1\u001B[39m\n\u001B[32m----> \u001B[39m\u001B[32m1\u001B[39m \u001B[43mhousing_model\u001B[49m[\u001B[33m\"\u001B[39m\u001B[33mdtr\u001B[39m\u001B[33m\"\u001B[39m].feature_importances_.round(\u001B[32m3\u001B[39m)\n",
      "\u001B[31mNameError\u001B[39m: name 'housing_model' is not defined"
     ]
    }
   ],
   "execution_count": 153
  },
  {
   "cell_type": "code",
   "source": [
    "sorted(zip(housing_model[\"dtr\"].feature_importances_.round(3),\n",
    "       housing_model[\"transformation\"].get_feature_names_out()),\n",
    "       reverse=True)"
   ],
   "metadata": {
    "colab": {
     "base_uri": "https://localhost:8080/"
    },
    "id": "kAdZSxuZQ2rs",
    "outputId": "8832ad8a-1e7d-40bc-e4c3-f4867eb5e7fb",
    "ExecuteTime": {
     "end_time": "2025-03-18T02:37:13.740528Z",
     "start_time": "2025-03-18T02:37:13.719338Z"
    }
   },
   "outputs": [
    {
     "ename": "NameError",
     "evalue": "name 'housing_model' is not defined",
     "output_type": "error",
     "traceback": [
      "\u001B[31m---------------------------------------------------------------------------\u001B[39m",
      "\u001B[31mNameError\u001B[39m                                 Traceback (most recent call last)",
      "\u001B[36mCell\u001B[39m\u001B[36m \u001B[39m\u001B[32mIn[154]\u001B[39m\u001B[32m, line 1\u001B[39m\n\u001B[32m----> \u001B[39m\u001B[32m1\u001B[39m \u001B[38;5;28msorted\u001B[39m(\u001B[38;5;28mzip\u001B[39m(\u001B[43mhousing_model\u001B[49m[\u001B[33m\"\u001B[39m\u001B[33mdtr\u001B[39m\u001B[33m\"\u001B[39m].feature_importances_.round(\u001B[32m3\u001B[39m),\n\u001B[32m      2\u001B[39m        housing_model[\u001B[33m\"\u001B[39m\u001B[33mtransformation\u001B[39m\u001B[33m\"\u001B[39m].get_feature_names_out()),\n\u001B[32m      3\u001B[39m        reverse=\u001B[38;5;28;01mTrue\u001B[39;00m)\n",
      "\u001B[31mNameError\u001B[39m: name 'housing_model' is not defined"
     ]
    }
   ],
   "execution_count": 154
  },
  {
   "cell_type": "code",
   "source": [
    "mean_squared_error(test_target,\n",
    "                   housing_model.predict(test_features),\n",
    "                   squared=False)"
   ],
   "metadata": {
    "colab": {
     "base_uri": "https://localhost:8080/"
    },
    "id": "jeOl7vlXRkOF",
    "outputId": "2873d5fb-da5f-4079-b600-ba19cb6db785",
    "ExecuteTime": {
     "end_time": "2025-03-18T02:37:13.862927Z",
     "start_time": "2025-03-18T02:37:13.842685Z"
    }
   },
   "outputs": [
    {
     "ename": "NameError",
     "evalue": "name 'test_target' is not defined",
     "output_type": "error",
     "traceback": [
      "\u001B[31m---------------------------------------------------------------------------\u001B[39m",
      "\u001B[31mNameError\u001B[39m                                 Traceback (most recent call last)",
      "\u001B[36mCell\u001B[39m\u001B[36m \u001B[39m\u001B[32mIn[155]\u001B[39m\u001B[32m, line 1\u001B[39m\n\u001B[32m----> \u001B[39m\u001B[32m1\u001B[39m mean_squared_error(\u001B[43mtest_target\u001B[49m,\n\u001B[32m      2\u001B[39m                    housing_model.predict(test_features),\n\u001B[32m      3\u001B[39m                    squared=\u001B[38;5;28;01mFalse\u001B[39;00m)\n",
      "\u001B[31mNameError\u001B[39m: name 'test_target' is not defined"
     ]
    }
   ],
   "execution_count": 155
  },
  {
   "cell_type": "code",
   "source": [
    "from scipy import stats"
   ],
   "metadata": {
    "id": "DCOr1vLwTkC9",
    "ExecuteTime": {
     "end_time": "2025-03-18T02:37:14.014667Z",
     "start_time": "2025-03-18T02:37:14.011377Z"
    }
   },
   "outputs": [],
   "execution_count": 156
  },
  {
   "cell_type": "code",
   "source": [
    "ci = 0.95"
   ],
   "metadata": {
    "id": "p770ESMmWcs4",
    "ExecuteTime": {
     "end_time": "2025-03-18T02:37:14.137483Z",
     "start_time": "2025-03-18T02:37:14.134418Z"
    }
   },
   "outputs": [],
   "execution_count": 157
  },
  {
   "cell_type": "code",
   "source": [
    "se = (test_target.values - housing_model.predict(test_features))**2"
   ],
   "metadata": {
    "id": "Z9e-hfxbWeZY",
    "ExecuteTime": {
     "end_time": "2025-03-18T02:37:14.323543Z",
     "start_time": "2025-03-18T02:37:14.303462Z"
    }
   },
   "outputs": [
    {
     "ename": "NameError",
     "evalue": "name 'test_target' is not defined",
     "output_type": "error",
     "traceback": [
      "\u001B[31m---------------------------------------------------------------------------\u001B[39m",
      "\u001B[31mNameError\u001B[39m                                 Traceback (most recent call last)",
      "\u001B[36mCell\u001B[39m\u001B[36m \u001B[39m\u001B[32mIn[158]\u001B[39m\u001B[32m, line 1\u001B[39m\n\u001B[32m----> \u001B[39m\u001B[32m1\u001B[39m se = (\u001B[43mtest_target\u001B[49m.values - housing_model.predict(test_features))**\u001B[32m2\u001B[39m\n",
      "\u001B[31mNameError\u001B[39m: name 'test_target' is not defined"
     ]
    }
   ],
   "execution_count": 158
  },
  {
   "cell_type": "code",
   "source": [
    "np.sqrt(stats.t.interval(ci, \n",
    "                 len(se)-1,\n",
    "                 loc=np.mean(se),\n",
    "                 scale=stats.sem(se)))"
   ],
   "metadata": {
    "colab": {
     "base_uri": "https://localhost:8080/"
    },
    "id": "cPUaW4VCWncY",
    "outputId": "d8878400-5eb7-4a00-f432-52b70233bd57",
    "ExecuteTime": {
     "end_time": "2025-03-18T02:37:14.417445Z",
     "start_time": "2025-03-18T02:37:14.395941Z"
    }
   },
   "outputs": [
    {
     "ename": "NameError",
     "evalue": "name 'se' is not defined",
     "output_type": "error",
     "traceback": [
      "\u001B[31m---------------------------------------------------------------------------\u001B[39m",
      "\u001B[31mNameError\u001B[39m                                 Traceback (most recent call last)",
      "\u001B[36mCell\u001B[39m\u001B[36m \u001B[39m\u001B[32mIn[159]\u001B[39m\u001B[32m, line 2\u001B[39m\n\u001B[32m      1\u001B[39m np.sqrt(stats.t.interval(ci, \n\u001B[32m----> \u001B[39m\u001B[32m2\u001B[39m                  \u001B[38;5;28mlen\u001B[39m(\u001B[43mse\u001B[49m)-\u001B[32m1\u001B[39m,\n\u001B[32m      3\u001B[39m                  loc=np.mean(se),\n\u001B[32m      4\u001B[39m                  scale=stats.sem(se)))\n",
      "\u001B[31mNameError\u001B[39m: name 'se' is not defined"
     ]
    }
   ],
   "execution_count": 159
  },
  {
   "cell_type": "code",
   "source": [
    "import joblib"
   ],
   "metadata": {
    "id": "dRDQUro8Wxxf",
    "ExecuteTime": {
     "end_time": "2025-03-18T02:37:14.583942Z",
     "start_time": "2025-03-18T02:37:14.580579Z"
    }
   },
   "outputs": [],
   "execution_count": 160
  },
  {
   "cell_type": "code",
   "source": [
    "joblib.dump(housing_model, \"housing_model.pkl\")"
   ],
   "metadata": {
    "colab": {
     "base_uri": "https://localhost:8080/"
    },
    "id": "eMdr9vdFcN19",
    "outputId": "d25fa5ca-ec40-497c-b5fc-0e19f9c57b1e",
    "ExecuteTime": {
     "end_time": "2025-03-18T02:37:14.724803Z",
     "start_time": "2025-03-18T02:37:14.705129Z"
    }
   },
   "outputs": [
    {
     "ename": "NameError",
     "evalue": "name 'housing_model' is not defined",
     "output_type": "error",
     "traceback": [
      "\u001B[31m---------------------------------------------------------------------------\u001B[39m",
      "\u001B[31mNameError\u001B[39m                                 Traceback (most recent call last)",
      "\u001B[36mCell\u001B[39m\u001B[36m \u001B[39m\u001B[32mIn[161]\u001B[39m\u001B[32m, line 1\u001B[39m\n\u001B[32m----> \u001B[39m\u001B[32m1\u001B[39m joblib.dump(\u001B[43mhousing_model\u001B[49m, \u001B[33m\"\u001B[39m\u001B[33mhousing_model.pkl\u001B[39m\u001B[33m\"\u001B[39m)\n",
      "\u001B[31mNameError\u001B[39m: name 'housing_model' is not defined"
     ]
    }
   ],
   "execution_count": 161
  },
  {
   "cell_type": "code",
   "source": [
    "housing_model_loaded = joblib.load(\"housing_model.pkl\")"
   ],
   "metadata": {
    "id": "NkcZrkzWcUp5",
    "ExecuteTime": {
     "end_time": "2025-03-18T02:37:14.933992Z",
     "start_time": "2025-03-18T02:37:14.886748Z"
    }
   },
   "outputs": [
    {
     "ename": "FileNotFoundError",
     "evalue": "[Errno 2] No such file or directory: 'housing_model.pkl'",
     "output_type": "error",
     "traceback": [
      "\u001B[31m---------------------------------------------------------------------------\u001B[39m",
      "\u001B[31mFileNotFoundError\u001B[39m                         Traceback (most recent call last)",
      "\u001B[36mCell\u001B[39m\u001B[36m \u001B[39m\u001B[32mIn[162]\u001B[39m\u001B[32m, line 1\u001B[39m\n\u001B[32m----> \u001B[39m\u001B[32m1\u001B[39m housing_model_loaded = \u001B[43mjoblib\u001B[49m\u001B[43m.\u001B[49m\u001B[43mload\u001B[49m\u001B[43m(\u001B[49m\u001B[33;43m\"\u001B[39;49m\u001B[33;43mhousing_model.pkl\u001B[39;49m\u001B[33;43m\"\u001B[39;49m\u001B[43m)\u001B[49m\n",
      "\u001B[36mFile \u001B[39m\u001B[32mE:\\Python_Programming\\l4_ai\\mine_machin_FeMn\\env_machin_learining\\Lib\\site-packages\\joblib\\numpy_pickle.py:650\u001B[39m, in \u001B[36mload\u001B[39m\u001B[34m(filename, mmap_mode)\u001B[39m\n\u001B[32m    648\u001B[39m         obj = _unpickle(fobj)\n\u001B[32m    649\u001B[39m \u001B[38;5;28;01melse\u001B[39;00m:\n\u001B[32m--> \u001B[39m\u001B[32m650\u001B[39m     \u001B[38;5;28;01mwith\u001B[39;00m \u001B[38;5;28;43mopen\u001B[39;49m\u001B[43m(\u001B[49m\u001B[43mfilename\u001B[49m\u001B[43m,\u001B[49m\u001B[43m \u001B[49m\u001B[33;43m'\u001B[39;49m\u001B[33;43mrb\u001B[39;49m\u001B[33;43m'\u001B[39;49m\u001B[43m)\u001B[49m \u001B[38;5;28;01mas\u001B[39;00m f:\n\u001B[32m    651\u001B[39m         \u001B[38;5;28;01mwith\u001B[39;00m _read_fileobject(f, filename, mmap_mode) \u001B[38;5;28;01mas\u001B[39;00m fobj:\n\u001B[32m    652\u001B[39m             \u001B[38;5;28;01mif\u001B[39;00m \u001B[38;5;28misinstance\u001B[39m(fobj, \u001B[38;5;28mstr\u001B[39m):\n\u001B[32m    653\u001B[39m                 \u001B[38;5;66;03m# if the returned file object is a string, this means we\u001B[39;00m\n\u001B[32m    654\u001B[39m                 \u001B[38;5;66;03m# try to load a pickle file generated with an version of\u001B[39;00m\n\u001B[32m    655\u001B[39m                 \u001B[38;5;66;03m# Joblib so we load it with joblib compatibility function.\u001B[39;00m\n",
      "\u001B[31mFileNotFoundError\u001B[39m: [Errno 2] No such file or directory: 'housing_model.pkl'"
     ]
    }
   ],
   "execution_count": 162
  },
  {
   "cell_type": "code",
   "source": [
    "housing_model_loaded"
   ],
   "metadata": {
    "colab": {
     "base_uri": "https://localhost:8080/",
     "height": 295
    },
    "id": "hizc4YcFcpdm",
    "outputId": "decfb733-5fda-434d-8537-d1801ac1aa45",
    "ExecuteTime": {
     "end_time": "2025-03-18T02:37:15.013869Z",
     "start_time": "2025-03-18T02:37:14.994366Z"
    }
   },
   "outputs": [
    {
     "ename": "NameError",
     "evalue": "name 'housing_model_loaded' is not defined",
     "output_type": "error",
     "traceback": [
      "\u001B[31m---------------------------------------------------------------------------\u001B[39m",
      "\u001B[31mNameError\u001B[39m                                 Traceback (most recent call last)",
      "\u001B[36mCell\u001B[39m\u001B[36m \u001B[39m\u001B[32mIn[163]\u001B[39m\u001B[32m, line 1\u001B[39m\n\u001B[32m----> \u001B[39m\u001B[32m1\u001B[39m \u001B[43mhousing_model_loaded\u001B[49m\n",
      "\u001B[31mNameError\u001B[39m: name 'housing_model_loaded' is not defined"
     ]
    }
   ],
   "execution_count": 163
  },
  {
   "cell_type": "code",
   "source": [
    "# ML operations (MLOps)"
   ],
   "metadata": {
    "id": "VHM8mPpgcqaC",
    "ExecuteTime": {
     "end_time": "2025-03-18T02:37:15.165564Z",
     "start_time": "2025-03-18T02:37:15.162519Z"
    }
   },
   "outputs": [],
   "execution_count": 164
  }
 ]
}
